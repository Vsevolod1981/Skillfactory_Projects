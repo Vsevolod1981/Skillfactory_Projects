{
 "cells": [
  {
   "cell_type": "code",
   "execution_count": 0,
   "metadata": {
    "_cell_guid": "b1076dfc-b9ad-4769-8c92-a6c4dae69d19",
    "_uuid": "8f2839f25d086af736a60e9eeb907d3b93b6e0e5",
    "colab": {},
    "colab_type": "code",
    "id": "U2D2gTdJVp90"
   },
   "outputs": [],
   "source": [
    "import numpy as np\n",
    "import pandas as pd\n",
    "import seaborn as sns\n",
    "import matplotlib.pyplot as plt\n",
    "from collections import Counter"
   ]
  },
  {
   "cell_type": "code",
   "execution_count": 0,
   "metadata": {
    "_cell_guid": "79c7e3d0-c299-4dcb-8224-4455121ee9b0",
    "_uuid": "d629ff2d2480ee46fbb7e2d37f6b5fab8052498a",
    "colab": {},
    "colab_type": "code",
    "id": "oyGfxL3eVp9-"
   },
   "outputs": [],
   "source": [
    "data = pd.read_csv('movie_bd_v5.csv')\n",
    "data.sample(5)"
   ]
  },
  {
   "cell_type": "code",
   "execution_count": 0,
   "metadata": {
    "colab": {},
    "colab_type": "code",
    "id": "CoYUnagMVp-C"
   },
   "outputs": [],
   "source": [
    "data.describe()"
   ]
  },
  {
   "cell_type": "markdown",
   "metadata": {
    "colab_type": "text",
    "id": "DTIt7ezGVp-G"
   },
   "source": [
    "# Предобработка"
   ]
  },
  {
   "cell_type": "code",
   "execution_count": 33,
   "metadata": {
    "colab": {},
    "colab_type": "code",
    "id": "jNb40DwKVp-H"
   },
   "outputs": [
    {
     "name": "stdout",
     "output_type": "stream",
     "text": [
      "Overwriting basic_imports.py\n"
     ]
    }
   ],
   "source": [
    "%%writefile basic_imports.py\n",
    "\n",
    "# Функции:\n",
    "def most_frequent(List):# Функция определяет наиболее часто встречающийся элемент в списке.\n",
    "    return max(set(List), key = List.count)\n",
    "\n",
    "def revenue_transformation(x): # Функция возвращает значение для максимального элемента столбца и 'not_max' для остальных.\n",
    "    if x == grouped_data['revenue'].max():\n",
    "        return x\n",
    "    else:\n",
    "        return 'not_max'\n",
    "    \n",
    "def summer_movie_search(x): # Функция ищет фильмы вышедщие летом и ставит в столбце release_date 'summer'.\n",
    "    x = str(x)\n",
    "    if x[0] == '6':\n",
    "        return 'summer'\n",
    "    elif x[0] == '7':\n",
    "        return 'summer'\n",
    "    elif x[0] == '8':\n",
    "        return 'summer'\n",
    "    else:\n",
    "        return x\n",
    "\n",
    "def winter_movie_search(x):\n",
    "    x = str(x)\n",
    "    if x[0] == '12':\n",
    "        return 'winter'\n",
    "    elif x[0] == '1':\n",
    "        return 'winter'\n",
    "    elif x[0] == '2':\n",
    "        return 'winter'\n",
    "    else:\n",
    "        return x\n",
    "    \n",
    "answers = {} # создадим словарь для ответов\n",
    "\n",
    "from itertools import combinations\n",
    "from itertools import chain\n",
    "from collections import Counter\n",
    "import pandas as pd\n",
    "data = pd.read_csv('D:\\Data Scientist_Skill Factory\\Folders with data/Unit_1_Project/movie_bd_v5.csv')"
   ]
  },
  {
   "cell_type": "markdown",
   "metadata": {
    "colab_type": "text",
    "id": "YxZaH-nPVp-L"
   },
   "source": [
    "# 1. У какого фильма из списка самый большой бюджет?"
   ]
  },
  {
   "cell_type": "markdown",
   "metadata": {
    "colab_type": "text",
    "id": "Nd-G5gX6Vp-M"
   },
   "source": [
    "Использовать варианты ответов в коде решения запрещено.    \n",
    "Вы думаете и в жизни у вас будут варианты ответов?)"
   ]
  },
  {
   "cell_type": "code",
   "execution_count": 90,
   "metadata": {
    "colab": {},
    "colab_type": "code",
    "id": "uVnXAY5RVp-O"
   },
   "outputs": [],
   "source": [
    "# в словарь вставляем номер вопроса и ваш ответ на него\n",
    "# Пример: \n",
    "#answers['1'] = '2. Spider-Man 3 (tt0413300)'\n",
    "# запишите свой вариант ответа\n",
    "answers = {} # создадим словарь для ответов\n",
    "answers['1'] = 'Pirates of the Caribbean: On Stranger Tides'\n",
    "# +"
   ]
  },
  {
   "cell_type": "code",
   "execution_count": 91,
   "metadata": {
    "colab": {},
    "colab_type": "code",
    "id": "dZwb3m28Vp-S"
   },
   "outputs": [
    {
     "data": {
      "text/plain": [
       "723    Pirates of the Caribbean: On Stranger Tides\n",
       "Name: original_title, dtype: object"
      ]
     },
     "execution_count": 91,
     "metadata": {},
     "output_type": "execute_result"
    }
   ],
   "source": [
    "# %load basic_imports.py\n",
    "\n",
    "import pandas as pd\n",
    "data = pd.read_csv('D:\\Data Scientist_Skill Factory\\Folders with data/Unit_1_Project/movie_bd_v5.csv')\n",
    "\n",
    "data[data.budget == data.budget.max()].original_title"
   ]
  },
  {
   "cell_type": "markdown",
   "metadata": {
    "colab_type": "text",
    "id": "K7L3nbRXVp-X"
   },
   "source": [
    "ВАРИАНТ 2"
   ]
  },
  {
   "cell_type": "code",
   "execution_count": 0,
   "metadata": {
    "colab": {},
    "colab_type": "code",
    "id": "OGaoQI7rVp-X"
   },
   "outputs": [],
   "source": [
    "# можно добавлять разные варианты решения"
   ]
  },
  {
   "cell_type": "markdown",
   "metadata": {
    "colab_type": "text",
    "id": "FNRbbI3vVp-c"
   },
   "source": [
    "# 2. Какой из фильмов самый длительный (в минутах)?"
   ]
  },
  {
   "cell_type": "code",
   "execution_count": 92,
   "metadata": {
    "colab": {},
    "colab_type": "code",
    "id": "vHAoEXNTVp-d"
   },
   "outputs": [],
   "source": [
    "# думаю логику работы с этим словарем вы уже поняли, \n",
    "# по этому не буду больше его дублировать\n",
    "answers['2'] = 'Gods and Generals'"
   ]
  },
  {
   "cell_type": "code",
   "execution_count": 93,
   "metadata": {
    "colab": {},
    "colab_type": "code",
    "id": "ot-VX2XrVp-g"
   },
   "outputs": [
    {
     "data": {
      "text/plain": [
       "1157    Gods and Generals\n",
       "Name: original_title, dtype: object"
      ]
     },
     "execution_count": 93,
     "metadata": {},
     "output_type": "execute_result"
    }
   ],
   "source": [
    "# %load basic_imports.py\n",
    "\n",
    "\n",
    "import pandas as pd\n",
    "data = pd.read_csv('D:\\Data Scientist_Skill Factory\\Folders with data/Unit_1_Project/movie_bd_v5.csv')\n",
    "\n",
    "data[data.runtime == data.runtime.max()].original_title"
   ]
  },
  {
   "cell_type": "markdown",
   "metadata": {
    "colab_type": "text",
    "id": "bapLlpW8Vp-k"
   },
   "source": [
    "# 3. Какой из фильмов самый короткий (в минутах)?\n",
    "\n",
    "\n",
    "\n"
   ]
  },
  {
   "cell_type": "code",
   "execution_count": 94,
   "metadata": {
    "colab": {},
    "colab_type": "code",
    "id": "YBxaSHuAVp-l"
   },
   "outputs": [],
   "source": [
    "answers['3'] = 'Winnie the Pooh'"
   ]
  },
  {
   "cell_type": "code",
   "execution_count": 95,
   "metadata": {},
   "outputs": [
    {
     "data": {
      "text/plain": [
       "768    Winnie the Pooh\n",
       "Name: original_title, dtype: object"
      ]
     },
     "execution_count": 95,
     "metadata": {},
     "output_type": "execute_result"
    }
   ],
   "source": [
    "# %load basic_imports.py\n",
    "\n",
    "import pandas as pd\n",
    "data = pd.read_csv('D:\\Data Scientist_Skill Factory\\Folders with data/Unit_1_Project/movie_bd_v5.csv')\n",
    "\n",
    "data[data.runtime == data.runtime.min()].original_title"
   ]
  },
  {
   "cell_type": "markdown",
   "metadata": {
    "colab_type": "text",
    "id": "TfQbxbfNVp-p"
   },
   "source": [
    "# 4. Какова средняя длительность фильмов?\n"
   ]
  },
  {
   "cell_type": "code",
   "execution_count": 96,
   "metadata": {
    "colab": {},
    "colab_type": "code",
    "id": "5K6dKZYVVp-q"
   },
   "outputs": [],
   "source": [
    "answers['4'] = '110'"
   ]
  },
  {
   "cell_type": "code",
   "execution_count": 97,
   "metadata": {},
   "outputs": [
    {
     "data": {
      "text/plain": [
       "109.6585494970884"
      ]
     },
     "execution_count": 97,
     "metadata": {},
     "output_type": "execute_result"
    }
   ],
   "source": [
    "# %load basic_imports.py\n",
    "\n",
    "import pandas as pd\n",
    "data = pd.read_csv('D:\\Data Scientist_Skill Factory\\Folders with data/Unit_1_Project/movie_bd_v5.csv')\n",
    "\n",
    "data.runtime.mean()"
   ]
  },
  {
   "cell_type": "markdown",
   "metadata": {
    "colab_type": "text",
    "id": "r5TvbnT_Vp-u"
   },
   "source": [
    "# 5. Каково медианное значение длительности фильмов? "
   ]
  },
  {
   "cell_type": "code",
   "execution_count": 98,
   "metadata": {
    "colab": {},
    "colab_type": "code",
    "id": "iBROplKnVp-v"
   },
   "outputs": [],
   "source": [
    "# лучше код получения столбца profit вынести в Предобработку что в начале - я не создаю здесь столбец profit\n",
    "answers['5'] = '107'"
   ]
  },
  {
   "cell_type": "code",
   "execution_count": 99,
   "metadata": {},
   "outputs": [
    {
     "data": {
      "text/plain": [
       "107.0"
      ]
     },
     "execution_count": 99,
     "metadata": {},
     "output_type": "execute_result"
    }
   ],
   "source": [
    "# %load basic_imports.py\n",
    "\n",
    "import pandas as pd\n",
    "data = pd.read_csv('D:\\Data Scientist_Skill Factory\\Folders with data/Unit_1_Project/movie_bd_v5.csv')\n",
    "\n",
    "data.runtime.median()"
   ]
  },
  {
   "cell_type": "markdown",
   "metadata": {
    "colab_type": "text",
    "id": "39P-deDSVp-y"
   },
   "source": [
    "# 6. Какой самый прибыльный фильм?\n",
    "#### Внимание! Здесь и далее под «прибылью» или «убытками» понимается разность между сборами и бюджетом фильма. (прибыль = сборы - бюджет) в нашем датасете это будет (profit = revenue - budget) "
   ]
  },
  {
   "cell_type": "code",
   "execution_count": 100,
   "metadata": {
    "colab": {},
    "colab_type": "code",
    "id": "UYZh4T9WVp-y"
   },
   "outputs": [],
   "source": [
    "# лучше код получения столбца profit вынести в Предобработку что в начале - я не создаю здесь столбец profit\n",
    "answers['6'] = 'Avatar'"
   ]
  },
  {
   "cell_type": "code",
   "execution_count": 101,
   "metadata": {},
   "outputs": [
    {
     "data": {
      "text/plain": [
       "239    Avatar\n",
       "Name: original_title, dtype: object"
      ]
     },
     "execution_count": 101,
     "metadata": {},
     "output_type": "execute_result"
    }
   ],
   "source": [
    "# %load basic_imports.py\n",
    "\n",
    "import pandas as pd\n",
    "data = pd.read_csv('D:\\Data Scientist_Skill Factory\\Folders with data/Unit_1_Project/movie_bd_v5.csv')\n",
    "\n",
    "data[(data.revenue - data.budget) == (data.revenue - data.budget).max()].original_title"
   ]
  },
  {
   "cell_type": "markdown",
   "metadata": {
    "colab_type": "text",
    "id": "M99JmIX4Vp-2"
   },
   "source": [
    "# 7. Какой фильм самый убыточный? "
   ]
  },
  {
   "cell_type": "code",
   "execution_count": 102,
   "metadata": {
    "colab": {},
    "colab_type": "code",
    "id": "w-D2m4XPVp-3"
   },
   "outputs": [],
   "source": [
    "answers['7'] = 'The Lone Ranger'"
   ]
  },
  {
   "cell_type": "code",
   "execution_count": 103,
   "metadata": {},
   "outputs": [
    {
     "data": {
      "text/plain": [
       "1245    The Lone Ranger\n",
       "Name: original_title, dtype: object"
      ]
     },
     "execution_count": 103,
     "metadata": {},
     "output_type": "execute_result"
    }
   ],
   "source": [
    "# %load basic_imports.py\n",
    "\n",
    "import pandas as pd\n",
    "data = pd.read_csv('D:\\Data Scientist_Skill Factory\\Folders with data/Unit_1_Project/movie_bd_v5.csv')\n",
    "\n",
    "data[(data.revenue - data.budget) == (data.revenue - data.budget).min()].original_title"
   ]
  },
  {
   "cell_type": "markdown",
   "metadata": {
    "colab_type": "text",
    "id": "wEOM5ERVVp-6"
   },
   "source": [
    "# 8. У скольких фильмов из датасета объем сборов оказался выше бюджета?"
   ]
  },
  {
   "cell_type": "code",
   "execution_count": 104,
   "metadata": {
    "colab": {},
    "colab_type": "code",
    "id": "y00_7HD6Vp-7"
   },
   "outputs": [],
   "source": [
    "answers['8'] = '1478'"
   ]
  },
  {
   "cell_type": "code",
   "execution_count": 105,
   "metadata": {},
   "outputs": [
    {
     "data": {
      "text/plain": [
       "1478"
      ]
     },
     "metadata": {},
     "output_type": "display_data"
    }
   ],
   "source": [
    "# %load basic_imports.py\n",
    "\n",
    "import pandas as pd\n",
    "data = pd.read_csv('D:\\Data Scientist_Skill Factory\\Folders with data/Unit_1_Project/movie_bd_v5.csv')\n",
    "\n",
    "s = data[(data.revenue - data.budget) > 0].value_counts()\n",
    "display(len(s.index))"
   ]
  },
  {
   "cell_type": "markdown",
   "metadata": {
    "colab_type": "text",
    "id": "xhpspA9KVp_A"
   },
   "source": [
    "# 9. Какой фильм оказался самым кассовым в 2008 году?"
   ]
  },
  {
   "cell_type": "code",
   "execution_count": 106,
   "metadata": {
    "colab": {},
    "colab_type": "code",
    "id": "MoUyQr9RVp_B"
   },
   "outputs": [],
   "source": [
    "answers['9'] = 'The Dark Knight'"
   ]
  },
  {
   "cell_type": "code",
   "execution_count": 107,
   "metadata": {},
   "outputs": [
    {
     "data": {
      "text/plain": [
       "599    The Dark Knight\n",
       "Name: original_title, dtype: object"
      ]
     },
     "execution_count": 107,
     "metadata": {},
     "output_type": "execute_result"
    }
   ],
   "source": [
    "# %load basic_imports.py\n",
    "\n",
    "import pandas as pd\n",
    "data = pd.read_csv('D:\\Data Scientist_Skill Factory\\Folders with data/Unit_1_Project/movie_bd_v5.csv')\n",
    "\n",
    "data1 = data[data.release_year == 2008]\n",
    "data1[data1.revenue == data1.revenue.max()].original_title"
   ]
  },
  {
   "cell_type": "markdown",
   "metadata": {
    "colab_type": "text",
    "id": "Zi4hDKidVp_F"
   },
   "source": [
    "# 10. Самый убыточный фильм за период с 2012 по 2014 г. (включительно)?\n"
   ]
  },
  {
   "cell_type": "code",
   "execution_count": 108,
   "metadata": {
    "colab": {},
    "colab_type": "code",
    "id": "XqyRmufJVp_F"
   },
   "outputs": [],
   "source": [
    "answers['10'] = 'The Lone Ranger'"
   ]
  },
  {
   "cell_type": "code",
   "execution_count": 109,
   "metadata": {},
   "outputs": [
    {
     "data": {
      "text/plain": [
       "1245    The Lone Ranger\n",
       "Name: original_title, dtype: object"
      ]
     },
     "execution_count": 109,
     "metadata": {},
     "output_type": "execute_result"
    }
   ],
   "source": [
    "# %load basic_imports.py\n",
    "\n",
    "import pandas as pd\n",
    "data = pd.read_csv('D:\\Data Scientist_Skill Factory\\Folders with data/Unit_1_Project/movie_bd_v5.csv')\n",
    "\n",
    "data1 = data[(data.release_year>=2012)&(data.release_year<=2014)]\n",
    "data1[(data1.revenue - data1.budget) == (data1.revenue - data1.budget).min()].original_title"
   ]
  },
  {
   "cell_type": "markdown",
   "metadata": {
    "colab_type": "text",
    "id": "EA7Sa9dkVp_I"
   },
   "source": [
    "# 11. Какого жанра фильмов больше всего?"
   ]
  },
  {
   "cell_type": "code",
   "execution_count": 110,
   "metadata": {
    "colab": {},
    "colab_type": "code",
    "id": "zsJAwJ8QVp_J"
   },
   "outputs": [],
   "source": [
    "# эту задачу тоже можно решать разными подходами, попробуй реализовать разные варианты\n",
    "# если будешь добавлять функцию - выноси ее в предобработку что в начале\n",
    "answers['11'] = 'Drama'"
   ]
  },
  {
   "cell_type": "code",
   "execution_count": 111,
   "metadata": {
    "colab": {},
    "colab_type": "code",
    "id": "otO3SbrSVp_N"
   },
   "outputs": [
    {
     "name": "stdout",
     "output_type": "stream",
     "text": [
      "Drama\n"
     ]
    }
   ],
   "source": [
    "# %load basic_imports.py\n",
    "\n",
    "# Функции:\n",
    "def most_frequent(List):# Функция определяет наиболее часто встречающийся элемент в списке.\n",
    "    return max(set(List), key = List.count)\n",
    "\n",
    "\n",
    "import pandas as pd\n",
    "data = pd.read_csv('D:\\Data Scientist_Skill Factory\\Folders with data/Unit_1_Project/movie_bd_v5.csv')\n",
    "\n",
    "genres_list1 =[]# Создаем пустой список genres_list_1.\n",
    "genres_list = data.genres.tolist()# Переписываем столбец 'genres' в список genres list.\n",
    "\n",
    "for i in range (0, (len(genres_list)-1)):# Этим циклом записываем в genres_list_1 каждый жанр, каждый раз когда встречаем.\n",
    "    ls = genres_list[i].split('|')       \n",
    "    for j in range (0, (len(ls)-1)):\n",
    "        genres_list1.append(ls[j])\n",
    "        \n",
    "print(most_frequent(genres_list1))# С помощью функции most_frequent определяем наиболее частый элемент в genres_list_1"
   ]
  },
  {
   "cell_type": "markdown",
   "metadata": {
    "colab_type": "text",
    "id": "T9_bPWpkVp_Q"
   },
   "source": [
    "# 12. Фильмы какого жанра чаще всего становятся прибыльными? "
   ]
  },
  {
   "cell_type": "code",
   "execution_count": 112,
   "metadata": {
    "colab": {},
    "colab_type": "code",
    "id": "Tmt8MaK1Vp_R"
   },
   "outputs": [],
   "source": [
    "answers['12'] = 'Drama'"
   ]
  },
  {
   "cell_type": "code",
   "execution_count": 113,
   "metadata": {},
   "outputs": [
    {
     "name": "stdout",
     "output_type": "stream",
     "text": [
      "Drama\n"
     ]
    }
   ],
   "source": [
    "# %load basic_imports.py\n",
    "\n",
    "# Функции:\n",
    "def most_frequent(List):# Функция определяет наиболее часто встречающийся элемент в списке.\n",
    "    return max(set(List), key = List.count)\n",
    "\n",
    "import pandas as pd\n",
    "data = pd.read_csv('D:\\Data Scientist_Skill Factory\\Folders with data/Unit_1_Project/movie_bd_v5.csv')\n",
    "\n",
    "data_profitable = data[(data.revenue - data.budget) > 0]# Оставили в датафрейме только прибыльные фильмы.\n",
    "\n",
    "genres_list1 =[]# Создаем пустой список genres_list_1.\n",
    "genres_list = data_profitable.genres.tolist()# Переписываем столбец 'genres' в список genres list.\n",
    "\n",
    "for i in range (0, (len(genres_list)-1)):# Этим циклом записываем в genres_list_1 каждый жанр, каждый раз когда встречаем.\n",
    "    ls = genres_list[i].split('|')\n",
    "    for j in range (0, (len(ls)-1)):\n",
    "        genres_list1.append(ls[j])\n",
    "        \n",
    "print(most_frequent(genres_list1))# С помощью функции most_frequent определяем наиболее частый элемент в genres_list_1"
   ]
  },
  {
   "cell_type": "markdown",
   "metadata": {
    "colab_type": "text",
    "id": "0F23bgsDVp_U"
   },
   "source": [
    "# 13. У какого режиссера самые большие суммарные кассовые сборы?"
   ]
  },
  {
   "cell_type": "code",
   "execution_count": 114,
   "metadata": {
    "colab": {},
    "colab_type": "code",
    "id": "K6Z3J8ygVp_X"
   },
   "outputs": [],
   "source": [
    "answers['13'] = 'Peter Jackson'"
   ]
  },
  {
   "cell_type": "code",
   "execution_count": 115,
   "metadata": {},
   "outputs": [
    {
     "data": {
      "text/html": [
       "<div>\n",
       "<style scoped>\n",
       "    .dataframe tbody tr th:only-of-type {\n",
       "        vertical-align: middle;\n",
       "    }\n",
       "\n",
       "    .dataframe tbody tr th {\n",
       "        vertical-align: top;\n",
       "    }\n",
       "\n",
       "    .dataframe thead th {\n",
       "        text-align: right;\n",
       "    }\n",
       "</style>\n",
       "<table border=\"1\" class=\"dataframe\">\n",
       "  <thead>\n",
       "    <tr style=\"text-align: right;\">\n",
       "      <th></th>\n",
       "      <th>budget</th>\n",
       "      <th>revenue</th>\n",
       "      <th>runtime</th>\n",
       "      <th>vote_average</th>\n",
       "      <th>release_year</th>\n",
       "    </tr>\n",
       "    <tr>\n",
       "      <th>director</th>\n",
       "      <th></th>\n",
       "      <th></th>\n",
       "      <th></th>\n",
       "      <th></th>\n",
       "      <th></th>\n",
       "    </tr>\n",
       "  </thead>\n",
       "  <tbody>\n",
       "    <tr>\n",
       "      <th>Peter Jackson</th>\n",
       "      <td>1288000000</td>\n",
       "      <td>6490593685</td>\n",
       "      <td>1355</td>\n",
       "      <td>58.1</td>\n",
       "      <td>16059</td>\n",
       "    </tr>\n",
       "  </tbody>\n",
       "</table>\n",
       "</div>"
      ],
      "text/plain": [
       "                   budget     revenue  runtime  vote_average  release_year\n",
       "director                                                                  \n",
       "Peter Jackson  1288000000  6490593685     1355          58.1         16059"
      ]
     },
     "metadata": {},
     "output_type": "display_data"
    }
   ],
   "source": [
    "# %load basic_imports.py\n",
    "\n",
    "# Функции:\n",
    "def most_frequent(List):# Функция определяет наиболее часто встречающийся элемент в списке.\n",
    "    return max(set(List), key = List.count)\n",
    "\n",
    "def revenue_transformation(x): # Функция возвращает значение для максимального элемента столбца и 'not_max' для остальных.\n",
    "    if x == grouped_data['revenue'].max():\n",
    "        return x\n",
    "    else:\n",
    "        return 'not_max'\n",
    "\n",
    "import pandas as pd\n",
    "data = pd.read_csv('D:\\Data Scientist_Skill Factory\\Folders with data/Unit_1_Project/movie_bd_v5.csv')\n",
    "\n",
    "grouped_data = data.groupby(['director']).sum()# Сгруппировали data по director.\n",
    "grouped_data['revenue'] = grouped_data.revenue.apply(revenue_transformation)# Применили revenue_transformation для grouped_data.\n",
    "grouped_data1 = grouped_data[~grouped_data.revenue.str.contains(\"not\", na=False)]# Убрали строки где revenue = not_max.\n",
    "display(grouped_data1)"
   ]
  },
  {
   "cell_type": "markdown",
   "metadata": {
    "colab_type": "text",
    "id": "PsYC9FgRVp_a"
   },
   "source": [
    "# 14. Какой режисер снял больше всего фильмов в стиле Action?"
   ]
  },
  {
   "cell_type": "code",
   "execution_count": 116,
   "metadata": {
    "colab": {},
    "colab_type": "code",
    "id": "wd2M-wHeVp_b"
   },
   "outputs": [],
   "source": [
    "answers['14'] = 'Robert Rodriguez'# Robert Rodriguez снял 6 Action фильмов. Michael Bay и Paul W.S. Anderson сняли по 7, но их \n",
    "#нет среди предложенных вариантов, как и Antoine Fuqua с Ridley Scott, так же снявших по 6 Action фильмов."
   ]
  },
  {
   "cell_type": "code",
   "execution_count": 117,
   "metadata": {},
   "outputs": [
    {
     "data": {
      "text/plain": [
       "Michael Bay           7\n",
       "Paul W.S. Anderson    7\n",
       "Ridley Scott          6\n",
       "Robert Rodriguez      6\n",
       "Antoine Fuqua         6\n",
       "                     ..\n",
       "Scott Waugh           1\n",
       "Stuart Baird          1\n",
       "Kerry Conran          1\n",
       "Pitof                 1\n",
       "Rupert Wyatt          1\n",
       "Name: director, Length: 345, dtype: int64"
      ]
     },
     "metadata": {},
     "output_type": "display_data"
    }
   ],
   "source": [
    "# %load basic_imports.py\n",
    "\n",
    "# Функции:\n",
    "def most_frequent(List):# Функция определяет наиболее часто встречающийся элемент в списке.\n",
    "    return max(set(List), key = List.count)\n",
    "\n",
    "def revenue_transformation(x): # Функция возвращает значение для максимального элемента столбца и 'not_max' для остальных.\n",
    "    if x == grouped_data['revenue'].max():\n",
    "        return x\n",
    "    else:\n",
    "        return 'not_max'\n",
    "\n",
    "import pandas as pd\n",
    "data = pd.read_csv('D:\\Data Scientist_Skill Factory\\Folders with data/Unit_1_Project/movie_bd_v5.csv')\n",
    "\n",
    "data_action = data[data.genres.str.contains(\"Action\", na=False)]#Оставили в датафрейме только фильмы Action.\n",
    "director_action = data_action.director.value_counts()# Преобразовали столбец director из data_action в серию director_action. \n",
    "display(director_action)"
   ]
  },
  {
   "cell_type": "markdown",
   "metadata": {
    "colab_type": "text",
    "id": "PQ0KciD7Vp_f"
   },
   "source": [
    "# 15. Фильмы с каким актером принесли самые высокие кассовые сборы в 2012 году? "
   ]
  },
  {
   "cell_type": "code",
   "execution_count": 118,
   "metadata": {
    "colab": {},
    "colab_type": "code",
    "id": "aga62oeKVp_g"
   },
   "outputs": [],
   "source": [
    "answers['15'] = 'Chris Hemsworth'"
   ]
  },
  {
   "cell_type": "code",
   "execution_count": 119,
   "metadata": {},
   "outputs": [
    {
     "name": "stderr",
     "output_type": "stream",
     "text": [
      "<ipython-input-119-471cf0b26767>:17: SettingWithCopyWarning: \n",
      "A value is trying to be set on a copy of a slice from a DataFrame.\n",
      "Try using .loc[row_indexer,col_indexer] = value instead\n",
      "\n",
      "See the caveats in the documentation: https://pandas.pydata.org/pandas-docs/stable/user_guide/indexing.html#returning-a-view-versus-a-copy\n",
      "  data_2012['cast'] = data_2012['cast'].str.split('|')#Разделяем содержимое столбца cast по '|'.\n"
     ]
    },
    {
     "data": {
      "text/html": [
       "<div>\n",
       "<style scoped>\n",
       "    .dataframe tbody tr th:only-of-type {\n",
       "        vertical-align: middle;\n",
       "    }\n",
       "\n",
       "    .dataframe tbody tr th {\n",
       "        vertical-align: top;\n",
       "    }\n",
       "\n",
       "    .dataframe thead th {\n",
       "        text-align: right;\n",
       "    }\n",
       "</style>\n",
       "<table border=\"1\" class=\"dataframe\">\n",
       "  <thead>\n",
       "    <tr style=\"text-align: right;\">\n",
       "      <th></th>\n",
       "      <th>budget</th>\n",
       "      <th>revenue</th>\n",
       "      <th>runtime</th>\n",
       "      <th>vote_average</th>\n",
       "      <th>release_year</th>\n",
       "    </tr>\n",
       "    <tr>\n",
       "      <th>cast</th>\n",
       "      <th></th>\n",
       "      <th></th>\n",
       "      <th></th>\n",
       "      <th></th>\n",
       "      <th></th>\n",
       "    </tr>\n",
       "  </thead>\n",
       "  <tbody>\n",
       "    <tr>\n",
       "      <th>Chris Hemsworth</th>\n",
       "      <td>485000000</td>\n",
       "      <td>2027450773</td>\n",
       "      <td>458</td>\n",
       "      <td>24.8</td>\n",
       "      <td>8048</td>\n",
       "    </tr>\n",
       "  </tbody>\n",
       "</table>\n",
       "</div>"
      ],
      "text/plain": [
       "                    budget     revenue  runtime  vote_average  release_year\n",
       "cast                                                                       \n",
       "Chris Hemsworth  485000000  2027450773      458          24.8          8048"
      ]
     },
     "metadata": {},
     "output_type": "display_data"
    }
   ],
   "source": [
    "# %load basic_imports.py\n",
    "\n",
    "# Функции:\n",
    "def most_frequent(List):# Функция определяет наиболее часто встречающийся элемент в списке.\n",
    "    return max(set(List), key = List.count)\n",
    "\n",
    "def revenue_transformation(x): # Функция возвращает значение для максимального элемента столбца и 'not_max' для остальных.\n",
    "    if x == grouped_data['revenue'].max():\n",
    "        return x\n",
    "    else:\n",
    "        return 'not_max'\n",
    "\n",
    "import pandas as pd\n",
    "data = pd.read_csv('D:\\Data Scientist_Skill Factory\\Folders with data/Unit_1_Project/movie_bd_v5.csv')\n",
    "\n",
    "data_2012 = data[data.release_year ==2012]# Оставляем в датафрейме только фильмы 2012-го года.\n",
    "data_2012['cast'] = data_2012['cast'].str.split('|')#Разделяем содержимое столбца cast по '|'.\n",
    "data_2012 = data_2012.explode('cast')#Копируем строки где столбец cast содержит много элементов и кидаем элементы по копиям.\n",
    "grouped_data = data_2012.groupby(['cast']).sum()#Группируем датафрейм по cast.\n",
    "display(grouped_data[grouped_data.revenue == grouped_data.revenue.max()])"
   ]
  },
  {
   "cell_type": "markdown",
   "metadata": {
    "colab_type": "text",
    "id": "mWHyyL7QVp_j"
   },
   "source": [
    "# 16. Какой актер снялся в большем количестве высокобюджетных фильмов?"
   ]
  },
  {
   "cell_type": "code",
   "execution_count": 120,
   "metadata": {
    "colab": {},
    "colab_type": "code",
    "id": "qQtmHKTFVp_k"
   },
   "outputs": [],
   "source": [
    "answers['16'] = 'Matt Damon'"
   ]
  },
  {
   "cell_type": "code",
   "execution_count": 121,
   "metadata": {},
   "outputs": [
    {
     "name": "stdout",
     "output_type": "stream",
     "text": [
      "Matt Damon\n"
     ]
    }
   ],
   "source": [
    "# %load basic_imports.py\n",
    "\n",
    "# Функции:\n",
    "def most_frequent(List):# Функция определяет наиболее часто встречающийся элемент в списке.\n",
    "    return max(set(List), key = List.count)\n",
    "\n",
    "def revenue_transformation(x): # Функция возвращает значение для максимального элемента столбца и 'not_max' для остальных.\n",
    "    if x == grouped_data['revenue'].max():\n",
    "        return x\n",
    "    else:\n",
    "        return 'not_max'\n",
    "\n",
    "import pandas as pd\n",
    "data = pd.read_csv('D:\\Data Scientist_Skill Factory\\Folders with data/Unit_1_Project/movie_bd_v5.csv')\n",
    "\n",
    "high_budget_data = data[data.budget > data.budget.mean()]#Оставили в датафрейме только фильмы с бюджетом выше среднего.\n",
    "actor_list = []#Создали пустой список actor_list.\n",
    "actor_list_complicated = high_budget_data.cast.tolist()#Преобразовали столбец cast в список actor_list_complicated.\n",
    "\n",
    "for i in range (0, (len(actor_list_complicated)-1)):#Этот цикл преобразует в правильный вид список актеров.\n",
    "    ls = actor_list_complicated[i].split('|')\n",
    "    for j in range (0, (len(ls)-1)):\n",
    "        actor_list.append(ls[j])\n",
    "print(most_frequent(actor_list))"
   ]
  },
  {
   "cell_type": "markdown",
   "metadata": {
    "colab_type": "text",
    "id": "NIh6AaW5Vp_n"
   },
   "source": [
    "# 17. В фильмах какого жанра больше всего снимался Nicolas Cage? "
   ]
  },
  {
   "cell_type": "code",
   "execution_count": 122,
   "metadata": {
    "colab": {},
    "colab_type": "code",
    "id": "H74SJDIBVp_n"
   },
   "outputs": [],
   "source": [
    "answers['17'] = 'Action'"
   ]
  },
  {
   "cell_type": "code",
   "execution_count": 123,
   "metadata": {},
   "outputs": [
    {
     "name": "stdout",
     "output_type": "stream",
     "text": [
      "Action\n"
     ]
    }
   ],
   "source": [
    "# %load basic_imports.py\n",
    "\n",
    "# Функции:\n",
    "def most_frequent(List):# Функция определяет наиболее часто встречающийся элемент в списке.\n",
    "    return max(set(List), key = List.count)\n",
    "\n",
    "def revenue_transformation(x): # Функция возвращает значение для максимального элемента столбца и 'not_max' для остальных.\n",
    "    if x == grouped_data['revenue'].max():\n",
    "        return x\n",
    "    else:\n",
    "        return 'not_max'\n",
    "\n",
    "import pandas as pd\n",
    "data = pd.read_csv('D:\\Data Scientist_Skill Factory\\Folders with data/Unit_1_Project/movie_bd_v5.csv')\n",
    "data_with_Cage = data[data.cast.str.contains(\"Nicolas Cage\", na=False)]#Оставили в датафрейме только фильмы с Кейджом.\n",
    "genres_list_Cage =[]#Создали пустой список.\n",
    "genres_list = data_with_Cage.genres.tolist()#Преобразовали genres столбец в список.\n",
    "for i in range (0, (len(genres_list)-1)):#Этот цикл преобразует в правильный вид список жанров.\n",
    "    ls = genres_list[i].split('|')\n",
    "    for j in range (0, (len(ls)-1)):\n",
    "        genres_list_Cage.append(ls[j])\n",
    "print(most_frequent(genres_list_Cage))"
   ]
  },
  {
   "cell_type": "markdown",
   "metadata": {
    "colab_type": "text",
    "id": "RqOmPRfWVp_q"
   },
   "source": [
    "# 18. Самый убыточный фильм от Paramount Pictures"
   ]
  },
  {
   "cell_type": "code",
   "execution_count": 124,
   "metadata": {
    "colab": {},
    "colab_type": "code",
    "id": "9E_B0Y96Vp_r"
   },
   "outputs": [],
   "source": [
    "answers['18'] = 'K-19: The Widowmaker'"
   ]
  },
  {
   "cell_type": "code",
   "execution_count": 125,
   "metadata": {},
   "outputs": [
    {
     "data": {
      "text/plain": [
       "925    K-19: The Widowmaker\n",
       "Name: original_title, dtype: object"
      ]
     },
     "execution_count": 125,
     "metadata": {},
     "output_type": "execute_result"
    }
   ],
   "source": [
    "# %load basic_imports.py\n",
    "\n",
    "# Функции:\n",
    "def most_frequent(List):# Функция определяет наиболее часто встречающийся элемент в списке.\n",
    "    return max(set(List), key = List.count)\n",
    "\n",
    "def revenue_transformation(x): # Функция возвращает значение для максимального элемента столбца и 'not_max' для остальных.\n",
    "    if x == grouped_data['revenue'].max():\n",
    "        return x\n",
    "    else:\n",
    "        return 'not_max'\n",
    "\n",
    "import pandas as pd\n",
    "data = pd.read_csv('D:\\Data Scientist_Skill Factory\\Folders with data/Unit_1_Project/movie_bd_v5.csv')\n",
    "\n",
    "#Оставляем в датафрейме только убыточные фильмы от Paramount Pictures\n",
    "data1 = data[(data.production_companies.str.contains(\"Paramount Pictures\", na=False))&(data.revenue < data.budget)]\n",
    "#Выводим самый убыточный\n",
    "data1[(data1.revenue - data1.budget) == (data1.revenue - data1.budget).min()].original_title"
   ]
  },
  {
   "cell_type": "markdown",
   "metadata": {
    "colab_type": "text",
    "id": "vS8Ur6ddVp_u"
   },
   "source": [
    "# 19. Какой год стал самым успешным по суммарным кассовым сборам?"
   ]
  },
  {
   "cell_type": "code",
   "execution_count": 126,
   "metadata": {
    "colab": {},
    "colab_type": "code",
    "id": "Dnbt4GdIVp_v"
   },
   "outputs": [],
   "source": [
    "answers['19'] = '2015'"
   ]
  },
  {
   "cell_type": "code",
   "execution_count": 127,
   "metadata": {},
   "outputs": [
    {
     "data": {
      "text/html": [
       "<div>\n",
       "<style scoped>\n",
       "    .dataframe tbody tr th:only-of-type {\n",
       "        vertical-align: middle;\n",
       "    }\n",
       "\n",
       "    .dataframe tbody tr th {\n",
       "        vertical-align: top;\n",
       "    }\n",
       "\n",
       "    .dataframe thead th {\n",
       "        text-align: right;\n",
       "    }\n",
       "</style>\n",
       "<table border=\"1\" class=\"dataframe\">\n",
       "  <thead>\n",
       "    <tr style=\"text-align: right;\">\n",
       "      <th></th>\n",
       "      <th>budget</th>\n",
       "      <th>revenue</th>\n",
       "      <th>runtime</th>\n",
       "      <th>vote_average</th>\n",
       "    </tr>\n",
       "    <tr>\n",
       "      <th>release_year</th>\n",
       "      <th></th>\n",
       "      <th></th>\n",
       "      <th></th>\n",
       "      <th></th>\n",
       "    </tr>\n",
       "  </thead>\n",
       "  <tbody>\n",
       "    <tr>\n",
       "      <th>2015</th>\n",
       "      <td>6780630004</td>\n",
       "      <td>25449202382</td>\n",
       "      <td>13355</td>\n",
       "      <td>755.2</td>\n",
       "    </tr>\n",
       "  </tbody>\n",
       "</table>\n",
       "</div>"
      ],
      "text/plain": [
       "                  budget      revenue  runtime  vote_average\n",
       "release_year                                                \n",
       "2015          6780630004  25449202382    13355         755.2"
      ]
     },
     "execution_count": 127,
     "metadata": {},
     "output_type": "execute_result"
    }
   ],
   "source": [
    "# %load basic_imports.py\n",
    "\n",
    "# Функции:\n",
    "def most_frequent(List):# Функция определяет наиболее часто встречающийся элемент в списке.\n",
    "    return max(set(List), key = List.count)\n",
    "\n",
    "def revenue_transformation(x): # Функция возвращает значение для максимального элемента столбца и 'not_max' для остальных.\n",
    "    if x == grouped_data['revenue'].max():\n",
    "        return x\n",
    "    else:\n",
    "        return 'not_max'\n",
    "\n",
    "import pandas as pd\n",
    "data = pd.read_csv('D:\\Data Scientist_Skill Factory\\Folders with data/Unit_1_Project/movie_bd_v5.csv')\n",
    "\n",
    "grouped_data = data.groupby(['release_year']).sum()#Группируем датафрейм по годам выхода фильмов.\n",
    "grouped_data['revenue'] = grouped_data.revenue.apply(revenue_transformation)# Определяем строку с максимальным значением revenue\n",
    "grouped_data[~grouped_data.revenue.str.contains(\"not\", na=False)]#Выводим ее."
   ]
  },
  {
   "cell_type": "markdown",
   "metadata": {
    "colab_type": "text",
    "id": "JAzJh4QAVp_z"
   },
   "source": [
    "# 20. Какой самый прибыльный год для студии Warner Bros?"
   ]
  },
  {
   "cell_type": "code",
   "execution_count": 128,
   "metadata": {
    "colab": {},
    "colab_type": "code",
    "id": "wgVu02DEVp_0"
   },
   "outputs": [],
   "source": [
    "answers['20'] = '2014'"
   ]
  },
  {
   "cell_type": "code",
   "execution_count": 129,
   "metadata": {},
   "outputs": [
    {
     "data": {
      "text/html": [
       "<div>\n",
       "<style scoped>\n",
       "    .dataframe tbody tr th:only-of-type {\n",
       "        vertical-align: middle;\n",
       "    }\n",
       "\n",
       "    .dataframe tbody tr th {\n",
       "        vertical-align: top;\n",
       "    }\n",
       "\n",
       "    .dataframe thead th {\n",
       "        text-align: right;\n",
       "    }\n",
       "</style>\n",
       "<table border=\"1\" class=\"dataframe\">\n",
       "  <thead>\n",
       "    <tr style=\"text-align: right;\">\n",
       "      <th></th>\n",
       "      <th>budget</th>\n",
       "      <th>revenue</th>\n",
       "      <th>runtime</th>\n",
       "      <th>vote_average</th>\n",
       "      <th>profit</th>\n",
       "    </tr>\n",
       "    <tr>\n",
       "      <th>release_year</th>\n",
       "      <th></th>\n",
       "      <th></th>\n",
       "      <th></th>\n",
       "      <th></th>\n",
       "      <th></th>\n",
       "    </tr>\n",
       "  </thead>\n",
       "  <tbody>\n",
       "    <tr>\n",
       "      <th>2014</th>\n",
       "      <td>947600000</td>\n",
       "      <td>3243064519</td>\n",
       "      <td>1576</td>\n",
       "      <td>88.9</td>\n",
       "      <td>2295464519</td>\n",
       "    </tr>\n",
       "  </tbody>\n",
       "</table>\n",
       "</div>"
      ],
      "text/plain": [
       "                 budget     revenue  runtime  vote_average      profit\n",
       "release_year                                                          \n",
       "2014          947600000  3243064519     1576          88.9  2295464519"
      ]
     },
     "metadata": {},
     "output_type": "display_data"
    }
   ],
   "source": [
    "# %load basic_imports.py\n",
    "\n",
    "# Функции:\n",
    "def most_frequent(List):# Функция определяет наиболее часто встречающийся элемент в списке.\n",
    "    return max(set(List), key = List.count)\n",
    "\n",
    "def profit_transformation(x): # Функция возвращает значение для максимального элемента столбца и 'not_max' для остальных.\n",
    "    if x == grouped_data['profit'].max():\n",
    "        return x\n",
    "    else:\n",
    "        return 'not_max'\n",
    "\n",
    "import pandas as pd\n",
    "data = pd.read_csv('D:\\Data Scientist_Skill Factory\\Folders with data/Unit_1_Project/movie_bd_v5.csv')\n",
    "\n",
    "data_Warner_Bros = data[data.production_companies.str.contains(\"Warner Bros\", na=False)]\n",
    "grouped_data = data_Warner_Bros.groupby(['release_year']).sum()\n",
    "grouped_data['profit'] = grouped_data.revenue - grouped_data.budget\n",
    "grouped_data['profit'] = grouped_data.profit.apply(profit_transformation)\n",
    "most_expenseve_data = grouped_data[~grouped_data.profit.str.contains(\"not\", na=False)]\n",
    "display(most_expenseve_data)"
   ]
  },
  {
   "cell_type": "markdown",
   "metadata": {
    "colab_type": "text",
    "id": "8Im1S2HRVp_4"
   },
   "source": [
    "# 21. В каком месяце за все годы суммарно вышло больше всего фильмов?"
   ]
  },
  {
   "cell_type": "code",
   "execution_count": 130,
   "metadata": {
    "colab": {},
    "colab_type": "code",
    "id": "lev6TH7gVp_4"
   },
   "outputs": [],
   "source": [
    "answers['21'] = 'September'"
   ]
  },
  {
   "cell_type": "code",
   "execution_count": 131,
   "metadata": {},
   "outputs": [
    {
     "name": "stdout",
     "output_type": "stream",
     "text": [
      "9\n"
     ]
    }
   ],
   "source": [
    "# %load basic_imports.py\n",
    "\n",
    "# Функции:\n",
    "def most_frequent(List):# Функция определяет наиболее часто встречающийся элемент в списке.\n",
    "    return max(set(List), key = List.count)\n",
    "\n",
    "def revenue_transformation(x): # Функция возвращает значение для максимального элемента столбца и 'not_max' для остальных.\n",
    "    if x == grouped_data['revenue'].max():\n",
    "        return x\n",
    "    else:\n",
    "        return 'not_max'\n",
    "\n",
    "import pandas as pd\n",
    "data = pd.read_csv('D:\\Data Scientist_Skill Factory\\Folders with data/Unit_1_Project/movie_bd_v5.csv')\n",
    "\n",
    "date_list = []#Создаем пустой список, куда пишем месяца.\n",
    "full_date_list = data.release_date.tolist()# Преобразовали столбец release_date в список полных дат.\n",
    "for i in range (0, (len(full_date_list)-1)):# Этот цикл из полной даты выдергивает месяц и пишет в список date_list\n",
    "    ls = full_date_list[i].split('/')\n",
    "    date_list.append(ls[0])\n",
    "print(most_frequent(date_list))"
   ]
  },
  {
   "cell_type": "markdown",
   "metadata": {
    "colab_type": "text",
    "id": "uAJsZ_NeVp_7"
   },
   "source": [
    "# 22. Сколько суммарно вышло фильмов летом? (за июнь, июль, август)"
   ]
  },
  {
   "cell_type": "code",
   "execution_count": 132,
   "metadata": {
    "colab": {},
    "colab_type": "code",
    "id": "Aa-hEREoVp_8"
   },
   "outputs": [],
   "source": [
    "answers['22'] = '450'"
   ]
  },
  {
   "cell_type": "code",
   "execution_count": 133,
   "metadata": {},
   "outputs": [
    {
     "data": {
      "text/plain": [
       "450"
      ]
     },
     "metadata": {},
     "output_type": "display_data"
    }
   ],
   "source": [
    "# %load basic_imports.py\n",
    "\n",
    "# Функции:\n",
    "def most_frequent(List):# Функция определяет наиболее часто встречающийся элемент в списке.\n",
    "    return max(set(List), key = List.count)\n",
    "\n",
    "def revenue_transformation(x): # Функция возвращает значение для максимального элемента столбца и 'not_max' для остальных.\n",
    "    if x == grouped_data['revenue'].max():\n",
    "        return x\n",
    "    else:\n",
    "        return 'not_max'\n",
    "    \n",
    "def summer_movie_search(x): # Функция ищет фильмы вышедщие летом и ставит в столбце release_date 'summer'.\n",
    "    x = str(x)\n",
    "    if x[0] == '6':\n",
    "        return 'summer'\n",
    "    elif x[0] == '7':\n",
    "        return 'summer'\n",
    "    elif x[0] == '8':\n",
    "        return 'summer'\n",
    "    else:\n",
    "        return x\n",
    "\n",
    "import pandas as pd\n",
    "data = pd.read_csv('D:\\Data Scientist_Skill Factory\\Folders with data/Unit_1_Project/movie_bd_v5.csv')\n",
    "\n",
    "data['release_date'] = data.release_date.apply(summer_movie_search)\n",
    "summer_data = data[data.release_date.str.contains(\"summer\", na=False)]\n",
    "display(len(summer_data))"
   ]
  },
  {
   "cell_type": "markdown",
   "metadata": {
    "colab_type": "text",
    "id": "G94ppOY1VqAA"
   },
   "source": [
    "# 23. Для какого режиссера зима – самое продуктивное время года? "
   ]
  },
  {
   "cell_type": "code",
   "execution_count": 134,
   "metadata": {
    "colab": {},
    "colab_type": "code",
    "id": "RhNTsamuVqAB"
   },
   "outputs": [],
   "source": [
    "answers['23'] = 'Peter Jackson'"
   ]
  },
  {
   "cell_type": "code",
   "execution_count": 135,
   "metadata": {},
   "outputs": [
    {
     "data": {
      "text/plain": [
       "'Peter Jackson'"
      ]
     },
     "metadata": {},
     "output_type": "display_data"
    }
   ],
   "source": [
    "# %load basic_imports.py\n",
    "\n",
    "# Функции:\n",
    "def most_frequent(List):# Функция определяет наиболее часто встречающийся элемент в списке.\n",
    "    return max(set(List), key = List.count)\n",
    "\n",
    "def revenue_transformation(x): # Функция возвращает значение для максимального элемента столбца и 'not_max' для остальных.\n",
    "    if x == grouped_data['revenue'].max():\n",
    "        return x\n",
    "    else:\n",
    "        return 'not_max'\n",
    "    \n",
    "def summer_movie_search(x): # Функция ищет фильмы вышедщие летом и ставит в столбце release_date 'summer'.\n",
    "    x = str(x)\n",
    "    if x[0] == '6':\n",
    "        return 'summer'\n",
    "    elif x[0] == '7':\n",
    "        return 'summer'\n",
    "    elif x[0] == '8':\n",
    "        return 'summer'\n",
    "    else:\n",
    "        return x\n",
    "\n",
    "def winter_movie_search(x):\n",
    "    x = str(x)\n",
    "    if x[0] == '12':\n",
    "        return 'winter'\n",
    "    elif x[0] == '1':\n",
    "        return 'winter'\n",
    "    elif x[0] == '2':\n",
    "        return 'winter'\n",
    "    else:\n",
    "        return x\n",
    "    \n",
    "import pandas as pd\n",
    "data = pd.read_csv('D:\\Data Scientist_Skill Factory\\Folders with data/Unit_1_Project/movie_bd_v5.csv')\n",
    "\n",
    "data['director'] = data['director'].str.split('|')# Разделяем столбец director по |\n",
    "data = data.explode('director')# Копируем строки по количеству элементов в director и раскидываем элементы по копиям строк\n",
    "\n",
    "s_common = data.director.value_counts()# Возвращаем серию режиссер - количество снятых им фильмов\n",
    "\n",
    "data['release_date'] = data.release_date.apply(winter_movie_search)# Оставляем в датафрейме только фильмы вышедщие зимой\n",
    "data_winter = data[data.release_date.str.contains(\"winter\", na=False)]\n",
    "\n",
    "s_winter = data_winter.director.value_counts()# Возвращаем серию режиссер - количество снятых им фильмов, вышедщих зимой\n",
    "\n",
    "winter_parts_list = []\n",
    "for i in range (0, (len(s_winter))):# Создаем список \"долей\" зимних фильмов для каждого режиссера из серии s_winter \n",
    "    for j in range (0, (len(s_common))):\n",
    "        if s_winter.index[i] == s_common.index[j]:\n",
    "            winter_parts_list.append(100*s_winter[i]/s_common[j])\n",
    "        else:\n",
    "            s_winter[i] = s_winter[i]\n",
    "\n",
    "winter_directors_list = []\n",
    "for i in range (0, (len(winter_parts_list))):# Создаем список режиссеров у которых все фильмы выходили зимой, в порядке убывания\n",
    "    if winter_parts_list[i] != max(winter_parts_list):# по количеству фильмов.\n",
    "        winter_parts_list[i] = winter_parts_list[i]\n",
    "    else:\n",
    "        winter_directors_list.append(s_winter.index[i])\n",
    "        \n",
    "display(winter_directors_list[0])# Выводим первый элемент списка winter_director_list"
   ]
  },
  {
   "cell_type": "markdown",
   "metadata": {
    "colab_type": "text",
    "id": "RBo0JVjVVqAF"
   },
   "source": [
    "# 24. Какая студия дает самые длинные названия своим фильмам по количеству символов?"
   ]
  },
  {
   "cell_type": "code",
   "execution_count": 136,
   "metadata": {
    "colab": {},
    "colab_type": "code",
    "id": "QRGS8L0iVqAG"
   },
   "outputs": [],
   "source": [
    "answers['24'] = 'Four By Two Productions'"
   ]
  },
  {
   "cell_type": "code",
   "execution_count": 137,
   "metadata": {},
   "outputs": [
    {
     "data": {
      "text/plain": [
       "'Four By Two Productions'"
      ]
     },
     "metadata": {},
     "output_type": "display_data"
    }
   ],
   "source": [
    "# %load basic_imports.py\n",
    "\n",
    "# Функции:\n",
    "def most_frequent(List):# Функция определяет наиболее часто встречающийся элемент в списке.\n",
    "    return max(set(List), key = List.count)\n",
    "\n",
    "def revenue_transformation(x): # Функция возвращает значение для максимального элемента столбца и 'not_max' для остальных.\n",
    "    if x == grouped_data['revenue'].max():\n",
    "        return x\n",
    "    else:\n",
    "        return 'not_max'\n",
    "    \n",
    "def summer_movie_search(x): # Функция ищет фильмы вышедщие летом и ставит в столбце release_date 'summer'.\n",
    "    x = str(x)\n",
    "    if x[0] == '6':\n",
    "        return 'summer'\n",
    "    elif x[0] == '7':\n",
    "        return 'summer'\n",
    "    elif x[0] == '8':\n",
    "        return 'summer'\n",
    "    else:\n",
    "        return x\n",
    "\n",
    "def winter_movie_search(x):\n",
    "    x = str(x)\n",
    "    if x[0] == '12':\n",
    "        return 'winter'\n",
    "    elif x[0] == '1':\n",
    "        return 'winter'\n",
    "    elif x[0] == '2':\n",
    "        return 'winter'\n",
    "    else:\n",
    "        return x\n",
    "    \n",
    "import pandas as pd\n",
    "data = pd.read_csv('D:\\Data Scientist_Skill Factory\\Folders with data/Unit_1_Project/movie_bd_v5.csv')\n",
    "\n",
    "data_1 = data.copy()\n",
    "data_1['original_title_length'] = data_1.original_title.apply(lambda x: len(x))# Заменяем названия длинами названия\n",
    "data_1['production_companies'] = data_1['production_companies'].str.split('|')# Разделяем студии по |\n",
    "data_1 = data_1.explode('production_companies') # Копируем строки\n",
    "#Группируем по студиям, оставляем серию со средними длинами названий, сортируем ее по убыванию.\n",
    "data_1 = data_1.groupby(by = 'production_companies')['original_title_length'].mean().sort_values(ascending=False)\n",
    "display(data_1.index[0])# Печатаем нулевой (он же максимальный) элемент серии."
   ]
  },
  {
   "cell_type": "markdown",
   "metadata": {
    "colab_type": "text",
    "id": "9G0hbvR7VqAK"
   },
   "source": [
    "# 25. Описание фильмов какой студии в среднем самые длинные по количеству слов?"
   ]
  },
  {
   "cell_type": "code",
   "execution_count": 138,
   "metadata": {
    "colab": {},
    "colab_type": "code",
    "id": "Ge2GsLNxVqAK"
   },
   "outputs": [],
   "source": [
    "answers['25'] = 'Midnight Picture Show'"
   ]
  },
  {
   "cell_type": "code",
   "execution_count": 139,
   "metadata": {},
   "outputs": [
    {
     "data": {
      "text/plain": [
       "'Midnight Picture Show'"
      ]
     },
     "metadata": {},
     "output_type": "display_data"
    }
   ],
   "source": [
    "# %load basic_imports.py\n",
    "\n",
    "# Функции:\n",
    "def most_frequent(List):# Функция определяет наиболее часто встречающийся элемент в списке.\n",
    "    return max(set(List), key = List.count)\n",
    "\n",
    "def revenue_transformation(x): # Функция возвращает значение для максимального элемента столбца и 'not_max' для остальных.\n",
    "    if x == grouped_data['revenue'].max():\n",
    "        return x\n",
    "    else:\n",
    "        return 'not_max'\n",
    "    \n",
    "def summer_movie_search(x): # Функция ищет фильмы вышедщие летом и ставит в столбце release_date 'summer'.\n",
    "    x = str(x)\n",
    "    if x[0] == '6':\n",
    "        return 'summer'\n",
    "    elif x[0] == '7':\n",
    "        return 'summer'\n",
    "    elif x[0] == '8':\n",
    "        return 'summer'\n",
    "    else:\n",
    "        return x\n",
    "\n",
    "def winter_movie_search(x):\n",
    "    x = str(x)\n",
    "    if x[0] == '12':\n",
    "        return 'winter'\n",
    "    elif x[0] == '1':\n",
    "        return 'winter'\n",
    "    elif x[0] == '2':\n",
    "        return 'winter'\n",
    "    else:\n",
    "        return x\n",
    "    \n",
    "import pandas as pd\n",
    "data = pd.read_csv('D:\\Data Scientist_Skill Factory\\Folders with data/Unit_1_Project/movie_bd_v5.csv')\n",
    "\n",
    "data_1 = data.copy()\n",
    "data_1['overview_words_length'] = data_1.overview.apply(lambda x: len(x.split(' ')))# Создаем столбец с длинами описаний.\n",
    "data_1['production_companies'] = data_1['production_companies'].str.split('|')# Разделяем студии по |\n",
    "data_1 = data_1.explode('production_companies') # Копируем строки\n",
    "#Группируем по студиям, оставляем серию со средними длинами описаний, сортируем ее по убыванию.\n",
    "data_1 = data_1.groupby(by = 'production_companies')['overview_words_length'].mean().sort_values(ascending=False)\n",
    "display(data_1.index[0])# Печатаем нулевой (он же максимальный) элемент серии."
   ]
  },
  {
   "cell_type": "markdown",
   "metadata": {
    "colab_type": "text",
    "id": "FJ1AFt90VqAP"
   },
   "source": [
    "# 26. Какие фильмы входят в 1 процент лучших по рейтингу? \n",
    "по vote_average"
   ]
  },
  {
   "cell_type": "code",
   "execution_count": 140,
   "metadata": {
    "colab": {},
    "colab_type": "code",
    "id": "8qmJVq4CVqAQ"
   },
   "outputs": [],
   "source": [
    "answers['26'] = 'Inside Out, The Dark Knight, 12 Years a Slave'"
   ]
  },
  {
   "cell_type": "code",
   "execution_count": 141,
   "metadata": {},
   "outputs": [
    {
     "data": {
      "text/plain": [
       "['The Dark Knight',\n",
       " 'Interstellar',\n",
       " 'The Imitation Game',\n",
       " 'Inside Out',\n",
       " 'Room',\n",
       " 'The Wolf of Wall Street',\n",
       " 'Gone Girl',\n",
       " '12 Years a Slave',\n",
       " 'Guardians of the Galaxy',\n",
       " 'The Lord of the Rings: The Return of the King',\n",
       " 'Memento',\n",
       " 'Inception',\n",
       " 'The Pianist',\n",
       " 'The Grand Budapest Hotel',\n",
       " 'Her',\n",
       " 'Spotlight',\n",
       " 'Big Hero 6',\n",
       " 'The Fault in Our Stars']"
      ]
     },
     "metadata": {},
     "output_type": "display_data"
    },
    {
     "name": "stdout",
     "output_type": "stream",
     "text": [
      "Введите название фильма: The Dark Knight\n",
      "Этот фильм входит в один процент лучших по рейтингу.\n"
     ]
    }
   ],
   "source": [
    "# %load basic_imports.py\n",
    "\n",
    "# Функции:\n",
    "def most_frequent(List):# Функция определяет наиболее часто встречающийся элемент в списке.\n",
    "    return max(set(List), key = List.count)\n",
    "\n",
    "def revenue_transformation(x): # Функция возвращает значение для максимального элемента столбца и 'not_max' для остальных.\n",
    "    if x == grouped_data['revenue'].max():\n",
    "        return x\n",
    "    else:\n",
    "        return 'not_max'\n",
    "    \n",
    "def summer_movie_search(x): # Функция ищет фильмы вышедщие летом и ставит в столбце release_date 'summer'.\n",
    "    x = str(x)\n",
    "    if x[0] == '6':\n",
    "        return 'summer'\n",
    "    elif x[0] == '7':\n",
    "        return 'summer'\n",
    "    elif x[0] == '8':\n",
    "        return 'summer'\n",
    "    else:\n",
    "        return x\n",
    "\n",
    "def winter_movie_search(x):\n",
    "    x = str(x)\n",
    "    if x[0] == '12':\n",
    "        return 'winter'\n",
    "    elif x[0] == '1':\n",
    "        return 'winter'\n",
    "    elif x[0] == '2':\n",
    "        return 'winter'\n",
    "    else:\n",
    "        return x\n",
    "    \n",
    "import pandas as pd\n",
    "data = pd.read_csv('D:\\Data Scientist_Skill Factory\\Folders with data/Unit_1_Project/movie_bd_v5.csv')\n",
    "\n",
    "sorted_data = data.sort_values(by='vote_average', ascending=False)# Отсортировали датафрейм по убыванию рейтинга фильмов.\n",
    "original_title_list = sorted_data.original_title.tolist()#Вытащили из датафрейма список с названиями фильмов.\n",
    "best_original_title_list = original_title_list[:18]#Оставили в списке первые 19 элементов (один процент от общего числа фильмов).\n",
    "\n",
    "display(best_original_title_list)# Вывод списка 1% лучщих фильмов по рейтингу\n",
    "\n",
    "number = 0 # Для удобства возможность проверки введенных вручную фильмов (входит в число лучщих или нет)\n",
    "original_title_for_check = str\n",
    "original_title_for_check = input(\"Введите название фильма: \")  \n",
    "number = best_original_title_list.count(original_title_for_check)\n",
    "if number == 0:\n",
    "    print('Такого фильма нет среди одного процента лучших по рейтингу.')\n",
    "else:\n",
    "    print('Этот фильм входит в один процент лучших по рейтингу.')"
   ]
  },
  {
   "cell_type": "markdown",
   "metadata": {
    "colab_type": "text",
    "id": "MdXsUXbCVqAV"
   },
   "source": [
    "# 27. Какие актеры чаще всего снимаются в одном фильме вместе?\n"
   ]
  },
  {
   "cell_type": "code",
   "execution_count": 142,
   "metadata": {},
   "outputs": [],
   "source": [
    "answers['27'] = 'Daniel Radcliffe & Rupert Grint'"
   ]
  },
  {
   "cell_type": "code",
   "execution_count": 143,
   "metadata": {},
   "outputs": [
    {
     "name": "stdout",
     "output_type": "stream",
     "text": [
      "[('Daniel Radcliffe', 'Rupert Grint'\n"
     ]
    }
   ],
   "source": [
    "# %load basic_imports.py\n",
    "\n",
    "# Функции:\n",
    "def most_frequent(List):# Функция определяет наиболее часто встречающийся элемент в списке.\n",
    "    return max(set(List), key = List.count)\n",
    "\n",
    "def revenue_transformation(x): # Функция возвращает значение для максимального элемента столбца и 'not_max' для остальных.\n",
    "    if x == grouped_data['revenue'].max():\n",
    "        return x\n",
    "    else:\n",
    "        return 'not_max'\n",
    "    \n",
    "def summer_movie_search(x): # Функция ищет фильмы вышедщие летом и ставит в столбце release_date 'summer'.\n",
    "    x = str(x)\n",
    "    if x[0] == '6':\n",
    "        return 'summer'\n",
    "    elif x[0] == '7':\n",
    "        return 'summer'\n",
    "    elif x[0] == '8':\n",
    "        return 'summer'\n",
    "    else:\n",
    "        return x\n",
    "\n",
    "def winter_movie_search(x):\n",
    "    x = str(x)\n",
    "    if x[0] == '12':\n",
    "        return 'winter'\n",
    "    elif x[0] == '1':\n",
    "        return 'winter'\n",
    "    elif x[0] == '2':\n",
    "        return 'winter'\n",
    "    else:\n",
    "        return x\n",
    "    \n",
    "from itertools import combinations\n",
    "from itertools import chain\n",
    "from collections import Counter\n",
    "import pandas as pd\n",
    "data = pd.read_csv('D:\\Data Scientist_Skill Factory\\Folders with data/Unit_1_Project/movie_bd_v5.csv')\n",
    "\n",
    "cast_combinations = data.copy()\n",
    "cast_combinations['cast_split'] = cast_combinations['cast'].str.split('|')# Разделяем столбец с актерами по |\n",
    "#Создаем столбец с возможными комбинациями\n",
    "cast_combinations['cast_together']=cast_combinations.cast_split.apply(lambda x: list(combinations(x, 2)))\n",
    "list1 = cast_combinations.cast_together.tolist()# Вытаскиваем созданный столбец в список.\n",
    "\n",
    "couple_list = []# Этим циклом превращаем \"список списков\" пар в список пар.\n",
    "for i in range (0, (len(list1)-1)):\n",
    "    st = str(list1[i])\n",
    "    ls = st.split('),')\n",
    "    for j in range (0, (len(ls)-1)):\n",
    "        couple_list.append(ls[j])\n",
    "        \n",
    "print(most_frequent(couple_list))# Выводим наиболее часто повторяющуюся пару"
   ]
  },
  {
   "cell_type": "markdown",
   "metadata": {
    "colab_type": "text",
    "id": "U0nONFnGVqAX"
   },
   "source": [
    "# Submission"
   ]
  },
  {
   "cell_type": "code",
   "execution_count": 144,
   "metadata": {
    "colab": {},
    "colab_type": "code",
    "id": "IfcaRO9-VqAX",
    "outputId": "0f132912-32bb-4196-c98c-abfbc4ad5a5f"
   },
   "outputs": [
    {
     "data": {
      "text/plain": [
       "{'1': 'Pirates of the Caribbean: On Stranger Tides',\n",
       " '2': 'Gods and Generals',\n",
       " '3': 'Winnie the Pooh',\n",
       " '4': '110',\n",
       " '5': '107',\n",
       " '6': 'Avatar',\n",
       " '7': 'The Lone Ranger',\n",
       " '8': '1478',\n",
       " '9': 'The Dark Knight',\n",
       " '10': 'The Lone Ranger',\n",
       " '11': 'Drama',\n",
       " '12': 'Drama',\n",
       " '13': 'Peter Jackson',\n",
       " '14': 'Robert Rodriguez',\n",
       " '15': 'Chris Hemsworth',\n",
       " '16': 'Matt Damon',\n",
       " '17': 'Action',\n",
       " '18': 'K-19: The Widowmaker',\n",
       " '19': '2015',\n",
       " '20': '2014',\n",
       " '21': 'September',\n",
       " '22': '450',\n",
       " '23': 'Peter Jackson',\n",
       " '24': 'Four By Two Productions',\n",
       " '25': 'Midnight Picture Show',\n",
       " '26': 'Inside Out, The Dark Knight, 12 Years a Slave',\n",
       " '27': 'Daniel Radcliffe & Rupert Grint'}"
      ]
     },
     "execution_count": 144,
     "metadata": {},
     "output_type": "execute_result"
    }
   ],
   "source": [
    "# в конце можно посмотреть свои ответы к каждому вопросу\n",
    "answers"
   ]
  },
  {
   "cell_type": "code",
   "execution_count": 145,
   "metadata": {
    "colab": {},
    "colab_type": "code",
    "id": "SiRmHPl8VqAd"
   },
   "outputs": [
    {
     "data": {
      "text/plain": [
       "27"
      ]
     },
     "execution_count": 145,
     "metadata": {},
     "output_type": "execute_result"
    }
   ],
   "source": [
    "# и убедиться что ни чего не пропустил)\n",
    "len(answers)"
   ]
  },
  {
   "cell_type": "code",
   "execution_count": 0,
   "metadata": {
    "colab": {},
    "colab_type": "code",
    "id": "uCfuTkRbVqAg"
   },
   "outputs": [],
   "source": []
  },
  {
   "cell_type": "code",
   "execution_count": 0,
   "metadata": {
    "colab": {},
    "colab_type": "code",
    "id": "Vwx3NrkSVqAl"
   },
   "outputs": [],
   "source": []
  }
 ],
 "metadata": {
  "colab": {
   "name": "Copy of [SF-DST] Movies IMBD v4.1 TEMPLATE.ipynb",
   "provenance": []
  },
  "kernelspec": {
   "display_name": "Python 3",
   "language": "python",
   "name": "python3"
  },
  "language_info": {
   "codemirror_mode": {
    "name": "ipython",
    "version": 3
   },
   "file_extension": ".py",
   "mimetype": "text/x-python",
   "name": "python",
   "nbconvert_exporter": "python",
   "pygments_lexer": "ipython3",
   "version": "3.8.5"
  }
 },
 "nbformat": 4,
 "nbformat_minor": 1
}
