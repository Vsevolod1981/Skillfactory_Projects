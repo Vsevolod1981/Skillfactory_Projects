{
 "cells": [
  {
   "cell_type": "code",
   "execution_count": 1,
   "metadata": {},
   "outputs": [],
   "source": [
    "# Импортируем нужные библиотеки:\n",
    "\n",
    "import pandas as pd\n",
    "from pandas import Series\n",
    "import matplotlib.pyplot as plt\n",
    "import seaborn as sns\n",
    "import numpy as np\n",
    "\n",
    "from sklearn.feature_selection import f_classif, mutual_info_classif\n",
    "from sklearn.preprocessing import LabelEncoder, OneHotEncoder, StandardScaler, MinMaxScaler\n",
    "from sklearn.preprocessing import PolynomialFeatures\n",
    "\n",
    "from sklearn.model_selection import train_test_split\n",
    "\n",
    "from sklearn.linear_model import LinearRegression\n",
    "from sklearn.ensemble import RandomForestRegressor\n",
    "from catboost import CatBoostRegressor\n",
    "from sklearn.model_selection import RandomizedSearchCV\n",
    "from sklearn.ensemble import GradientBoostingRegressor\n",
    "from sklearn.model_selection import GridSearchCV\n",
    "\n",
    "from sklearn.model_selection import KFold\n",
    "from tqdm.notebook import tqdm\n",
    "from sklearn.base import clone"
   ]
  },
  {
   "cell_type": "markdown",
   "metadata": {},
   "source": [
    "# Функции"
   ]
  },
  {
   "cell_type": "code",
   "execution_count": 2,
   "metadata": {},
   "outputs": [],
   "source": [
    "# Напишем функцию, определяющую уникален элемент или нет (всем уникальным присваивает значение True, не уникальным False)\n",
    "def unique_or_not(x):\n",
    "    x.value_counts()\n",
    "    counter = 0\n",
    "    for i in range (0, len(x.value_counts())):\n",
    "        if x.value_counts()[i] > 1:\n",
    "            counter = counter+1\n",
    "        else:\n",
    "            break\n",
    "    \n",
    "    not_unique = x.value_counts()[0:counter].index.tolist()\n",
    "    \n",
    "    for i in range (0, len(x)):\n",
    "        for j in range (0, len(not_unique)):\n",
    "            if x[i] == not_unique[j]:\n",
    "                x[i] = False\n",
    "            else:\n",
    "                x[i] = x[i]\n",
    "    \n",
    "    for i in range (0, len(x)):\n",
    "        if x[i] != False:\n",
    "            x[i] = True\n",
    "        else:\n",
    "            x[i] = x[i]\n",
    "    "
   ]
  },
  {
   "cell_type": "code",
   "execution_count": 3,
   "metadata": {},
   "outputs": [],
   "source": [
    "#запишем функцию для вычисления итоговой метрики\n",
    "def mape(y_true, y_pred):\n",
    "    return np.mean(np.abs((y_pred-y_true)/y_true))"
   ]
  },
  {
   "cell_type": "markdown",
   "metadata": {},
   "source": [
    "# Данные."
   ]
  },
  {
   "cell_type": "code",
   "execution_count": 4,
   "metadata": {},
   "outputs": [],
   "source": [
    "# Импортитуем данные с которыми нам предстоит работать\n",
    "data = pd.read_csv('D:\\Data Scientist_Skill Factory\\Folders with data/Unit_7/Project/test.csv') # Тестовый набор"
   ]
  },
  {
   "cell_type": "code",
   "execution_count": 5,
   "metadata": {},
   "outputs": [
    {
     "name": "stderr",
     "output_type": "stream",
     "text": [
      "C:\\Users\\vsevo\\anaconda3\\lib\\site-packages\\IPython\\core\\interactiveshell.py:3146: DtypeWarning: Columns (9,24) have mixed types.Specify dtype option on import or set low_memory=False.\n",
      "  has_raised = await self.run_ast_nodes(code_ast.body, cell_name,\n"
     ]
    }
   ],
   "source": [
    "train = pd.read_csv('D:\\Data Scientist_Skill Factory\\Folders with data/Unit_7/Project/cars_df.csv') # Обучающая выборка"
   ]
  },
  {
   "cell_type": "code",
   "execution_count": 6,
   "metadata": {},
   "outputs": [
    {
     "name": "stdout",
     "output_type": "stream",
     "text": [
      "<class 'pandas.core.frame.DataFrame'>\n",
      "RangeIndex: 34686 entries, 0 to 34685\n",
      "Data columns (total 32 columns):\n",
      " #   Column                Non-Null Count  Dtype \n",
      "---  ------                --------------  ----- \n",
      " 0   bodyType              34686 non-null  object\n",
      " 1   brand                 34686 non-null  object\n",
      " 2   car_url               34686 non-null  object\n",
      " 3   color                 34686 non-null  object\n",
      " 4   complectation_dict    6418 non-null   object\n",
      " 5   description           34686 non-null  object\n",
      " 6   engineDisplacement    34686 non-null  object\n",
      " 7   enginePower           34686 non-null  object\n",
      " 8   equipment_dict        24690 non-null  object\n",
      " 9   fuelType              34686 non-null  object\n",
      " 10  image                 34686 non-null  object\n",
      " 11  mileage               34686 non-null  int64 \n",
      " 12  modelDate             34686 non-null  int64 \n",
      " 13  model_info            34686 non-null  object\n",
      " 14  model_name            34686 non-null  object\n",
      " 15  name                  34686 non-null  object\n",
      " 16  numberOfDoors         34686 non-null  int64 \n",
      " 17  parsing_unixtime      34686 non-null  int64 \n",
      " 18  priceCurrency         34686 non-null  object\n",
      " 19  productionDate        34686 non-null  int64 \n",
      " 20  sell_id               34686 non-null  int64 \n",
      " 21  super_gen             34686 non-null  object\n",
      " 22  vehicleConfiguration  34686 non-null  object\n",
      " 23  vehicleTransmission   34686 non-null  object\n",
      " 24  vendor                34686 non-null  object\n",
      " 25  Владельцы             34686 non-null  object\n",
      " 26  Владение              11995 non-null  object\n",
      " 27  ПТС                   34685 non-null  object\n",
      " 28  Привод                34686 non-null  object\n",
      " 29  Руль                  34686 non-null  object\n",
      " 30  Состояние             34686 non-null  object\n",
      " 31  Таможня               34686 non-null  object\n",
      "dtypes: int64(6), object(26)\n",
      "memory usage: 8.5+ MB\n"
     ]
    }
   ],
   "source": [
    "data.info()"
   ]
  },
  {
   "cell_type": "code",
   "execution_count": 7,
   "metadata": {},
   "outputs": [
    {
     "name": "stdout",
     "output_type": "stream",
     "text": [
      "<class 'pandas.core.frame.DataFrame'>\n",
      "RangeIndex: 33531 entries, 0 to 33530\n",
      "Data columns (total 25 columns):\n",
      " #   Column                Non-Null Count  Dtype \n",
      "---  ------                --------------  ----- \n",
      " 0   bodyType              33531 non-null  object\n",
      " 1   brand                 33531 non-null  object\n",
      " 2   car_url               33531 non-null  object\n",
      " 3   color                 33531 non-null  object\n",
      " 4   description           33531 non-null  object\n",
      " 5   engineDisplacement    33531 non-null  object\n",
      " 6   enginePower           33531 non-null  object\n",
      " 7   fuelType              33531 non-null  object\n",
      " 8   image                 33531 non-null  object\n",
      " 9   mileage               33531 non-null  object\n",
      " 10  modelDate             33531 non-null  int64 \n",
      " 11  model_name            33531 non-null  object\n",
      " 12  name                  33531 non-null  object\n",
      " 13  numberOfDoors         33531 non-null  int64 \n",
      " 14  priceCurrency         33531 non-null  object\n",
      " 15  productionDate        33531 non-null  int64 \n",
      " 16  vehicleConfiguration  33531 non-null  object\n",
      " 17  vehicleTransmission   33531 non-null  object\n",
      " 18  Владельцы             33531 non-null  object\n",
      " 19  ПТС                   33531 non-null  object\n",
      " 20  Привод                33531 non-null  object\n",
      " 21  Руль                  33531 non-null  object\n",
      " 22  Состояние             33531 non-null  object\n",
      " 23  Таможня               33531 non-null  object\n",
      " 24  price                 33531 non-null  object\n",
      "dtypes: int64(3), object(22)\n",
      "memory usage: 6.4+ MB\n"
     ]
    }
   ],
   "source": [
    "train.info()"
   ]
  },
  {
   "cell_type": "code",
   "execution_count": 8,
   "metadata": {},
   "outputs": [],
   "source": [
    "sample_submission = pd.read_csv('D:\\Data Scientist_Skill Factory\\Folders with data/Unit_7/Project/sample_submission.csv') \n",
    "# Образец как записать результат"
   ]
  },
  {
   "cell_type": "code",
   "execution_count": 9,
   "metadata": {},
   "outputs": [
    {
     "name": "stdout",
     "output_type": "stream",
     "text": [
      "<class 'pandas.core.frame.DataFrame'>\n",
      "RangeIndex: 34686 entries, 0 to 34685\n",
      "Data columns (total 2 columns):\n",
      " #   Column   Non-Null Count  Dtype\n",
      "---  ------   --------------  -----\n",
      " 0   sell_id  34686 non-null  int64\n",
      " 1   price    34686 non-null  int64\n",
      "dtypes: int64(2)\n",
      "memory usage: 542.1 KB\n"
     ]
    }
   ],
   "source": [
    "sample_submission.info()"
   ]
  },
  {
   "cell_type": "code",
   "execution_count": 10,
   "metadata": {},
   "outputs": [
    {
     "data": {
      "text/plain": [
       "True    34686\n",
       "Name: sell_id, dtype: int64"
      ]
     },
     "execution_count": 10,
     "metadata": {},
     "output_type": "execute_result"
    }
   ],
   "source": [
    "(sample_submission.sell_id == data.sell_id).value_counts()"
   ]
  },
  {
   "cell_type": "raw",
   "metadata": {},
   "source": [
    "То есть столбец sell_id в датасете sample_submission равен одноименному столбцу в датасете data."
   ]
  },
  {
   "cell_type": "markdown",
   "metadata": {},
   "source": [
    "# Описание признаков в тестовом наборе данных."
   ]
  },
  {
   "cell_type": "raw",
   "metadata": {},
   "source": [
    "1) bodyType - тип кузова\n",
    "2) brand - марка автомобиля\n",
    "3) car_url - адрес страницы с объявлением\n",
    "4) color - цвет автомобиля\n",
    "5) complectation_dict - словарь с параметрами комплектации авто\n",
    "6) description - описание автомобиля\n",
    "7) engineDisplacement - объем двигателя\n",
    "8) enginePower - мощность двигателя\n",
    "9) equipment_dict - словарь оснащения авто\n",
    "10) fuelType - тип топлива\n",
    "11) image - изображение\n",
    "12) mileage - пробег\n",
    "13) modelDate - дата выпуска модели\n",
    "14) model_info - информация о модели\n",
    "15) model_name - название модели\n",
    "16) name - имя\n",
    "17) numberOfDoors - кол-во дверей\n",
    "18) parsing_unixtime - когда был произведен парсинг данных\n",
    "19) priceCurrency - валюта\n",
    "20) productionDate - год производства\n",
    "21) sell_id\n",
    "22) super_gen - словарь с дополинтельной информацией\n",
    "23) vehicleConfiguration - конфигурация транспортного средства\n",
    "24) vehicleTransmission - трансмиссия\n",
    "25) vendor - страна-изготовитель\n",
    "26) Владельцы - кол-во владельцев\n",
    "27) Владение - период владения\n",
    "28) ПТС\n",
    "29) Привод\n",
    "30) Руль\n",
    "31) Состояние\n",
    "32) Таможня\n",
    "\n",
    "Обратим внимание на то, что в тестовом наборе данных нет цены автомобиля - целевой переменной."
   ]
  },
  {
   "cell_type": "markdown",
   "metadata": {},
   "source": [
    "# Первичный осмотр данных."
   ]
  },
  {
   "cell_type": "code",
   "execution_count": 11,
   "metadata": {},
   "outputs": [
    {
     "data": {
      "text/plain": [
       "(33531, 25)"
      ]
     },
     "execution_count": 11,
     "metadata": {},
     "output_type": "execute_result"
    }
   ],
   "source": [
    "train.shape"
   ]
  },
  {
   "cell_type": "code",
   "execution_count": 12,
   "metadata": {},
   "outputs": [
    {
     "data": {
      "text/plain": [
       "(34686, 32)"
      ]
     },
     "execution_count": 12,
     "metadata": {},
     "output_type": "execute_result"
    }
   ],
   "source": [
    "data.shape"
   ]
  },
  {
   "cell_type": "raw",
   "metadata": {},
   "source": [
    "Обучающая выборка train содержит 24 столбца с признаками и 1 столбец с целевой переменной (price - цена автомобиля). Тестовый же набор данных содержит 32 столбца с признаками и в нем нет столбца с ценой автомобиля. Есть 8 признаков, которые содержаться в наборе test и не содержаться в наборе train. Это: complectation_dict, equipment_dict, model_info, parsing_unixtime, sell_id, super_gen, vendor, Владение. Удалим эти признаки из набора данных (кроме sell_id, который потребуется для идентификации)."
   ]
  },
  {
   "cell_type": "code",
   "execution_count": 13,
   "metadata": {},
   "outputs": [],
   "source": [
    "test = data.drop(['complectation_dict', 'equipment_dict', 'model_info', \n",
    "                  'model_info', 'parsing_unixtime', 'super_gen', 'vendor', 'Владение'], axis=1)"
   ]
  },
  {
   "cell_type": "code",
   "execution_count": 14,
   "metadata": {},
   "outputs": [
    {
     "name": "stdout",
     "output_type": "stream",
     "text": [
      "<class 'pandas.core.frame.DataFrame'>\n",
      "RangeIndex: 34686 entries, 0 to 34685\n",
      "Data columns (total 25 columns):\n",
      " #   Column                Non-Null Count  Dtype \n",
      "---  ------                --------------  ----- \n",
      " 0   bodyType              34686 non-null  object\n",
      " 1   brand                 34686 non-null  object\n",
      " 2   car_url               34686 non-null  object\n",
      " 3   color                 34686 non-null  object\n",
      " 4   description           34686 non-null  object\n",
      " 5   engineDisplacement    34686 non-null  object\n",
      " 6   enginePower           34686 non-null  object\n",
      " 7   fuelType              34686 non-null  object\n",
      " 8   image                 34686 non-null  object\n",
      " 9   mileage               34686 non-null  int64 \n",
      " 10  modelDate             34686 non-null  int64 \n",
      " 11  model_name            34686 non-null  object\n",
      " 12  name                  34686 non-null  object\n",
      " 13  numberOfDoors         34686 non-null  int64 \n",
      " 14  priceCurrency         34686 non-null  object\n",
      " 15  productionDate        34686 non-null  int64 \n",
      " 16  sell_id               34686 non-null  int64 \n",
      " 17  vehicleConfiguration  34686 non-null  object\n",
      " 18  vehicleTransmission   34686 non-null  object\n",
      " 19  Владельцы             34686 non-null  object\n",
      " 20  ПТС                   34685 non-null  object\n",
      " 21  Привод                34686 non-null  object\n",
      " 22  Руль                  34686 non-null  object\n",
      " 23  Состояние             34686 non-null  object\n",
      " 24  Таможня               34686 non-null  object\n",
      "dtypes: int64(5), object(20)\n",
      "memory usage: 6.6+ MB\n"
     ]
    }
   ],
   "source": [
    "test.info()"
   ]
  },
  {
   "cell_type": "code",
   "execution_count": 15,
   "metadata": {},
   "outputs": [
    {
     "data": {
      "text/plain": [
       "(34686, 25)"
      ]
     },
     "execution_count": 15,
     "metadata": {},
     "output_type": "execute_result"
    }
   ],
   "source": [
    "test.shape"
   ]
  },
  {
   "cell_type": "raw",
   "metadata": {},
   "source": [
    "Теперь тестовый набор данных содержит те же параметры, что и обучающая выборка, но не содержит целевой переменной - цены. Для возможности их объединения добавим в тестовый набор данных столбец price со значениями 0. "
   ]
  },
  {
   "cell_type": "code",
   "execution_count": 16,
   "metadata": {},
   "outputs": [],
   "source": [
    "test['price'] = 0.0"
   ]
  },
  {
   "cell_type": "code",
   "execution_count": 17,
   "metadata": {},
   "outputs": [
    {
     "data": {
      "text/plain": [
       "(34686, 26)"
      ]
     },
     "execution_count": 17,
     "metadata": {},
     "output_type": "execute_result"
    }
   ],
   "source": [
    "test.shape"
   ]
  },
  {
   "cell_type": "code",
   "execution_count": 18,
   "metadata": {},
   "outputs": [],
   "source": [
    "# Сделаем столбец test['sell_id'] последним в датасете\n",
    "sell_id = test['sell_id'] \n",
    "test = test.drop(['sell_id'], axis=1)\n",
    "test['sell_id'] = sell_id\n",
    "# Для возможности объединения train и test добавим в train столбец train['sell_id'] и заполним нулями.\n",
    "train['sell_id'] = 0"
   ]
  },
  {
   "cell_type": "code",
   "execution_count": 19,
   "metadata": {},
   "outputs": [
    {
     "name": "stdout",
     "output_type": "stream",
     "text": [
      "<class 'pandas.core.frame.DataFrame'>\n",
      "RangeIndex: 33531 entries, 0 to 33530\n",
      "Data columns (total 26 columns):\n",
      " #   Column                Non-Null Count  Dtype \n",
      "---  ------                --------------  ----- \n",
      " 0   bodyType              33531 non-null  object\n",
      " 1   brand                 33531 non-null  object\n",
      " 2   car_url               33531 non-null  object\n",
      " 3   color                 33531 non-null  object\n",
      " 4   description           33531 non-null  object\n",
      " 5   engineDisplacement    33531 non-null  object\n",
      " 6   enginePower           33531 non-null  object\n",
      " 7   fuelType              33531 non-null  object\n",
      " 8   image                 33531 non-null  object\n",
      " 9   mileage               33531 non-null  object\n",
      " 10  modelDate             33531 non-null  int64 \n",
      " 11  model_name            33531 non-null  object\n",
      " 12  name                  33531 non-null  object\n",
      " 13  numberOfDoors         33531 non-null  int64 \n",
      " 14  priceCurrency         33531 non-null  object\n",
      " 15  productionDate        33531 non-null  int64 \n",
      " 16  vehicleConfiguration  33531 non-null  object\n",
      " 17  vehicleTransmission   33531 non-null  object\n",
      " 18  Владельцы             33531 non-null  object\n",
      " 19  ПТС                   33531 non-null  object\n",
      " 20  Привод                33531 non-null  object\n",
      " 21  Руль                  33531 non-null  object\n",
      " 22  Состояние             33531 non-null  object\n",
      " 23  Таможня               33531 non-null  object\n",
      " 24  price                 33531 non-null  object\n",
      " 25  sell_id               33531 non-null  int64 \n",
      "dtypes: int64(4), object(22)\n",
      "memory usage: 6.7+ MB\n"
     ]
    }
   ],
   "source": [
    "train.info()"
   ]
  },
  {
   "cell_type": "code",
   "execution_count": 20,
   "metadata": {},
   "outputs": [
    {
     "name": "stdout",
     "output_type": "stream",
     "text": [
      "<class 'pandas.core.frame.DataFrame'>\n",
      "RangeIndex: 34686 entries, 0 to 34685\n",
      "Data columns (total 26 columns):\n",
      " #   Column                Non-Null Count  Dtype  \n",
      "---  ------                --------------  -----  \n",
      " 0   bodyType              34686 non-null  object \n",
      " 1   brand                 34686 non-null  object \n",
      " 2   car_url               34686 non-null  object \n",
      " 3   color                 34686 non-null  object \n",
      " 4   description           34686 non-null  object \n",
      " 5   engineDisplacement    34686 non-null  object \n",
      " 6   enginePower           34686 non-null  object \n",
      " 7   fuelType              34686 non-null  object \n",
      " 8   image                 34686 non-null  object \n",
      " 9   mileage               34686 non-null  int64  \n",
      " 10  modelDate             34686 non-null  int64  \n",
      " 11  model_name            34686 non-null  object \n",
      " 12  name                  34686 non-null  object \n",
      " 13  numberOfDoors         34686 non-null  int64  \n",
      " 14  priceCurrency         34686 non-null  object \n",
      " 15  productionDate        34686 non-null  int64  \n",
      " 16  vehicleConfiguration  34686 non-null  object \n",
      " 17  vehicleTransmission   34686 non-null  object \n",
      " 18  Владельцы             34686 non-null  object \n",
      " 19  ПТС                   34685 non-null  object \n",
      " 20  Привод                34686 non-null  object \n",
      " 21  Руль                  34686 non-null  object \n",
      " 22  Состояние             34686 non-null  object \n",
      " 23  Таможня               34686 non-null  object \n",
      " 24  price                 34686 non-null  float64\n",
      " 25  sell_id               34686 non-null  int64  \n",
      "dtypes: float64(1), int64(5), object(20)\n",
      "memory usage: 6.9+ MB\n"
     ]
    }
   ],
   "source": [
    "test.info()"
   ]
  },
  {
   "cell_type": "raw",
   "metadata": {},
   "source": [
    "Теперь и train и test содержат по 25 столбцов и их можно объединять."
   ]
  },
  {
   "cell_type": "markdown",
   "metadata": {},
   "source": [
    "# Предобработка данных"
   ]
  },
  {
   "cell_type": "markdown",
   "metadata": {},
   "source": [
    "Проверим оба набора данных на дубликаты по адресу страницы с объявлением."
   ]
  },
  {
   "cell_type": "code",
   "execution_count": 21,
   "metadata": {},
   "outputs": [
    {
     "data": {
      "text/plain": [
       "34686"
      ]
     },
     "execution_count": 21,
     "metadata": {},
     "output_type": "execute_result"
    }
   ],
   "source": [
    "len(test)"
   ]
  },
  {
   "cell_type": "code",
   "execution_count": 22,
   "metadata": {},
   "outputs": [
    {
     "data": {
      "text/plain": [
       "34686"
      ]
     },
     "execution_count": 22,
     "metadata": {},
     "output_type": "execute_result"
    }
   ],
   "source": [
    "len(test.car_url.value_counts())"
   ]
  },
  {
   "cell_type": "raw",
   "metadata": {},
   "source": [
    "В тестовом наборе данных совпадает количество строк с количеством уникальных аресов страниц с объявлением, значит повторяющихся страниц (дубликатов) нет."
   ]
  },
  {
   "cell_type": "code",
   "execution_count": 23,
   "metadata": {},
   "outputs": [
    {
     "data": {
      "text/plain": [
       "33531"
      ]
     },
     "execution_count": 23,
     "metadata": {},
     "output_type": "execute_result"
    }
   ],
   "source": [
    "len(train)"
   ]
  },
  {
   "cell_type": "code",
   "execution_count": 24,
   "metadata": {},
   "outputs": [
    {
     "data": {
      "text/plain": [
       "33531"
      ]
     },
     "execution_count": 24,
     "metadata": {},
     "output_type": "execute_result"
    }
   ],
   "source": [
    "len(train.car_url.value_counts())"
   ]
  },
  {
   "cell_type": "raw",
   "metadata": {},
   "source": [
    "В обучающей выборке так же совпадает количество строк с количеством уникальных адресов страниц с объявлением, значит повторяющихся страниц (дубликатов) нет."
   ]
  },
  {
   "cell_type": "raw",
   "metadata": {},
   "source": [
    "Чтобы не повторять дважды разведывательный анализ данных для выборок train и test объединим их в один датасет, предварительно пометив что относиться к выборке train, а что к test."
   ]
  },
  {
   "cell_type": "code",
   "execution_count": 25,
   "metadata": {},
   "outputs": [],
   "source": [
    "test['dataset_mark'] = 0 # Помечаем строки, относящиеся к датасету test нулем.\n",
    "train['dataset_mark'] = 1 # Помечаем строки, относящиеся к датасету train единицей."
   ]
  },
  {
   "cell_type": "code",
   "execution_count": 26,
   "metadata": {},
   "outputs": [
    {
     "name": "stderr",
     "output_type": "stream",
     "text": [
      "<ipython-input-26-cf21861a9cea>:13: SettingWithCopyWarning: \n",
      "A value is trying to be set on a copy of a slice from a DataFrame\n",
      "\n",
      "See the caveats in the documentation: https://pandas.pydata.org/pandas-docs/stable/user_guide/indexing.html#returning-a-view-versus-a-copy\n",
      "  train.price[i] = float(train.price[i])\n"
     ]
    }
   ],
   "source": [
    "# Перед объединением test и train приведем значения в столбце train.price к float.\n",
    "\n",
    "#Почистим данные\n",
    "train['price'] = train['price'].apply(lambda x: str(x).replace('\\xa0₽', ''))\n",
    "\n",
    "train['price'] = train['price'].apply(lambda x: str(x).replace('\\xa0', ''))\n",
    "\n",
    "train['price'] = train.price.apply(\n",
    "    lambda x: int(\"\".join(filter(str.isdigit, x))))\n",
    "\n",
    "# Переведем цены в формат float.\n",
    "for i in range (0, len(train)):\n",
    "    train.price[i] = float(train.price[i])"
   ]
  },
  {
   "cell_type": "code",
   "execution_count": 27,
   "metadata": {},
   "outputs": [],
   "source": [
    "# Объединим обучающую и тестовую выборку в одну.\n",
    "united = test.append(train, ignore_index = True)# Параметр ignore_index отвечает за нумерацию в объединенном датасете\n",
    "# (сквозная или раздельная)."
   ]
  },
  {
   "cell_type": "markdown",
   "metadata": {},
   "source": [
    "Проверим объединенный набор данных на дубликаты по адресу страницы с объявлением."
   ]
  },
  {
   "cell_type": "code",
   "execution_count": 28,
   "metadata": {},
   "outputs": [
    {
     "data": {
      "text/plain": [
       "68217"
      ]
     },
     "execution_count": 28,
     "metadata": {},
     "output_type": "execute_result"
    }
   ],
   "source": [
    "len(united)"
   ]
  },
  {
   "cell_type": "code",
   "execution_count": 29,
   "metadata": {},
   "outputs": [
    {
     "data": {
      "text/plain": [
       "65609"
      ]
     },
     "execution_count": 29,
     "metadata": {},
     "output_type": "execute_result"
    }
   ],
   "source": [
    "len(united.car_url.value_counts())"
   ]
  },
  {
   "cell_type": "markdown",
   "metadata": {},
   "source": [
    "Дубликаты имеются. Удалим их."
   ]
  },
  {
   "cell_type": "code",
   "execution_count": 30,
   "metadata": {},
   "outputs": [],
   "source": [
    "united.drop_duplicates(subset = 'car_url', keep = 'first', inplace = True)"
   ]
  },
  {
   "cell_type": "code",
   "execution_count": 31,
   "metadata": {},
   "outputs": [
    {
     "data": {
      "text/plain": [
       "(65609, 27)"
      ]
     },
     "execution_count": 31,
     "metadata": {},
     "output_type": "execute_result"
    }
   ],
   "source": [
    "united.shape # Убедимся, что дубликаты действительно удалены."
   ]
  },
  {
   "cell_type": "markdown",
   "metadata": {},
   "source": [
    "# Выполним разведывательный анализ данных."
   ]
  },
  {
   "cell_type": "raw",
   "metadata": {},
   "source": [
    "В датафрейме united у нас 25 столбцов и 65609 строк. Рассмотрим каждый из столбцов по отдельности, выявим наличие или отсутствие пропусков, в случае если они есть - оценим возможность их заполнения. Постараемся определить степень влияния тех или иных данных на целевую переменную Rating, чтобы решить какие данные стоит брать в работу, а какие нет. Подумаем, какие признаки можно сгенерировать."
   ]
  },
  {
   "cell_type": "code",
   "execution_count": 32,
   "metadata": {},
   "outputs": [],
   "source": [
    "# Создадим три списка признаков, и каждый признак будем добавлять в один из них.\n",
    "# Бинарные\n",
    "bin_cols = []\n",
    "# Числовые\n",
    "num_cols = []\n",
    "# Категориальные\n",
    "cat_cols = []"
   ]
  },
  {
   "cell_type": "markdown",
   "metadata": {},
   "source": [
    "## Столбец bodyType (тип кузова)."
   ]
  },
  {
   "cell_type": "code",
   "execution_count": 33,
   "metadata": {},
   "outputs": [
    {
     "data": {
      "text/plain": [
       "False    65609\n",
       "Name: bodyType, dtype: int64"
      ]
     },
     "execution_count": 33,
     "metadata": {},
     "output_type": "execute_result"
    }
   ],
   "source": [
    "# Проверим столбец на наличие пропусков.\n",
    "united.bodyType.isna().value_counts()"
   ]
  },
  {
   "cell_type": "raw",
   "metadata": {},
   "source": [
    "Пропусков нет"
   ]
  },
  {
   "cell_type": "code",
   "execution_count": 34,
   "metadata": {},
   "outputs": [
    {
     "data": {
      "text/plain": [
       "внедорожник 5 дв.          24589\n",
       "седан                      23849\n",
       "хэтчбек 5 дв.               4215\n",
       "лифтбек                     4159\n",
       "универсал 5 дв.             2319\n",
       "минивэн                     1710\n",
       "купе                        1499\n",
       "компактвэн                   900\n",
       "хэтчбек 3 дв.                829\n",
       "пикап двойная кабина         482\n",
       "купе-хардтоп                 285\n",
       "внедорожник 3 дв.            203\n",
       "фургон                       195\n",
       "родстер                      166\n",
       "кабриолет                    126\n",
       "седан-хардтоп                 29\n",
       "микровэн                      16\n",
       "пикап одинарная кабина         9\n",
       "пикап полуторная кабина        7\n",
       "седан 2 дв.                    6\n",
       "лимузин                        6\n",
       "внедорожник открытый           4\n",
       "фастбек                        2\n",
       "тарга                          2\n",
       "хэтчбек 4 дв.                  1\n",
       "универсал 3 дв.                1\n",
       "Name: bodyType, dtype: int64"
      ]
     },
     "metadata": {},
     "output_type": "display_data"
    },
    {
     "data": {
      "text/plain": [
       "26"
      ]
     },
     "metadata": {},
     "output_type": "display_data"
    }
   ],
   "source": [
    "display(united.bodyType.value_counts())\n",
    "display(len(united.bodyType.value_counts()))"
   ]
  },
  {
   "cell_type": "code",
   "execution_count": 35,
   "metadata": {},
   "outputs": [
    {
     "data": {
      "text/plain": [
       "<AxesSubplot:>"
      ]
     },
     "execution_count": 35,
     "metadata": {},
     "output_type": "execute_result"
    },
    {
     "data": {
      "image/png": "[encoded data removed]",
      "text/plain": [
       "<Figure size 432x288 with 1 Axes>"
      ]
     },
     "metadata": {
      "needs_background": "light"
     },
     "output_type": "display_data"
    }
   ],
   "source": [
    "#посмотрим на распределение\n",
    "united.bodyType.value_counts().plot.barh() "
   ]
  },
  {
   "cell_type": "code",
   "execution_count": 36,
   "metadata": {},
   "outputs": [],
   "source": [
    "cat_cols.append('bodyType') # Признак категориальный, добавим в соответствующий список"
   ]
  },
  {
   "cell_type": "markdown",
   "metadata": {},
   "source": [
    "## Столбец brand (марка автомобиля)."
   ]
  },
  {
   "cell_type": "code",
   "execution_count": 37,
   "metadata": {},
   "outputs": [
    {
     "data": {
      "text/plain": [
       "False    65609\n",
       "Name: brand, dtype: int64"
      ]
     },
     "execution_count": 37,
     "metadata": {},
     "output_type": "execute_result"
    }
   ],
   "source": [
    "# Проверим столбец на наличие пропусков.\n",
    "united.brand.isna().value_counts()"
   ]
  },
  {
   "cell_type": "raw",
   "metadata": {},
   "source": [
    "Пропусков нет."
   ]
  },
  {
   "cell_type": "code",
   "execution_count": 38,
   "metadata": {},
   "outputs": [
    {
     "data": {
      "text/plain": [
       "BMW           8137\n",
       "VOLKSWAGEN    8106\n",
       "NISSAN        7793\n",
       "MERCEDES      7781\n",
       "TOYOTA        7445\n",
       "              ... \n",
       "MCLAREN          1\n",
       "ZOTYE            1\n",
       "MG               1\n",
       "GAC              1\n",
       "DAIHATSU         1\n",
       "Name: brand, Length: 70, dtype: int64"
      ]
     },
     "metadata": {},
     "output_type": "display_data"
    },
    {
     "data": {
      "text/plain": [
       "70"
      ]
     },
     "metadata": {},
     "output_type": "display_data"
    }
   ],
   "source": [
    "display(united.brand.value_counts())\n",
    "display(len(united.brand.value_counts()))"
   ]
  },
  {
   "cell_type": "code",
   "execution_count": 39,
   "metadata": {},
   "outputs": [],
   "source": [
    "cat_cols.append('brand') # Признак категориальный, добавим в соответствующий список"
   ]
  },
  {
   "cell_type": "markdown",
   "metadata": {},
   "source": [
    "## Столбец car_url (адрес страницы с объявлением)"
   ]
  },
  {
   "cell_type": "code",
   "execution_count": 40,
   "metadata": {},
   "outputs": [
    {
     "data": {
      "text/plain": [
       "False    65609\n",
       "Name: brand, dtype: int64"
      ]
     },
     "execution_count": 40,
     "metadata": {},
     "output_type": "execute_result"
    }
   ],
   "source": [
    "# Проверим столбец на наличие пропусков.\n",
    "united.brand.isna().value_counts()"
   ]
  },
  {
   "cell_type": "raw",
   "metadata": {},
   "source": [
    "Пропусков нет. Мы уже знаем, что дубликатов нет и каждый адрес уникален. Сам по себе этот столбец не несет никакой информации влияющей на целевую переменную, мы его используем только как идентификатор строки. Важно не забыть удалить столбец перед запуском данных в модель. "
   ]
  },
  {
   "cell_type": "markdown",
   "metadata": {},
   "source": [
    "## Столбец color (цвет автомобиля)."
   ]
  },
  {
   "cell_type": "code",
   "execution_count": 41,
   "metadata": {},
   "outputs": [
    {
     "data": {
      "text/plain": [
       "False    65609\n",
       "Name: color, dtype: int64"
      ]
     },
     "execution_count": 41,
     "metadata": {},
     "output_type": "execute_result"
    }
   ],
   "source": [
    "# Проверим столбец на наличие пропусков.\n",
    "united.color.isna().value_counts()"
   ]
  },
  {
   "cell_type": "raw",
   "metadata": {},
   "source": [
    "Пропусков нет."
   ]
  },
  {
   "cell_type": "code",
   "execution_count": 42,
   "metadata": {},
   "outputs": [
    {
     "data": {
      "text/plain": [
       "чёрный         20414\n",
       "белый          12474\n",
       "серый           8122\n",
       "серебристый     6977\n",
       "синий           6171\n",
       "коричневый      3012\n",
       "красный         2928\n",
       "зелёный         1605\n",
       "бежевый         1205\n",
       "голубой          830\n",
       "золотистый       448\n",
       "пурпурный        443\n",
       "фиолетовый       362\n",
       "жёлтый           341\n",
       "оранжевый        259\n",
       "розовый           18\n",
       "Name: color, dtype: int64"
      ]
     },
     "metadata": {},
     "output_type": "display_data"
    },
    {
     "data": {
      "text/plain": [
       "16"
      ]
     },
     "metadata": {},
     "output_type": "display_data"
    }
   ],
   "source": [
    "display(united.color.value_counts())\n",
    "display(len(united.color.value_counts()))"
   ]
  },
  {
   "cell_type": "code",
   "execution_count": 43,
   "metadata": {},
   "outputs": [
    {
     "data": {
      "text/plain": [
       "<AxesSubplot:>"
      ]
     },
     "execution_count": 43,
     "metadata": {},
     "output_type": "execute_result"
    },
    {
     "data": {
      "image/png": "[encoded data removed]",
      "text/plain": [
       "<Figure size 432x288 with 1 Axes>"
      ]
     },
     "metadata": {
      "needs_background": "light"
     },
     "output_type": "display_data"
    }
   ],
   "source": [
    "#посмотрим на распределение\n",
    "united.color.value_counts().plot.barh() "
   ]
  },
  {
   "cell_type": "code",
   "execution_count": 44,
   "metadata": {},
   "outputs": [],
   "source": [
    "cat_cols.append('color') # Признак категориальный, добавим в соответствующий список"
   ]
  },
  {
   "cell_type": "markdown",
   "metadata": {},
   "source": [
    "## Столбец description (описание автомобиля)."
   ]
  },
  {
   "cell_type": "code",
   "execution_count": 45,
   "metadata": {},
   "outputs": [
    {
     "data": {
      "text/plain": [
       "False    65609\n",
       "Name: description, dtype: int64"
      ]
     },
     "execution_count": 45,
     "metadata": {},
     "output_type": "execute_result"
    }
   ],
   "source": [
    "# Проверим столбец на наличие пропусков.\n",
    "united.description.isna().value_counts()"
   ]
  },
  {
   "cell_type": "raw",
   "metadata": {},
   "source": [
    "Пропусков нет. Преобразуем этот признак в числовой - количество символов в описании."
   ]
  },
  {
   "cell_type": "code",
   "execution_count": 46,
   "metadata": {},
   "outputs": [],
   "source": [
    "united.description = united['description'].apply(lambda x: len(x)) # заменили значения\n",
    "united.rename(columns={'description': 'description_length'}, inplace=True) # переименовали столбец"
   ]
  },
  {
   "cell_type": "code",
   "execution_count": 47,
   "metadata": {},
   "outputs": [],
   "source": [
    "num_cols.append('description_length') # Признак числовой, добавим в соответствующий список"
   ]
  },
  {
   "cell_type": "markdown",
   "metadata": {},
   "source": [
    "## Столбец engineDisplacement (объем двигателя)."
   ]
  },
  {
   "cell_type": "code",
   "execution_count": 48,
   "metadata": {},
   "outputs": [
    {
     "data": {
      "text/plain": [
       "False    65609\n",
       "Name: engineDisplacement, dtype: int64"
      ]
     },
     "execution_count": 48,
     "metadata": {},
     "output_type": "execute_result"
    }
   ],
   "source": [
    "# Проверим столбец на наличие пропусков.\n",
    "united.engineDisplacement.isna().value_counts()"
   ]
  },
  {
   "cell_type": "raw",
   "metadata": {},
   "source": [
    "Пропусков нет."
   ]
  },
  {
   "cell_type": "code",
   "execution_count": 49,
   "metadata": {},
   "outputs": [],
   "source": [
    "united.engineDisplacement = united['engineDisplacement'].apply(lambda x: x.split(' ') ) # заменили значения"
   ]
  },
  {
   "cell_type": "code",
   "execution_count": 50,
   "metadata": {},
   "outputs": [],
   "source": [
    "united.engineDisplacement = united['engineDisplacement'].apply(lambda x: x[0])  # заменили значения"
   ]
  },
  {
   "cell_type": "raw",
   "metadata": {},
   "source": [
    "Здесь мы сталкиваемся с проблемой, что в нашем датасете есть 138 автомобилей с электрическим двигателем, где объем двигателя равен нулю. А в столбце engineDisplacement он не указан никак. Ниже преобразуем строковые значения столбца engineDisplacement в числовые, присваивая нулевой объем двигателя для электромобилей."
   ]
  },
  {
   "cell_type": "code",
   "execution_count": 51,
   "metadata": {},
   "outputs": [
    {
     "name": "stderr",
     "output_type": "stream",
     "text": [
      "C:\\Users\\vsevo\\anaconda3\\lib\\site-packages\\pandas\\core\\generic.py:5168: SettingWithCopyWarning: \n",
      "A value is trying to be set on a copy of a slice from a DataFrame.\n",
      "Try using .loc[row_indexer,col_indexer] = value instead\n",
      "\n",
      "See the caveats in the documentation: https://pandas.pydata.org/pandas-docs/stable/user_guide/indexing.html#returning-a-view-versus-a-copy\n",
      "  self[name] = value\n"
     ]
    }
   ],
   "source": [
    "# Записываем в отдельную переменную датасет с машинами с электродвигателем.\n",
    "temp_electro = united[(united.fuelType == 'электро')]\n",
    "# Записываем в отдельную переменную датасет с машинами с двигателем внутреннего сгорания.\n",
    "temp_traditional = united[(united.fuelType != 'электро')]\n",
    "# Для машин с двигателем внутреннего сгорания заменяем строковые значения объема двигателя числовыми\n",
    "temp_traditional.engineDisplacement = temp_traditional['engineDisplacement'].apply(lambda x: float(x))\n",
    "# Для машин с электродвигателем присваиваем значения объема двигателя 0.0.\n",
    "temp_electro.engineDisplacement = temp_electro['engineDisplacement'].apply(lambda x: 0.0)\n",
    "# Объединяем датасеты в один.\n",
    "united = temp_electro.append(temp_traditional, ignore_index = True)"
   ]
  },
  {
   "cell_type": "raw",
   "metadata": {},
   "source": [
    "Теперь, когда мы привели столбец к числовому формату посмотрим на его распределение."
   ]
  },
  {
   "cell_type": "code",
   "execution_count": 52,
   "metadata": {},
   "outputs": [
    {
     "data": {
      "text/plain": [
       "count    65609.000000\n",
       "mean         2.383141\n",
       "std          0.959896\n",
       "min          0.000000\n",
       "25%          1.600000\n",
       "50%          2.000000\n",
       "75%          3.000000\n",
       "max          6.800000\n",
       "Name: engineDisplacement, dtype: float64"
      ]
     },
     "execution_count": 52,
     "metadata": {},
     "output_type": "execute_result"
    },
    {
     "data": {
      "image/png": "[encoded data removed]",
      "text/plain": [
       "<Figure size 432x288 with 1 Axes>"
      ]
     },
     "metadata": {
      "needs_background": "light"
     },
     "output_type": "display_data"
    }
   ],
   "source": [
    "united.engineDisplacement.hist()\n",
    "united.engineDisplacement.describe()"
   ]
  },
  {
   "cell_type": "raw",
   "metadata": {},
   "source": [
    "Выбросов нет."
   ]
  },
  {
   "cell_type": "code",
   "execution_count": 53,
   "metadata": {},
   "outputs": [],
   "source": [
    "num_cols.append('engineDisplacement') # Признак числовой, добавим в соответствующий список"
   ]
  },
  {
   "cell_type": "markdown",
   "metadata": {},
   "source": [
    "## Столбец enginePower (мощность двигателя)."
   ]
  },
  {
   "cell_type": "code",
   "execution_count": 54,
   "metadata": {},
   "outputs": [
    {
     "data": {
      "text/plain": [
       "False    65609\n",
       "Name: enginePower, dtype: int64"
      ]
     },
     "execution_count": 54,
     "metadata": {},
     "output_type": "execute_result"
    }
   ],
   "source": [
    "# Проверим столбец на наличие пропусков.\n",
    "united.enginePower.isna().value_counts()"
   ]
  },
  {
   "cell_type": "raw",
   "metadata": {},
   "source": [
    "Пропусков нет."
   ]
  },
  {
   "cell_type": "code",
   "execution_count": 55,
   "metadata": {},
   "outputs": [],
   "source": [
    "united.enginePower = united['enginePower'].apply(lambda x: float(x.split(' ')[0])) # заменили значения\n"
   ]
  },
  {
   "cell_type": "code",
   "execution_count": 56,
   "metadata": {},
   "outputs": [
    {
     "data": {
      "text/plain": [
       "count    65609.000000\n",
       "mean       188.723011\n",
       "std         89.322026\n",
       "min          7.000000\n",
       "25%        125.000000\n",
       "50%        170.000000\n",
       "75%        234.000000\n",
       "max        800.000000\n",
       "Name: enginePower, dtype: float64"
      ]
     },
     "execution_count": 56,
     "metadata": {},
     "output_type": "execute_result"
    },
    {
     "data": {
      "image/png": "[encoded data removed]",
      "text/plain": [
       "<Figure size 432x288 with 1 Axes>"
      ]
     },
     "metadata": {
      "needs_background": "light"
     },
     "output_type": "display_data"
    }
   ],
   "source": [
    "# Теперь, когда мы привели столбец к числовому формату посмотрим на его распределение.\n",
    "united.enginePower.hist()\n",
    "united.enginePower.describe()"
   ]
  },
  {
   "cell_type": "raw",
   "metadata": {},
   "source": [
    "Выбросов нет"
   ]
  },
  {
   "cell_type": "code",
   "execution_count": 57,
   "metadata": {},
   "outputs": [],
   "source": [
    "num_cols.append('enginePower') # Признак числовой, добавим в соответствующий список"
   ]
  },
  {
   "cell_type": "markdown",
   "metadata": {},
   "source": [
    "## Столбец fuelType (тип топлива)."
   ]
  },
  {
   "cell_type": "code",
   "execution_count": 58,
   "metadata": {},
   "outputs": [
    {
     "data": {
      "text/plain": [
       "False    65609\n",
       "Name: fuelType, dtype: int64"
      ]
     },
     "execution_count": 58,
     "metadata": {},
     "output_type": "execute_result"
    }
   ],
   "source": [
    "# Проверим столбец на наличие пропусков.\n",
    "united.fuelType.isna().value_counts()"
   ]
  },
  {
   "cell_type": "raw",
   "metadata": {},
   "source": [
    "Пропусков нет."
   ]
  },
  {
   "cell_type": "code",
   "execution_count": 59,
   "metadata": {},
   "outputs": [
    {
     "data": {
      "text/plain": [
       "бензин     53453\n",
       "дизель     11599\n",
       "гибрид       407\n",
       "электро      137\n",
       "газ           13\n",
       "Name: fuelType, dtype: int64"
      ]
     },
     "metadata": {},
     "output_type": "display_data"
    },
    {
     "data": {
      "text/plain": [
       "5"
      ]
     },
     "metadata": {},
     "output_type": "display_data"
    }
   ],
   "source": [
    "display(united.fuelType.value_counts())\n",
    "display(len(united.fuelType.value_counts()))"
   ]
  },
  {
   "cell_type": "code",
   "execution_count": 60,
   "metadata": {},
   "outputs": [
    {
     "data": {
      "text/plain": [
       "<AxesSubplot:>"
      ]
     },
     "execution_count": 60,
     "metadata": {},
     "output_type": "execute_result"
    },
    {
     "data": {
      "image/png": "[encoded data removed]",
      "text/plain": [
       "<Figure size 432x288 with 1 Axes>"
      ]
     },
     "metadata": {
      "needs_background": "light"
     },
     "output_type": "display_data"
    }
   ],
   "source": [
    "#посмотрим на распределение\n",
    "united.fuelType.value_counts().plot.barh() "
   ]
  },
  {
   "cell_type": "code",
   "execution_count": 61,
   "metadata": {},
   "outputs": [],
   "source": [
    "cat_cols.append('fuelType') # Признак категориальный, добавим в соответствующий список"
   ]
  },
  {
   "cell_type": "markdown",
   "metadata": {},
   "source": [
    "##  Столбец image (изображение)."
   ]
  },
  {
   "cell_type": "raw",
   "metadata": {},
   "source": [
    "Столбец содержит только ссылки на страницы в интернете с изображением автомобиля. Можно проверить каждую ссылку на ее уникальность. Если ссылка уникальна, тогда будем считать изображение истинным, если ссылка не уникальна (то есть в объявлениях о продаже разных машин ссылаются на одно фото), то изображение можно считать фейковым."
   ]
  },
  {
   "cell_type": "raw",
   "metadata": {},
   "source": [
    "Функция unique_or_not содержит вложенные циклы, а датасет united большой. Считать будет долго, часа 2-3."
   ]
  },
  {
   "cell_type": "code",
   "execution_count": 62,
   "metadata": {
    "scrolled": true
   },
   "outputs": [
    {
     "name": "stderr",
     "output_type": "stream",
     "text": [
      "<ipython-input-2-349788707dfc>:18: SettingWithCopyWarning: \n",
      "A value is trying to be set on a copy of a slice from a DataFrame\n",
      "\n",
      "See the caveats in the documentation: https://pandas.pydata.org/pandas-docs/stable/user_guide/indexing.html#returning-a-view-versus-a-copy\n",
      "  x[i] = x[i]\n",
      "<ipython-input-2-349788707dfc>:16: SettingWithCopyWarning: \n",
      "A value is trying to be set on a copy of a slice from a DataFrame\n",
      "\n",
      "See the caveats in the documentation: https://pandas.pydata.org/pandas-docs/stable/user_guide/indexing.html#returning-a-view-versus-a-copy\n",
      "  x[i] = False\n",
      "<ipython-input-2-349788707dfc>:22: SettingWithCopyWarning: \n",
      "A value is trying to be set on a copy of a slice from a DataFrame\n",
      "\n",
      "See the caveats in the documentation: https://pandas.pydata.org/pandas-docs/stable/user_guide/indexing.html#returning-a-view-versus-a-copy\n",
      "  x[i] = True\n",
      "<ipython-input-2-349788707dfc>:24: SettingWithCopyWarning: \n",
      "A value is trying to be set on a copy of a slice from a DataFrame\n",
      "\n",
      "See the caveats in the documentation: https://pandas.pydata.org/pandas-docs/stable/user_guide/indexing.html#returning-a-view-versus-a-copy\n",
      "  x[i] = x[i]\n"
     ]
    }
   ],
   "source": [
    "#ls = united.image.tolist()\n",
    "unique_or_not(united.image)"
   ]
  },
  {
   "cell_type": "code",
   "execution_count": 63,
   "metadata": {},
   "outputs": [
    {
     "data": {
      "text/plain": [
       "True     65227\n",
       "False      382\n",
       "Name: image, dtype: int64"
      ]
     },
     "execution_count": 63,
     "metadata": {},
     "output_type": "execute_result"
    }
   ],
   "source": [
    "united.image.value_counts()"
   ]
  },
  {
   "cell_type": "raw",
   "metadata": {},
   "source": [
    "Всего 382 фейковых изображения."
   ]
  },
  {
   "cell_type": "code",
   "execution_count": 64,
   "metadata": {},
   "outputs": [],
   "source": [
    "bin_cols.append('image') # Признак бинарный, добавим в соответствующий список"
   ]
  },
  {
   "cell_type": "code",
   "execution_count": 65,
   "metadata": {},
   "outputs": [
    {
     "data": {
      "text/plain": [
       "<AxesSubplot:xlabel='image', ylabel='count'>"
      ]
     },
     "execution_count": 65,
     "metadata": {},
     "output_type": "execute_result"
    },
    {
     "data": {
      "image/png": "[encoded data removed]",
      "text/plain": [
       "<Figure size 432x288 with 1 Axes>"
      ]
     },
     "metadata": {
      "needs_background": "light"
     },
     "output_type": "display_data"
    }
   ],
   "source": [
    "sns.countplot(x = 'image', data = united)"
   ]
  },
  {
   "cell_type": "markdown",
   "metadata": {},
   "source": [
    "## Столбец mileage (пробег)."
   ]
  },
  {
   "cell_type": "code",
   "execution_count": 66,
   "metadata": {},
   "outputs": [
    {
     "data": {
      "text/plain": [
       "False    65609\n",
       "Name: mileage, dtype: int64"
      ]
     },
     "execution_count": 66,
     "metadata": {},
     "output_type": "execute_result"
    }
   ],
   "source": [
    "# Проверим столбец на наличие пропусков.\n",
    "united.mileage.isna().value_counts()"
   ]
  },
  {
   "cell_type": "raw",
   "metadata": {},
   "source": [
    "Пропусков нет."
   ]
  },
  {
   "cell_type": "code",
   "execution_count": 67,
   "metadata": {},
   "outputs": [],
   "source": [
    "#Почистим данные\n",
    "united['mileage'] = united['mileage'].apply(lambda x: str(x).replace('\\xa0км', ''))\n",
    "\n",
    "united['mileage'] = united.mileage.apply(\n",
    "    lambda x: int(\"\".join(filter(str.isdigit, x))))"
   ]
  },
  {
   "cell_type": "code",
   "execution_count": 68,
   "metadata": {},
   "outputs": [
    {
     "data": {
      "text/plain": [
       "count      65609.000000\n",
       "mean      152734.059931\n",
       "std        98234.485146\n",
       "min            1.000000\n",
       "25%        82450.000000\n",
       "50%       140000.000000\n",
       "75%       202667.000000\n",
       "max      1000000.000000\n",
       "Name: mileage, dtype: float64"
      ]
     },
     "execution_count": 68,
     "metadata": {},
     "output_type": "execute_result"
    },
    {
     "data": {
      "image/png": "[encoded data removed]",
      "text/plain": [
       "<Figure size 432x288 with 1 Axes>"
      ]
     },
     "metadata": {
      "needs_background": "light"
     },
     "output_type": "display_data"
    }
   ],
   "source": [
    "# Этот столбец числовой и без пропусков. Поэтому посмотрим на его распределение:\n",
    "united.mileage.hist()\n",
    "united.mileage.describe()"
   ]
  },
  {
   "cell_type": "raw",
   "metadata": {},
   "source": [
    "Выбросов нет."
   ]
  },
  {
   "cell_type": "code",
   "execution_count": 69,
   "metadata": {},
   "outputs": [],
   "source": [
    "num_cols.append('mileage') # Признак числовой, добавим в соответствующий список"
   ]
  },
  {
   "cell_type": "markdown",
   "metadata": {},
   "source": [
    "## Столбец modelDate (дата выпуска модели)"
   ]
  },
  {
   "cell_type": "code",
   "execution_count": 70,
   "metadata": {},
   "outputs": [
    {
     "data": {
      "text/plain": [
       "False    65609\n",
       "Name: modelDate, dtype: int64"
      ]
     },
     "execution_count": 70,
     "metadata": {},
     "output_type": "execute_result"
    }
   ],
   "source": [
    "# Проверим столбец на наличие пропусков.\n",
    "united.modelDate.isna().value_counts()"
   ]
  },
  {
   "cell_type": "raw",
   "metadata": {},
   "source": [
    "Пропусков нет."
   ]
  },
  {
   "cell_type": "code",
   "execution_count": 71,
   "metadata": {},
   "outputs": [
    {
     "data": {
      "text/plain": [
       "count    65609.000000\n",
       "mean      2008.907878\n",
       "std          7.304078\n",
       "min       1904.000000\n",
       "25%       2006.000000\n",
       "50%       2010.000000\n",
       "75%       2014.000000\n",
       "max       2021.000000\n",
       "Name: modelDate, dtype: float64"
      ]
     },
     "execution_count": 71,
     "metadata": {},
     "output_type": "execute_result"
    },
    {
     "data": {
      "image/png": "[encoded data removed]",
      "text/plain": [
       "<Figure size 432x288 with 1 Axes>"
      ]
     },
     "metadata": {
      "needs_background": "light"
     },
     "output_type": "display_data"
    }
   ],
   "source": [
    "# Этот столбец числовой и без пропусков. Поэтому посмотрим на его распределение:\n",
    "united.modelDate.hist()\n",
    "united.modelDate.describe()"
   ]
  },
  {
   "cell_type": "raw",
   "metadata": {},
   "source": [
    "Выбросов нет. Что касается старых моделей (например 1904 года), то в небольшом количестве такие могут быть. Если бы были года выпуска до изобретения автомобиля (например 1851) тогда это был бы выброс."
   ]
  },
  {
   "cell_type": "code",
   "execution_count": 72,
   "metadata": {},
   "outputs": [],
   "source": [
    "num_cols.append('modelDate') # Признак числовой, добавим в соответствующий список"
   ]
  },
  {
   "cell_type": "markdown",
   "metadata": {},
   "source": [
    "## Столбец model_name (название модели)."
   ]
  },
  {
   "cell_type": "code",
   "execution_count": 73,
   "metadata": {},
   "outputs": [
    {
     "data": {
      "text/plain": [
       "False    65609\n",
       "Name: model_name, dtype: int64"
      ]
     },
     "execution_count": 73,
     "metadata": {},
     "output_type": "execute_result"
    }
   ],
   "source": [
    "# Проверим столбец на наличие пропусков.\n",
    "united.model_name.isna().value_counts()"
   ]
  },
  {
   "cell_type": "raw",
   "metadata": {},
   "source": [
    "Пропусков нет."
   ]
  },
  {
   "cell_type": "code",
   "execution_count": 74,
   "metadata": {},
   "outputs": [
    {
     "data": {
      "text/plain": [
       "OCTAVIA                           2471\n",
       "5ER                               1719\n",
       "CAMRY                             1475\n",
       "POLO                              1410\n",
       "E_KLASSE                          1402\n",
       "                                  ... \n",
       "Skoda Fabia I Рестайлинг             1\n",
       "McLaren 720S                         1\n",
       "Jeep Renegade I                      1\n",
       "LADA (ВАЗ) 2105  21053-20            1\n",
       "Chevrolet Malibu IX Рестайлинг       1\n",
       "Name: model_name, Length: 2173, dtype: int64"
      ]
     },
     "metadata": {},
     "output_type": "display_data"
    },
    {
     "data": {
      "text/plain": [
       "2173"
      ]
     },
     "metadata": {},
     "output_type": "display_data"
    }
   ],
   "source": [
    "display(united.model_name.value_counts())\n",
    "display(len(united.model_name.value_counts()))"
   ]
  },
  {
   "cell_type": "code",
   "execution_count": 75,
   "metadata": {},
   "outputs": [],
   "source": [
    "cat_cols.append('model_name') # Признак категориальный, добавим в соответствующий список"
   ]
  },
  {
   "cell_type": "markdown",
   "metadata": {},
   "source": [
    "## Столбец name (имя)."
   ]
  },
  {
   "cell_type": "code",
   "execution_count": 76,
   "metadata": {},
   "outputs": [],
   "source": [
    "# В этом признаке намешано много разной информации из других столбцов. Обработка не целесообразна. Удалим его.\n",
    "del united['name']"
   ]
  },
  {
   "cell_type": "markdown",
   "metadata": {},
   "source": [
    "## Столбец numberOfDoors (количество дверей)."
   ]
  },
  {
   "cell_type": "code",
   "execution_count": 77,
   "metadata": {},
   "outputs": [
    {
     "data": {
      "text/plain": [
       "False    65609\n",
       "Name: numberOfDoors, dtype: int64"
      ]
     },
     "execution_count": 77,
     "metadata": {},
     "output_type": "execute_result"
    }
   ],
   "source": [
    "# Проверим столбец на наличие пропусков.\n",
    "united.numberOfDoors.isna().value_counts()"
   ]
  },
  {
   "cell_type": "raw",
   "metadata": {},
   "source": [
    "Пропусков нет."
   ]
  },
  {
   "cell_type": "code",
   "execution_count": 78,
   "metadata": {},
   "outputs": [
    {
     "data": {
      "text/plain": [
       "5    36866\n",
       "4    25512\n",
       "2     2129\n",
       "3     1101\n",
       "0        1\n",
       "Name: numberOfDoors, dtype: int64"
      ]
     },
     "metadata": {},
     "output_type": "display_data"
    },
    {
     "data": {
      "text/plain": [
       "5"
      ]
     },
     "metadata": {},
     "output_type": "display_data"
    }
   ],
   "source": [
    "display(united.numberOfDoors.value_counts())\n",
    "display(len(united.numberOfDoors.value_counts()))"
   ]
  },
  {
   "cell_type": "raw",
   "metadata": {},
   "source": [
    "Выбросов нет. По своей сути это категориальный признак. Заменим числовые значения категориальными."
   ]
  },
  {
   "cell_type": "code",
   "execution_count": 79,
   "metadata": {},
   "outputs": [],
   "source": [
    "# Создадим словарь numberOfDoors_dict куда запишим категориальные значения, соответствующие \n",
    "# 5 (five_doors), 4 (four_doors), 3 (three_doors), 2 (two_doors), 1 (one_door) и 0 (zero_doors):\n",
    "numberOfDoors_dict = {\"numberOfDoors\": {5: 'five_doors', 4: 'four_doors', \n",
    "                                        3: 'three_doors', 2: 'two_doors', 1: 'one_door', 0: 'zero_doors'}}# Создали словарь\n",
    "united = united.replace(numberOfDoors_dict)# Заменили в столбце numberOfDoors числовые значения категориальными."
   ]
  },
  {
   "cell_type": "code",
   "execution_count": 80,
   "metadata": {},
   "outputs": [
    {
     "data": {
      "text/plain": [
       "<AxesSubplot:>"
      ]
     },
     "execution_count": 80,
     "metadata": {},
     "output_type": "execute_result"
    },
    {
     "data": {
      "image/png": "[encoded data removed]",
      "text/plain": [
       "<Figure size 432x288 with 1 Axes>"
      ]
     },
     "metadata": {
      "needs_background": "light"
     },
     "output_type": "display_data"
    }
   ],
   "source": [
    "#посмотрим на распределение\n",
    "united.numberOfDoors.value_counts().plot.barh() "
   ]
  },
  {
   "cell_type": "code",
   "execution_count": 81,
   "metadata": {},
   "outputs": [],
   "source": [
    "cat_cols.append('numberOfDoors') # Признак категориальный, добавим в соответствующий список"
   ]
  },
  {
   "cell_type": "markdown",
   "metadata": {},
   "source": [
    "## Столбец priceCurrency (валюта)"
   ]
  },
  {
   "cell_type": "code",
   "execution_count": 82,
   "metadata": {},
   "outputs": [
    {
     "data": {
      "text/plain": [
       "False    65609\n",
       "Name: priceCurrency, dtype: int64"
      ]
     },
     "execution_count": 82,
     "metadata": {},
     "output_type": "execute_result"
    }
   ],
   "source": [
    "# Проверим столбец на наличие пропусков.\n",
    "united.priceCurrency.isna().value_counts()"
   ]
  },
  {
   "cell_type": "raw",
   "metadata": {},
   "source": [
    "Пропусков нет."
   ]
  },
  {
   "cell_type": "code",
   "execution_count": 83,
   "metadata": {},
   "outputs": [
    {
     "data": {
      "text/plain": [
       "RUB    65609\n",
       "Name: priceCurrency, dtype: int64"
      ]
     },
     "metadata": {},
     "output_type": "display_data"
    },
    {
     "data": {
      "text/plain": [
       "1"
      ]
     },
     "metadata": {},
     "output_type": "display_data"
    }
   ],
   "source": [
    "display(united.priceCurrency.value_counts())\n",
    "display(len(united.priceCurrency.value_counts()))"
   ]
  },
  {
   "cell_type": "raw",
   "metadata": {},
   "source": [
    "Все цены указаны в рублях. Нет смысла брать этот признак в обработку, он не вариативен и не информанивен. Удалим."
   ]
  },
  {
   "cell_type": "code",
   "execution_count": 84,
   "metadata": {},
   "outputs": [],
   "source": [
    "del united['priceCurrency']"
   ]
  },
  {
   "cell_type": "markdown",
   "metadata": {},
   "source": [
    "## Столбец productionDate (год производства)."
   ]
  },
  {
   "cell_type": "code",
   "execution_count": 85,
   "metadata": {},
   "outputs": [
    {
     "data": {
      "text/plain": [
       "False    65609\n",
       "Name: productionDate, dtype: int64"
      ]
     },
     "execution_count": 85,
     "metadata": {},
     "output_type": "execute_result"
    }
   ],
   "source": [
    "# Проверим столбец на наличие пропусков.\n",
    "united.productionDate.isna().value_counts()"
   ]
  },
  {
   "cell_type": "raw",
   "metadata": {},
   "source": [
    "Пропусков нет."
   ]
  },
  {
   "cell_type": "code",
   "execution_count": 86,
   "metadata": {},
   "outputs": [
    {
     "data": {
      "text/plain": [
       "count    65609.000000\n",
       "mean      2010.251840\n",
       "std          6.868941\n",
       "min       1904.000000\n",
       "25%       2007.000000\n",
       "50%       2012.000000\n",
       "75%       2015.000000\n",
       "max       2021.000000\n",
       "Name: productionDate, dtype: float64"
      ]
     },
     "execution_count": 86,
     "metadata": {},
     "output_type": "execute_result"
    },
    {
     "data": {
      "image/png": "[encoded data removed]",
      "text/plain": [
       "<Figure size 432x288 with 1 Axes>"
      ]
     },
     "metadata": {
      "needs_background": "light"
     },
     "output_type": "display_data"
    }
   ],
   "source": [
    "# Этот столбец числовой и без пропусков. Поэтому посмотрим на его распределение:\n",
    "united.productionDate.hist()\n",
    "united.productionDate.describe()"
   ]
  },
  {
   "cell_type": "code",
   "execution_count": 87,
   "metadata": {},
   "outputs": [],
   "source": [
    "num_cols.append('productionDate') # Признак числовой, добавим в соответствующий список"
   ]
  },
  {
   "cell_type": "markdown",
   "metadata": {},
   "source": [
    "## Столбцы car_age (возраст автомобиля) и model_age (возраст модели). "
   ]
  },
  {
   "cell_type": "raw",
   "metadata": {},
   "source": [
    "На основании признаков  productionDate (год производства) и modelDate (дата выпуска модели) мы можем сгенерировать два новых признака: car_age (возраст автомобиля) = 2021 - productionDate (год производства) и model_age (возраст модели) = 2021 - modelDate (дата выпуска модели)."
   ]
  },
  {
   "cell_type": "code",
   "execution_count": 88,
   "metadata": {},
   "outputs": [],
   "source": [
    "united['car_age'] = 2021\n",
    "united['model_age'] = 2021\n",
    "united['car_age'] = united['car_age'] - united['productionDate']\n",
    "united['model_age'] = united['model_age'] - united['modelDate']"
   ]
  },
  {
   "cell_type": "code",
   "execution_count": 89,
   "metadata": {},
   "outputs": [],
   "source": [
    "num_cols.append('model_age') # Признак числовой, добавим в соответствующий список\n",
    "num_cols.append('car_age') # Признак числовой, добавим в соответствующий список"
   ]
  },
  {
   "cell_type": "markdown",
   "metadata": {},
   "source": [
    "## Столбец vehicleConfiguration (конфигурация транспортного средства)."
   ]
  },
  {
   "cell_type": "code",
   "execution_count": 90,
   "metadata": {},
   "outputs": [],
   "source": [
    "# В этом признаке намешано много разной информации из других столбцов. Обработка не целесообразна. Удалим его.\n",
    "del united['vehicleConfiguration']"
   ]
  },
  {
   "cell_type": "markdown",
   "metadata": {},
   "source": [
    "## Столбец vehicleTransmission - трансмиссия"
   ]
  },
  {
   "cell_type": "code",
   "execution_count": 91,
   "metadata": {},
   "outputs": [
    {
     "data": {
      "text/plain": [
       "False    65609\n",
       "Name: vehicleTransmission, dtype: int64"
      ]
     },
     "execution_count": 91,
     "metadata": {},
     "output_type": "execute_result"
    }
   ],
   "source": [
    "# Проверим столбец на наличие пропусков.\n",
    "united.vehicleTransmission.isna().value_counts()"
   ]
  },
  {
   "cell_type": "raw",
   "metadata": {},
   "source": [
    "Пропусков нет."
   ]
  },
  {
   "cell_type": "code",
   "execution_count": 92,
   "metadata": {},
   "outputs": [
    {
     "data": {
      "text/plain": [
       "автоматическая      37639\n",
       "механическая        12662\n",
       "роботизированная     7798\n",
       "вариатор             7510\n",
       "Name: vehicleTransmission, dtype: int64"
      ]
     },
     "metadata": {},
     "output_type": "display_data"
    },
    {
     "data": {
      "text/plain": [
       "4"
      ]
     },
     "metadata": {},
     "output_type": "display_data"
    }
   ],
   "source": [
    "display(united.vehicleTransmission.value_counts())\n",
    "display(len(united.vehicleTransmission.value_counts()))"
   ]
  },
  {
   "cell_type": "code",
   "execution_count": 93,
   "metadata": {},
   "outputs": [
    {
     "data": {
      "text/plain": [
       "<AxesSubplot:>"
      ]
     },
     "execution_count": 93,
     "metadata": {},
     "output_type": "execute_result"
    },
    {
     "data": {
      "image/png": "[encoded data removed]",
      "text/plain": [
       "<Figure size 432x288 with 1 Axes>"
      ]
     },
     "metadata": {
      "needs_background": "light"
     },
     "output_type": "display_data"
    }
   ],
   "source": [
    "#посмотрим на распределение\n",
    "united.vehicleTransmission.value_counts().plot.barh() "
   ]
  },
  {
   "cell_type": "code",
   "execution_count": 94,
   "metadata": {},
   "outputs": [],
   "source": [
    "cat_cols.append('vehicleTransmission') # Признак категориальный, добавим в соответствующий список"
   ]
  },
  {
   "cell_type": "markdown",
   "metadata": {},
   "source": [
    "## Столбец Владельцы (кол-во владельцев)."
   ]
  },
  {
   "cell_type": "code",
   "execution_count": 95,
   "metadata": {},
   "outputs": [
    {
     "data": {
      "text/plain": [
       "False    65609\n",
       "Name: Владельцы, dtype: int64"
      ]
     },
     "execution_count": 95,
     "metadata": {},
     "output_type": "execute_result"
    }
   ],
   "source": [
    "# Проверим столбец на наличие пропусков.\n",
    "united.Владельцы.isna().value_counts()"
   ]
  },
  {
   "cell_type": "raw",
   "metadata": {},
   "source": [
    "Пропусков нет."
   ]
  },
  {
   "cell_type": "code",
   "execution_count": 96,
   "metadata": {},
   "outputs": [
    {
     "data": {
      "text/plain": [
       "count           65609\n",
       "unique              5\n",
       "top       3 или более\n",
       "freq            27688\n",
       "Name: Владельцы, dtype: object"
      ]
     },
     "execution_count": 96,
     "metadata": {},
     "output_type": "execute_result"
    },
    {
     "data": {
      "image/png": "[encoded data removed]",
      "text/plain": [
       "<Figure size 432x288 with 1 Axes>"
      ]
     },
     "metadata": {
      "needs_background": "light"
     },
     "output_type": "display_data"
    }
   ],
   "source": [
    "# Этот столбец числовой и без пропусков. Поэтому посмотрим на его распределение:\n",
    "united.Владельцы.hist()\n",
    "united.Владельцы.describe()"
   ]
  },
  {
   "cell_type": "raw",
   "metadata": {},
   "source": [
    "По своей сути это категориальный признак."
   ]
  },
  {
   "cell_type": "code",
   "execution_count": 97,
   "metadata": {},
   "outputs": [],
   "source": [
    "cat_cols.append('Владельцы') # Признак категориальный, добавим в соответствующий список"
   ]
  },
  {
   "cell_type": "markdown",
   "metadata": {},
   "source": [
    "## Столбец ПТС."
   ]
  },
  {
   "cell_type": "code",
   "execution_count": 98,
   "metadata": {},
   "outputs": [
    {
     "data": {
      "text/plain": [
       "False    65608\n",
       "True         1\n",
       "Name: ПТС, dtype: int64"
      ]
     },
     "execution_count": 98,
     "metadata": {},
     "output_type": "execute_result"
    }
   ],
   "source": [
    "# Проверим столбец на наличие пропусков.\n",
    "united.ПТС.isna().value_counts()"
   ]
  },
  {
   "cell_type": "code",
   "execution_count": 99,
   "metadata": {},
   "outputs": [
    {
     "data": {
      "text/plain": [
       "Оригинал    57486\n",
       "Дубликат     8122\n",
       "Name: ПТС, dtype: int64"
      ]
     },
     "metadata": {},
     "output_type": "display_data"
    },
    {
     "data": {
      "text/plain": [
       "2"
      ]
     },
     "metadata": {},
     "output_type": "display_data"
    }
   ],
   "source": [
    "display(united.ПТС.value_counts())\n",
    "display(len(united.ПТС.value_counts()))"
   ]
  },
  {
   "cell_type": "raw",
   "metadata": {},
   "source": [
    "Есть один пропуск. Так как признак бинарный и не существенный (дубликат ПТС это тоже документ), то заполним пропуск наугад. Так как большинство ПТС оригинальны, то и пропуску мы присвоим значение 'Оригинал'."
   ]
  },
  {
   "cell_type": "code",
   "execution_count": 100,
   "metadata": {},
   "outputs": [],
   "source": [
    "united['ПТС'] = united['ПТС'].fillna('Оригинал')"
   ]
  },
  {
   "cell_type": "code",
   "execution_count": 101,
   "metadata": {},
   "outputs": [
    {
     "data": {
      "text/plain": [
       "Оригинал    57487\n",
       "Дубликат     8122\n",
       "Name: ПТС, dtype: int64"
      ]
     },
     "metadata": {},
     "output_type": "display_data"
    },
    {
     "data": {
      "text/plain": [
       "2"
      ]
     },
     "metadata": {},
     "output_type": "display_data"
    }
   ],
   "source": [
    "display(united.ПТС.value_counts())\n",
    "display(len(united.ПТС.value_counts()))"
   ]
  },
  {
   "cell_type": "code",
   "execution_count": 102,
   "metadata": {},
   "outputs": [],
   "source": [
    "bin_cols.append('ПТС') # Признак бинарный, добавим в соответствующий список"
   ]
  },
  {
   "cell_type": "code",
   "execution_count": 103,
   "metadata": {},
   "outputs": [
    {
     "data": {
      "text/plain": [
       "<AxesSubplot:>"
      ]
     },
     "execution_count": 103,
     "metadata": {},
     "output_type": "execute_result"
    },
    {
     "data": {
      "image/png": "[encoded data removed]",
      "text/plain": [
       "<Figure size 432x288 with 1 Axes>"
      ]
     },
     "metadata": {
      "needs_background": "light"
     },
     "output_type": "display_data"
    }
   ],
   "source": [
    "united.ПТС.hist()"
   ]
  },
  {
   "cell_type": "markdown",
   "metadata": {},
   "source": [
    "## Столбец Привод."
   ]
  },
  {
   "cell_type": "code",
   "execution_count": 104,
   "metadata": {},
   "outputs": [
    {
     "data": {
      "text/plain": [
       "False    65609\n",
       "Name: Привод, dtype: int64"
      ]
     },
     "execution_count": 104,
     "metadata": {},
     "output_type": "execute_result"
    }
   ],
   "source": [
    "# Проверим столбец на наличие пропусков.\n",
    "united.Привод.isna().value_counts()"
   ]
  },
  {
   "cell_type": "raw",
   "metadata": {},
   "source": [
    "Пропусков нет."
   ]
  },
  {
   "cell_type": "code",
   "execution_count": 105,
   "metadata": {},
   "outputs": [
    {
     "data": {
      "text/plain": [
       "передний    29352\n",
       "полный      29242\n",
       "задний       7015\n",
       "Name: Привод, dtype: int64"
      ]
     },
     "metadata": {},
     "output_type": "display_data"
    },
    {
     "data": {
      "text/plain": [
       "3"
      ]
     },
     "metadata": {},
     "output_type": "display_data"
    }
   ],
   "source": [
    "display(united.Привод.value_counts())\n",
    "display(len(united.Привод.value_counts()))"
   ]
  },
  {
   "cell_type": "code",
   "execution_count": 106,
   "metadata": {},
   "outputs": [
    {
     "data": {
      "text/plain": [
       "<AxesSubplot:xlabel='Привод', ylabel='count'>"
      ]
     },
     "execution_count": 106,
     "metadata": {},
     "output_type": "execute_result"
    },
    {
     "data": {
      "image/png": "[encoded data removed]",
      "text/plain": [
       "<Figure size 432x288 with 1 Axes>"
      ]
     },
     "metadata": {
      "needs_background": "light"
     },
     "output_type": "display_data"
    }
   ],
   "source": [
    "sns.countplot(x = 'Привод', data = united)"
   ]
  },
  {
   "cell_type": "code",
   "execution_count": 107,
   "metadata": {},
   "outputs": [],
   "source": [
    "cat_cols.append('Привод') # Признак категориальный, добавим в соответствующий список"
   ]
  },
  {
   "cell_type": "markdown",
   "metadata": {},
   "source": [
    "## Столбец Руль."
   ]
  },
  {
   "cell_type": "code",
   "execution_count": 108,
   "metadata": {},
   "outputs": [
    {
     "data": {
      "text/plain": [
       "False    65609\n",
       "Name: Руль, dtype: int64"
      ]
     },
     "execution_count": 108,
     "metadata": {},
     "output_type": "execute_result"
    }
   ],
   "source": [
    "# Проверим столбец на наличие пропусков.\n",
    "united.Руль.isna().value_counts()"
   ]
  },
  {
   "cell_type": "raw",
   "metadata": {},
   "source": [
    "Пропусков нет."
   ]
  },
  {
   "cell_type": "code",
   "execution_count": 109,
   "metadata": {},
   "outputs": [
    {
     "data": {
      "text/plain": [
       "Левый     63355\n",
       "Правый     2254\n",
       "Name: Руль, dtype: int64"
      ]
     },
     "metadata": {},
     "output_type": "display_data"
    },
    {
     "data": {
      "text/plain": [
       "2"
      ]
     },
     "metadata": {},
     "output_type": "display_data"
    }
   ],
   "source": [
    "display(united.Руль.value_counts())\n",
    "display(len(united.Руль.value_counts()))"
   ]
  },
  {
   "cell_type": "code",
   "execution_count": 110,
   "metadata": {},
   "outputs": [
    {
     "data": {
      "text/plain": [
       "<AxesSubplot:xlabel='Руль', ylabel='count'>"
      ]
     },
     "execution_count": 110,
     "metadata": {},
     "output_type": "execute_result"
    },
    {
     "data": {
      "image/png": "[encoded data removed]",
      "text/plain": [
       "<Figure size 432x288 with 1 Axes>"
      ]
     },
     "metadata": {
      "needs_background": "light"
     },
     "output_type": "display_data"
    }
   ],
   "source": [
    "sns.countplot(x = 'Руль', data = united)"
   ]
  },
  {
   "cell_type": "code",
   "execution_count": 111,
   "metadata": {},
   "outputs": [],
   "source": [
    "bin_cols.append('Руль') # Признак бинарный, добавим в соответствующий список"
   ]
  },
  {
   "cell_type": "markdown",
   "metadata": {},
   "source": [
    "## Столбец Состояние."
   ]
  },
  {
   "cell_type": "code",
   "execution_count": 112,
   "metadata": {},
   "outputs": [
    {
     "data": {
      "text/plain": [
       "False    65609\n",
       "Name: Руль, dtype: int64"
      ]
     },
     "execution_count": 112,
     "metadata": {},
     "output_type": "execute_result"
    }
   ],
   "source": [
    "# Проверим столбец на наличие пропусков.\n",
    "united.Руль.isna().value_counts()"
   ]
  },
  {
   "cell_type": "raw",
   "metadata": {},
   "source": [
    "Пропусков нет."
   ]
  },
  {
   "cell_type": "code",
   "execution_count": 113,
   "metadata": {},
   "outputs": [
    {
     "data": {
      "text/plain": [
       "Не требует ремонта    65607\n",
       "Битый / не на ходу        2\n",
       "Name: Состояние, dtype: int64"
      ]
     },
     "metadata": {},
     "output_type": "display_data"
    },
    {
     "data": {
      "text/plain": [
       "2"
      ]
     },
     "metadata": {},
     "output_type": "display_data"
    }
   ],
   "source": [
    "display(united.Состояние.value_counts())\n",
    "display(len(united.Состояние.value_counts()))"
   ]
  },
  {
   "cell_type": "code",
   "execution_count": 114,
   "metadata": {},
   "outputs": [],
   "source": [
    "bin_cols.append('Состояние') # Признак бинарный, добавим в соответствующий список"
   ]
  },
  {
   "cell_type": "markdown",
   "metadata": {},
   "source": [
    "## Столбец Таможня."
   ]
  },
  {
   "cell_type": "code",
   "execution_count": 115,
   "metadata": {},
   "outputs": [
    {
     "data": {
      "text/plain": [
       "False    65609\n",
       "Name: Таможня, dtype: int64"
      ]
     },
     "execution_count": 115,
     "metadata": {},
     "output_type": "execute_result"
    }
   ],
   "source": [
    "# Проверим столбец на наличие пропусков.\n",
    "united.Таможня.isna().value_counts()"
   ]
  },
  {
   "cell_type": "raw",
   "metadata": {},
   "source": [
    "Пропусков нет."
   ]
  },
  {
   "cell_type": "code",
   "execution_count": 116,
   "metadata": {},
   "outputs": [
    {
     "data": {
      "text/plain": [
       "Растаможен    65609\n",
       "Name: Таможня, dtype: int64"
      ]
     },
     "metadata": {},
     "output_type": "display_data"
    },
    {
     "data": {
      "text/plain": [
       "1"
      ]
     },
     "metadata": {},
     "output_type": "display_data"
    }
   ],
   "source": [
    "display(united.Таможня.value_counts())\n",
    "display(len(united.Таможня.value_counts()))"
   ]
  },
  {
   "cell_type": "raw",
   "metadata": {},
   "source": [
    "Признак не вариативен, все машины в датасете растаможены. Убираем этот столбец."
   ]
  },
  {
   "cell_type": "code",
   "execution_count": 117,
   "metadata": {},
   "outputs": [],
   "source": [
    "del united['Таможня']"
   ]
  },
  {
   "cell_type": "markdown",
   "metadata": {},
   "source": [
    "## Запись датасета в файл (на всякий пожарный)."
   ]
  },
  {
   "cell_type": "code",
   "execution_count": 118,
   "metadata": {},
   "outputs": [],
   "source": [
    "# Запишем датасет united в csv файл.\n",
    "united.to_csv('D:\\Data Scientist_Skill Factory\\Folders with data/Unit_7/Project/united.csv')"
   ]
  },
  {
   "cell_type": "code",
   "execution_count": 119,
   "metadata": {},
   "outputs": [],
   "source": [
    "# Импортируем из файла\n",
    "united = pd.read_csv('D:\\Data Scientist_Skill Factory\\Folders with data/Unit_7/Project/united.csv')\n",
    "united = united.drop(['Unnamed: 0'], axis=1)"
   ]
  },
  {
   "cell_type": "code",
   "execution_count": 120,
   "metadata": {},
   "outputs": [
    {
     "data": {
      "text/html": [
       "<div>\n",
       "<style scoped>\n",
       "    .dataframe tbody tr th:only-of-type {\n",
       "        vertical-align: middle;\n",
       "    }\n",
       "\n",
       "    .dataframe tbody tr th {\n",
       "        vertical-align: top;\n",
       "    }\n",
       "\n",
       "    .dataframe thead th {\n",
       "        text-align: right;\n",
       "    }\n",
       "</style>\n",
       "<table border=\"1\" class=\"dataframe\">\n",
       "  <thead>\n",
       "    <tr style=\"text-align: right;\">\n",
       "      <th></th>\n",
       "      <th>bodyType</th>\n",
       "      <th>brand</th>\n",
       "      <th>car_url</th>\n",
       "      <th>color</th>\n",
       "      <th>description_length</th>\n",
       "      <th>engineDisplacement</th>\n",
       "      <th>enginePower</th>\n",
       "      <th>fuelType</th>\n",
       "      <th>image</th>\n",
       "      <th>mileage</th>\n",
       "      <th>...</th>\n",
       "      <th>Владельцы</th>\n",
       "      <th>ПТС</th>\n",
       "      <th>Привод</th>\n",
       "      <th>Руль</th>\n",
       "      <th>Состояние</th>\n",
       "      <th>price</th>\n",
       "      <th>sell_id</th>\n",
       "      <th>dataset_mark</th>\n",
       "      <th>car_age</th>\n",
       "      <th>model_age</th>\n",
       "    </tr>\n",
       "  </thead>\n",
       "  <tbody>\n",
       "    <tr>\n",
       "      <th>0</th>\n",
       "      <td>внедорожник 5 дв.</td>\n",
       "      <td>AUDI</td>\n",
       "      <td>https://auto.ru/cars/used/sale/audi/e_tron/110...</td>\n",
       "      <td>белый</td>\n",
       "      <td>1456</td>\n",
       "      <td>0.0</td>\n",
       "      <td>408.0</td>\n",
       "      <td>электро</td>\n",
       "      <td>True</td>\n",
       "      <td>885</td>\n",
       "      <td>...</td>\n",
       "      <td>1 владелец</td>\n",
       "      <td>Оригинал</td>\n",
       "      <td>полный</td>\n",
       "      <td>Левый</td>\n",
       "      <td>Не требует ремонта</td>\n",
       "      <td>0.0</td>\n",
       "      <td>1101083243</td>\n",
       "      <td>0</td>\n",
       "      <td>2</td>\n",
       "      <td>3</td>\n",
       "    </tr>\n",
       "    <tr>\n",
       "      <th>1</th>\n",
       "      <td>хэтчбек 5 дв.</td>\n",
       "      <td>BMW</td>\n",
       "      <td>https://auto.ru/cars/used/sale/bmw/i3/11010431...</td>\n",
       "      <td>синий</td>\n",
       "      <td>125</td>\n",
       "      <td>0.0</td>\n",
       "      <td>170.0</td>\n",
       "      <td>электро</td>\n",
       "      <td>True</td>\n",
       "      <td>32000</td>\n",
       "      <td>...</td>\n",
       "      <td>1 владелец</td>\n",
       "      <td>Оригинал</td>\n",
       "      <td>задний</td>\n",
       "      <td>Левый</td>\n",
       "      <td>Не требует ремонта</td>\n",
       "      <td>0.0</td>\n",
       "      <td>1101043134</td>\n",
       "      <td>0</td>\n",
       "      <td>3</td>\n",
       "      <td>4</td>\n",
       "    </tr>\n",
       "    <tr>\n",
       "      <th>2</th>\n",
       "      <td>хэтчбек 5 дв.</td>\n",
       "      <td>BMW</td>\n",
       "      <td>https://auto.ru/cars/used/sale/bmw/i3/11012780...</td>\n",
       "      <td>серый</td>\n",
       "      <td>1422</td>\n",
       "      <td>0.0</td>\n",
       "      <td>170.0</td>\n",
       "      <td>электро</td>\n",
       "      <td>True</td>\n",
       "      <td>51000</td>\n",
       "      <td>...</td>\n",
       "      <td>1 владелец</td>\n",
       "      <td>Оригинал</td>\n",
       "      <td>задний</td>\n",
       "      <td>Левый</td>\n",
       "      <td>Не требует ремонта</td>\n",
       "      <td>0.0</td>\n",
       "      <td>1101278018</td>\n",
       "      <td>0</td>\n",
       "      <td>7</td>\n",
       "      <td>8</td>\n",
       "    </tr>\n",
       "    <tr>\n",
       "      <th>3</th>\n",
       "      <td>хэтчбек 5 дв.</td>\n",
       "      <td>BMW</td>\n",
       "      <td>https://auto.ru/cars/used/sale/bmw/i3/11002716...</td>\n",
       "      <td>белый</td>\n",
       "      <td>2681</td>\n",
       "      <td>0.0</td>\n",
       "      <td>170.0</td>\n",
       "      <td>электро</td>\n",
       "      <td>True</td>\n",
       "      <td>25000</td>\n",
       "      <td>...</td>\n",
       "      <td>1 владелец</td>\n",
       "      <td>Оригинал</td>\n",
       "      <td>задний</td>\n",
       "      <td>Левый</td>\n",
       "      <td>Не требует ремонта</td>\n",
       "      <td>0.0</td>\n",
       "      <td>1100271628</td>\n",
       "      <td>0</td>\n",
       "      <td>3</td>\n",
       "      <td>4</td>\n",
       "    </tr>\n",
       "    <tr>\n",
       "      <th>4</th>\n",
       "      <td>хэтчбек 5 дв.</td>\n",
       "      <td>BMW</td>\n",
       "      <td>https://auto.ru/cars/used/sale/bmw/i3/11011745...</td>\n",
       "      <td>чёрный</td>\n",
       "      <td>740</td>\n",
       "      <td>0.0</td>\n",
       "      <td>170.0</td>\n",
       "      <td>электро</td>\n",
       "      <td>True</td>\n",
       "      <td>58500</td>\n",
       "      <td>...</td>\n",
       "      <td>1 владелец</td>\n",
       "      <td>Оригинал</td>\n",
       "      <td>задний</td>\n",
       "      <td>Левый</td>\n",
       "      <td>Не требует ремонта</td>\n",
       "      <td>0.0</td>\n",
       "      <td>1101174554</td>\n",
       "      <td>0</td>\n",
       "      <td>4</td>\n",
       "      <td>8</td>\n",
       "    </tr>\n",
       "    <tr>\n",
       "      <th>...</th>\n",
       "      <td>...</td>\n",
       "      <td>...</td>\n",
       "      <td>...</td>\n",
       "      <td>...</td>\n",
       "      <td>...</td>\n",
       "      <td>...</td>\n",
       "      <td>...</td>\n",
       "      <td>...</td>\n",
       "      <td>...</td>\n",
       "      <td>...</td>\n",
       "      <td>...</td>\n",
       "      <td>...</td>\n",
       "      <td>...</td>\n",
       "      <td>...</td>\n",
       "      <td>...</td>\n",
       "      <td>...</td>\n",
       "      <td>...</td>\n",
       "      <td>...</td>\n",
       "      <td>...</td>\n",
       "      <td>...</td>\n",
       "      <td>...</td>\n",
       "    </tr>\n",
       "    <tr>\n",
       "      <th>65604</th>\n",
       "      <td>хэтчбек 5 дв.</td>\n",
       "      <td>HONDA</td>\n",
       "      <td>https://auto.ru/cars/used/sale/honda/civic/110...</td>\n",
       "      <td>красный</td>\n",
       "      <td>162</td>\n",
       "      <td>1.5</td>\n",
       "      <td>115.0</td>\n",
       "      <td>бензин</td>\n",
       "      <td>True</td>\n",
       "      <td>373317</td>\n",
       "      <td>...</td>\n",
       "      <td>3 или более</td>\n",
       "      <td>Дубликат</td>\n",
       "      <td>передний</td>\n",
       "      <td>Левый</td>\n",
       "      <td>Не требует ремонта</td>\n",
       "      <td>210000.0</td>\n",
       "      <td>0</td>\n",
       "      <td>1</td>\n",
       "      <td>22</td>\n",
       "      <td>22</td>\n",
       "    </tr>\n",
       "    <tr>\n",
       "      <th>65605</th>\n",
       "      <td>компактвэн</td>\n",
       "      <td>HONDA</td>\n",
       "      <td>https://auto.ru/cars/used/sale/honda/stream/11...</td>\n",
       "      <td>серебристый</td>\n",
       "      <td>989</td>\n",
       "      <td>1.7</td>\n",
       "      <td>130.0</td>\n",
       "      <td>бензин</td>\n",
       "      <td>True</td>\n",
       "      <td>311000</td>\n",
       "      <td>...</td>\n",
       "      <td>3 или более</td>\n",
       "      <td>Оригинал</td>\n",
       "      <td>передний</td>\n",
       "      <td>Правый</td>\n",
       "      <td>Не требует ремонта</td>\n",
       "      <td>330000.0</td>\n",
       "      <td>0</td>\n",
       "      <td>1</td>\n",
       "      <td>19</td>\n",
       "      <td>19</td>\n",
       "    </tr>\n",
       "    <tr>\n",
       "      <th>65606</th>\n",
       "      <td>седан</td>\n",
       "      <td>HONDA</td>\n",
       "      <td>https://auto.ru/cars/used/sale/honda/civic/110...</td>\n",
       "      <td>серый</td>\n",
       "      <td>398</td>\n",
       "      <td>1.8</td>\n",
       "      <td>140.0</td>\n",
       "      <td>бензин</td>\n",
       "      <td>True</td>\n",
       "      <td>196000</td>\n",
       "      <td>...</td>\n",
       "      <td>3 или более</td>\n",
       "      <td>Дубликат</td>\n",
       "      <td>передний</td>\n",
       "      <td>Левый</td>\n",
       "      <td>Не требует ремонта</td>\n",
       "      <td>430000.0</td>\n",
       "      <td>0</td>\n",
       "      <td>1</td>\n",
       "      <td>13</td>\n",
       "      <td>13</td>\n",
       "    </tr>\n",
       "    <tr>\n",
       "      <th>65607</th>\n",
       "      <td>хэтчбек 5 дв.</td>\n",
       "      <td>HONDA</td>\n",
       "      <td>https://auto.ru/cars/used/sale/honda/civic/110...</td>\n",
       "      <td>синий</td>\n",
       "      <td>208</td>\n",
       "      <td>1.4</td>\n",
       "      <td>90.0</td>\n",
       "      <td>бензин</td>\n",
       "      <td>True</td>\n",
       "      <td>350000</td>\n",
       "      <td>...</td>\n",
       "      <td>3 или более</td>\n",
       "      <td>Дубликат</td>\n",
       "      <td>передний</td>\n",
       "      <td>Левый</td>\n",
       "      <td>Не требует ремонта</td>\n",
       "      <td>135000.0</td>\n",
       "      <td>0</td>\n",
       "      <td>1</td>\n",
       "      <td>21</td>\n",
       "      <td>21</td>\n",
       "    </tr>\n",
       "    <tr>\n",
       "      <th>65608</th>\n",
       "      <td>седан</td>\n",
       "      <td>HONDA</td>\n",
       "      <td>https://auto.ru/cars/used/sale/honda/accord/11...</td>\n",
       "      <td>чёрный</td>\n",
       "      <td>151</td>\n",
       "      <td>2.0</td>\n",
       "      <td>131.0</td>\n",
       "      <td>бензин</td>\n",
       "      <td>True</td>\n",
       "      <td>90000</td>\n",
       "      <td>...</td>\n",
       "      <td>3 или более</td>\n",
       "      <td>Оригинал</td>\n",
       "      <td>передний</td>\n",
       "      <td>Левый</td>\n",
       "      <td>Не требует ремонта</td>\n",
       "      <td>210000.0</td>\n",
       "      <td>0</td>\n",
       "      <td>1</td>\n",
       "      <td>26</td>\n",
       "      <td>26</td>\n",
       "    </tr>\n",
       "  </tbody>\n",
       "</table>\n",
       "<p>65609 rows × 25 columns</p>\n",
       "</div>"
      ],
      "text/plain": [
       "                bodyType  brand  \\\n",
       "0      внедорожник 5 дв.   AUDI   \n",
       "1          хэтчбек 5 дв.    BMW   \n",
       "2          хэтчбек 5 дв.    BMW   \n",
       "3          хэтчбек 5 дв.    BMW   \n",
       "4          хэтчбек 5 дв.    BMW   \n",
       "...                  ...    ...   \n",
       "65604      хэтчбек 5 дв.  HONDA   \n",
       "65605         компактвэн  HONDA   \n",
       "65606              седан  HONDA   \n",
       "65607      хэтчбек 5 дв.  HONDA   \n",
       "65608              седан  HONDA   \n",
       "\n",
       "                                                 car_url        color  \\\n",
       "0      https://auto.ru/cars/used/sale/audi/e_tron/110...        белый   \n",
       "1      https://auto.ru/cars/used/sale/bmw/i3/11010431...        синий   \n",
       "2      https://auto.ru/cars/used/sale/bmw/i3/11012780...        серый   \n",
       "3      https://auto.ru/cars/used/sale/bmw/i3/11002716...        белый   \n",
       "4      https://auto.ru/cars/used/sale/bmw/i3/11011745...       чёрный   \n",
       "...                                                  ...          ...   \n",
       "65604  https://auto.ru/cars/used/sale/honda/civic/110...      красный   \n",
       "65605  https://auto.ru/cars/used/sale/honda/stream/11...  серебристый   \n",
       "65606  https://auto.ru/cars/used/sale/honda/civic/110...        серый   \n",
       "65607  https://auto.ru/cars/used/sale/honda/civic/110...        синий   \n",
       "65608  https://auto.ru/cars/used/sale/honda/accord/11...       чёрный   \n",
       "\n",
       "       description_length  engineDisplacement  enginePower fuelType  image  \\\n",
       "0                    1456                 0.0        408.0  электро   True   \n",
       "1                     125                 0.0        170.0  электро   True   \n",
       "2                    1422                 0.0        170.0  электро   True   \n",
       "3                    2681                 0.0        170.0  электро   True   \n",
       "4                     740                 0.0        170.0  электро   True   \n",
       "...                   ...                 ...          ...      ...    ...   \n",
       "65604                 162                 1.5        115.0   бензин   True   \n",
       "65605                 989                 1.7        130.0   бензин   True   \n",
       "65606                 398                 1.8        140.0   бензин   True   \n",
       "65607                 208                 1.4         90.0   бензин   True   \n",
       "65608                 151                 2.0        131.0   бензин   True   \n",
       "\n",
       "       mileage  ...    Владельцы       ПТС    Привод    Руль  \\\n",
       "0          885  ...   1 владелец  Оригинал    полный   Левый   \n",
       "1        32000  ...   1 владелец  Оригинал    задний   Левый   \n",
       "2        51000  ...   1 владелец  Оригинал    задний   Левый   \n",
       "3        25000  ...   1 владелец  Оригинал    задний   Левый   \n",
       "4        58500  ...   1 владелец  Оригинал    задний   Левый   \n",
       "...        ...  ...          ...       ...       ...     ...   \n",
       "65604   373317  ...  3 или более  Дубликат  передний   Левый   \n",
       "65605   311000  ...  3 или более  Оригинал  передний  Правый   \n",
       "65606   196000  ...  3 или более  Дубликат  передний   Левый   \n",
       "65607   350000  ...  3 или более  Дубликат  передний   Левый   \n",
       "65608    90000  ...  3 или более  Оригинал  передний   Левый   \n",
       "\n",
       "                Состояние     price     sell_id dataset_mark car_age model_age  \n",
       "0      Не требует ремонта       0.0  1101083243            0       2         3  \n",
       "1      Не требует ремонта       0.0  1101043134            0       3         4  \n",
       "2      Не требует ремонта       0.0  1101278018            0       7         8  \n",
       "3      Не требует ремонта       0.0  1100271628            0       3         4  \n",
       "4      Не требует ремонта       0.0  1101174554            0       4         8  \n",
       "...                   ...       ...         ...          ...     ...       ...  \n",
       "65604  Не требует ремонта  210000.0           0            1      22        22  \n",
       "65605  Не требует ремонта  330000.0           0            1      19        19  \n",
       "65606  Не требует ремонта  430000.0           0            1      13        13  \n",
       "65607  Не требует ремонта  135000.0           0            1      21        21  \n",
       "65608  Не требует ремонта  210000.0           0            1      26        26  \n",
       "\n",
       "[65609 rows x 25 columns]"
      ]
     },
     "execution_count": 120,
     "metadata": {},
     "output_type": "execute_result"
    }
   ],
   "source": [
    "united"
   ]
  },
  {
   "cell_type": "markdown",
   "metadata": {},
   "source": [
    "## Корелляционный анализ числовых признаков."
   ]
  },
  {
   "cell_type": "code",
   "execution_count": 121,
   "metadata": {},
   "outputs": [
    {
     "data": {
      "text/html": [
       "<div>\n",
       "<style scoped>\n",
       "    .dataframe tbody tr th:only-of-type {\n",
       "        vertical-align: middle;\n",
       "    }\n",
       "\n",
       "    .dataframe tbody tr th {\n",
       "        vertical-align: top;\n",
       "    }\n",
       "\n",
       "    .dataframe thead th {\n",
       "        text-align: right;\n",
       "    }\n",
       "</style>\n",
       "<table border=\"1\" class=\"dataframe\">\n",
       "  <thead>\n",
       "    <tr style=\"text-align: right;\">\n",
       "      <th></th>\n",
       "      <th>description_length</th>\n",
       "      <th>engineDisplacement</th>\n",
       "      <th>enginePower</th>\n",
       "      <th>mileage</th>\n",
       "      <th>modelDate</th>\n",
       "      <th>productionDate</th>\n",
       "      <th>model_age</th>\n",
       "      <th>car_age</th>\n",
       "    </tr>\n",
       "  </thead>\n",
       "  <tbody>\n",
       "    <tr>\n",
       "      <th>description_length</th>\n",
       "      <td>1.000000</td>\n",
       "      <td>0.043211</td>\n",
       "      <td>0.122777</td>\n",
       "      <td>-0.224333</td>\n",
       "      <td>0.237463</td>\n",
       "      <td>0.239869</td>\n",
       "      <td>-0.237463</td>\n",
       "      <td>-0.239869</td>\n",
       "    </tr>\n",
       "    <tr>\n",
       "      <th>engineDisplacement</th>\n",
       "      <td>0.043211</td>\n",
       "      <td>1.000000</td>\n",
       "      <td>0.834305</td>\n",
       "      <td>0.006701</td>\n",
       "      <td>0.017017</td>\n",
       "      <td>0.003638</td>\n",
       "      <td>-0.017017</td>\n",
       "      <td>-0.003638</td>\n",
       "    </tr>\n",
       "    <tr>\n",
       "      <th>enginePower</th>\n",
       "      <td>0.122777</td>\n",
       "      <td>0.834305</td>\n",
       "      <td>1.000000</td>\n",
       "      <td>-0.191794</td>\n",
       "      <td>0.232150</td>\n",
       "      <td>0.217904</td>\n",
       "      <td>-0.232150</td>\n",
       "      <td>-0.217904</td>\n",
       "    </tr>\n",
       "    <tr>\n",
       "      <th>mileage</th>\n",
       "      <td>-0.224333</td>\n",
       "      <td>0.006701</td>\n",
       "      <td>-0.191794</td>\n",
       "      <td>1.000000</td>\n",
       "      <td>-0.659467</td>\n",
       "      <td>-0.687901</td>\n",
       "      <td>0.659467</td>\n",
       "      <td>0.687901</td>\n",
       "    </tr>\n",
       "    <tr>\n",
       "      <th>modelDate</th>\n",
       "      <td>0.237463</td>\n",
       "      <td>0.017017</td>\n",
       "      <td>0.232150</td>\n",
       "      <td>-0.659467</td>\n",
       "      <td>1.000000</td>\n",
       "      <td>0.970536</td>\n",
       "      <td>-1.000000</td>\n",
       "      <td>-0.970536</td>\n",
       "    </tr>\n",
       "    <tr>\n",
       "      <th>productionDate</th>\n",
       "      <td>0.239869</td>\n",
       "      <td>0.003638</td>\n",
       "      <td>0.217904</td>\n",
       "      <td>-0.687901</td>\n",
       "      <td>0.970536</td>\n",
       "      <td>1.000000</td>\n",
       "      <td>-0.970536</td>\n",
       "      <td>-1.000000</td>\n",
       "    </tr>\n",
       "    <tr>\n",
       "      <th>model_age</th>\n",
       "      <td>-0.237463</td>\n",
       "      <td>-0.017017</td>\n",
       "      <td>-0.232150</td>\n",
       "      <td>0.659467</td>\n",
       "      <td>-1.000000</td>\n",
       "      <td>-0.970536</td>\n",
       "      <td>1.000000</td>\n",
       "      <td>0.970536</td>\n",
       "    </tr>\n",
       "    <tr>\n",
       "      <th>car_age</th>\n",
       "      <td>-0.239869</td>\n",
       "      <td>-0.003638</td>\n",
       "      <td>-0.217904</td>\n",
       "      <td>0.687901</td>\n",
       "      <td>-0.970536</td>\n",
       "      <td>-1.000000</td>\n",
       "      <td>0.970536</td>\n",
       "      <td>1.000000</td>\n",
       "    </tr>\n",
       "  </tbody>\n",
       "</table>\n",
       "</div>"
      ],
      "text/plain": [
       "                    description_length  engineDisplacement  enginePower  \\\n",
       "description_length            1.000000            0.043211     0.122777   \n",
       "engineDisplacement            0.043211            1.000000     0.834305   \n",
       "enginePower                   0.122777            0.834305     1.000000   \n",
       "mileage                      -0.224333            0.006701    -0.191794   \n",
       "modelDate                     0.237463            0.017017     0.232150   \n",
       "productionDate                0.239869            0.003638     0.217904   \n",
       "model_age                    -0.237463           -0.017017    -0.232150   \n",
       "car_age                      -0.239869           -0.003638    -0.217904   \n",
       "\n",
       "                     mileage  modelDate  productionDate  model_age   car_age  \n",
       "description_length -0.224333   0.237463        0.239869  -0.237463 -0.239869  \n",
       "engineDisplacement  0.006701   0.017017        0.003638  -0.017017 -0.003638  \n",
       "enginePower        -0.191794   0.232150        0.217904  -0.232150 -0.217904  \n",
       "mileage             1.000000  -0.659467       -0.687901   0.659467  0.687901  \n",
       "modelDate          -0.659467   1.000000        0.970536  -1.000000 -0.970536  \n",
       "productionDate     -0.687901   0.970536        1.000000  -0.970536 -1.000000  \n",
       "model_age           0.659467  -1.000000       -0.970536   1.000000  0.970536  \n",
       "car_age             0.687901  -0.970536       -1.000000   0.970536  1.000000  "
      ]
     },
     "execution_count": 121,
     "metadata": {},
     "output_type": "execute_result"
    }
   ],
   "source": [
    "united[num_cols].corr()"
   ]
  },
  {
   "cell_type": "code",
   "execution_count": 122,
   "metadata": {},
   "outputs": [
    {
     "data": {
      "text/plain": [
       "<AxesSubplot:>"
      ]
     },
     "execution_count": 122,
     "metadata": {},
     "output_type": "execute_result"
    },
    {
     "data": {
      "image/png": "[encoded data removed]",
      "text/plain": [
       "<Figure size 432x288 with 2 Axes>"
      ]
     },
     "metadata": {
      "needs_background": "light"
     },
     "output_type": "display_data"
    }
   ],
   "source": [
    "sns.heatmap(united[num_cols].corr().abs(), vmin=0, vmax=1)"
   ]
  },
  {
   "cell_type": "raw",
   "metadata": {},
   "source": [
    "    Значительная корреляция наблюдается между мощностью и объемом двигателя (enginePower и engineDisplacement cоответственно) что не удивительно. \n",
    "    Группа признаков modelDate, productionDate, model_age, car_age отлично коррелирует друг с другом. Так же с ними всеми заметна корреляция признака mileage.\n",
    "    При использовании линейной модели для прогноза цены на машину для улучщения качества целесообразно убрать признак enginePower или engineDisplacement (один из двух), а так же оставить только один из четырех признаков (modelDate, productionDate, model_age, car_age). Оставленный признак будет хорошо коррелировать с пробегом машины, можно попробовать убрать один из них (либо тот признак что оставили либо пробег)."
   ]
  },
  {
   "cell_type": "raw",
   "metadata": {},
   "source": [
    "Теперь посмотрим как числовые признаки коррелируют с целевой переменной price. Для этого нам надо разбить датасет united обратно на выборки train и test после чего к выборке \"train\" приклеить столбец с ценами. Реальных данных по ценам для тестовой выборке у нас нет."
   ]
  },
  {
   "cell_type": "code",
   "execution_count": 123,
   "metadata": {},
   "outputs": [],
   "source": [
    "test = united[united.dataset_mark == 0].drop(['dataset_mark'], axis=1) # Отделили от united тестовые данные и записали в test."
   ]
  },
  {
   "cell_type": "code",
   "execution_count": 124,
   "metadata": {},
   "outputs": [],
   "source": [
    "# Отделим от united обучающую выборку и записали в train.\n",
    "train = united[united.dataset_mark == 1].drop(['dataset_mark'], axis=1) "
   ]
  },
  {
   "cell_type": "code",
   "execution_count": 125,
   "metadata": {},
   "outputs": [],
   "source": [
    "num_cols.append('price') # Добавили к списку числовых параметров цену."
   ]
  },
  {
   "cell_type": "code",
   "execution_count": 126,
   "metadata": {},
   "outputs": [
    {
     "data": {
      "text/html": [
       "<div>\n",
       "<style scoped>\n",
       "    .dataframe tbody tr th:only-of-type {\n",
       "        vertical-align: middle;\n",
       "    }\n",
       "\n",
       "    .dataframe tbody tr th {\n",
       "        vertical-align: top;\n",
       "    }\n",
       "\n",
       "    .dataframe thead th {\n",
       "        text-align: right;\n",
       "    }\n",
       "</style>\n",
       "<table border=\"1\" class=\"dataframe\">\n",
       "  <thead>\n",
       "    <tr style=\"text-align: right;\">\n",
       "      <th></th>\n",
       "      <th>description_length</th>\n",
       "      <th>engineDisplacement</th>\n",
       "      <th>enginePower</th>\n",
       "      <th>mileage</th>\n",
       "      <th>modelDate</th>\n",
       "      <th>productionDate</th>\n",
       "      <th>model_age</th>\n",
       "      <th>car_age</th>\n",
       "      <th>price</th>\n",
       "    </tr>\n",
       "  </thead>\n",
       "  <tbody>\n",
       "    <tr>\n",
       "      <th>description_length</th>\n",
       "      <td>1.000000</td>\n",
       "      <td>0.029710</td>\n",
       "      <td>0.100021</td>\n",
       "      <td>-0.248661</td>\n",
       "      <td>0.240488</td>\n",
       "      <td>0.265530</td>\n",
       "      <td>-0.240488</td>\n",
       "      <td>-0.265530</td>\n",
       "      <td>0.236729</td>\n",
       "    </tr>\n",
       "    <tr>\n",
       "      <th>engineDisplacement</th>\n",
       "      <td>0.029710</td>\n",
       "      <td>1.000000</td>\n",
       "      <td>0.827731</td>\n",
       "      <td>0.009132</td>\n",
       "      <td>0.019476</td>\n",
       "      <td>0.012921</td>\n",
       "      <td>-0.019476</td>\n",
       "      <td>-0.012921</td>\n",
       "      <td>0.427583</td>\n",
       "    </tr>\n",
       "    <tr>\n",
       "      <th>enginePower</th>\n",
       "      <td>0.100021</td>\n",
       "      <td>0.827731</td>\n",
       "      <td>1.000000</td>\n",
       "      <td>-0.181852</td>\n",
       "      <td>0.219309</td>\n",
       "      <td>0.211810</td>\n",
       "      <td>-0.219309</td>\n",
       "      <td>-0.211810</td>\n",
       "      <td>0.600941</td>\n",
       "    </tr>\n",
       "    <tr>\n",
       "      <th>mileage</th>\n",
       "      <td>-0.248661</td>\n",
       "      <td>0.009132</td>\n",
       "      <td>-0.181852</td>\n",
       "      <td>1.000000</td>\n",
       "      <td>-0.671975</td>\n",
       "      <td>-0.700669</td>\n",
       "      <td>0.671975</td>\n",
       "      <td>0.700669</td>\n",
       "      <td>-0.460374</td>\n",
       "    </tr>\n",
       "    <tr>\n",
       "      <th>modelDate</th>\n",
       "      <td>0.240488</td>\n",
       "      <td>0.019476</td>\n",
       "      <td>0.219309</td>\n",
       "      <td>-0.671975</td>\n",
       "      <td>1.000000</td>\n",
       "      <td>0.979042</td>\n",
       "      <td>-1.000000</td>\n",
       "      <td>-0.979042</td>\n",
       "      <td>0.461866</td>\n",
       "    </tr>\n",
       "    <tr>\n",
       "      <th>productionDate</th>\n",
       "      <td>0.265530</td>\n",
       "      <td>0.012921</td>\n",
       "      <td>0.211810</td>\n",
       "      <td>-0.700669</td>\n",
       "      <td>0.979042</td>\n",
       "      <td>1.000000</td>\n",
       "      <td>-0.979042</td>\n",
       "      <td>-1.000000</td>\n",
       "      <td>0.470314</td>\n",
       "    </tr>\n",
       "    <tr>\n",
       "      <th>model_age</th>\n",
       "      <td>-0.240488</td>\n",
       "      <td>-0.019476</td>\n",
       "      <td>-0.219309</td>\n",
       "      <td>0.671975</td>\n",
       "      <td>-1.000000</td>\n",
       "      <td>-0.979042</td>\n",
       "      <td>1.000000</td>\n",
       "      <td>0.979042</td>\n",
       "      <td>-0.461866</td>\n",
       "    </tr>\n",
       "    <tr>\n",
       "      <th>car_age</th>\n",
       "      <td>-0.265530</td>\n",
       "      <td>-0.012921</td>\n",
       "      <td>-0.211810</td>\n",
       "      <td>0.700669</td>\n",
       "      <td>-0.979042</td>\n",
       "      <td>-1.000000</td>\n",
       "      <td>0.979042</td>\n",
       "      <td>1.000000</td>\n",
       "      <td>-0.470314</td>\n",
       "    </tr>\n",
       "    <tr>\n",
       "      <th>price</th>\n",
       "      <td>0.236729</td>\n",
       "      <td>0.427583</td>\n",
       "      <td>0.600941</td>\n",
       "      <td>-0.460374</td>\n",
       "      <td>0.461866</td>\n",
       "      <td>0.470314</td>\n",
       "      <td>-0.461866</td>\n",
       "      <td>-0.470314</td>\n",
       "      <td>1.000000</td>\n",
       "    </tr>\n",
       "  </tbody>\n",
       "</table>\n",
       "</div>"
      ],
      "text/plain": [
       "                    description_length  engineDisplacement  enginePower  \\\n",
       "description_length            1.000000            0.029710     0.100021   \n",
       "engineDisplacement            0.029710            1.000000     0.827731   \n",
       "enginePower                   0.100021            0.827731     1.000000   \n",
       "mileage                      -0.248661            0.009132    -0.181852   \n",
       "modelDate                     0.240488            0.019476     0.219309   \n",
       "productionDate                0.265530            0.012921     0.211810   \n",
       "model_age                    -0.240488           -0.019476    -0.219309   \n",
       "car_age                      -0.265530           -0.012921    -0.211810   \n",
       "price                         0.236729            0.427583     0.600941   \n",
       "\n",
       "                     mileage  modelDate  productionDate  model_age   car_age  \\\n",
       "description_length -0.248661   0.240488        0.265530  -0.240488 -0.265530   \n",
       "engineDisplacement  0.009132   0.019476        0.012921  -0.019476 -0.012921   \n",
       "enginePower        -0.181852   0.219309        0.211810  -0.219309 -0.211810   \n",
       "mileage             1.000000  -0.671975       -0.700669   0.671975  0.700669   \n",
       "modelDate          -0.671975   1.000000        0.979042  -1.000000 -0.979042   \n",
       "productionDate     -0.700669   0.979042        1.000000  -0.979042 -1.000000   \n",
       "model_age           0.671975  -1.000000       -0.979042   1.000000  0.979042   \n",
       "car_age             0.700669  -0.979042       -1.000000   0.979042  1.000000   \n",
       "price              -0.460374   0.461866        0.470314  -0.461866 -0.470314   \n",
       "\n",
       "                       price  \n",
       "description_length  0.236729  \n",
       "engineDisplacement  0.427583  \n",
       "enginePower         0.600941  \n",
       "mileage            -0.460374  \n",
       "modelDate           0.461866  \n",
       "productionDate      0.470314  \n",
       "model_age          -0.461866  \n",
       "car_age            -0.470314  \n",
       "price               1.000000  "
      ]
     },
     "execution_count": 126,
     "metadata": {},
     "output_type": "execute_result"
    }
   ],
   "source": [
    "train[num_cols].corr()"
   ]
  },
  {
   "cell_type": "code",
   "execution_count": 127,
   "metadata": {},
   "outputs": [
    {
     "data": {
      "text/plain": [
       "<AxesSubplot:>"
      ]
     },
     "execution_count": 127,
     "metadata": {},
     "output_type": "execute_result"
    },
    {
     "data": {
      "image/png": "[encoded data removed]",
      "text/plain": [
       "<Figure size 432x288 with 2 Axes>"
      ]
     },
     "metadata": {
      "needs_background": "light"
     },
     "output_type": "display_data"
    }
   ],
   "source": [
    "sns.heatmap(train[num_cols].corr().abs(), vmin=0, vmax=1)"
   ]
  },
  {
   "cell_type": "raw",
   "metadata": {},
   "source": [
    "По коэфициентам корреляции понятно, что наибольшее влияние на цену оказывает мощность двигателя enginePower. Параметры engineDisplacement, mileage, modelDate, productionDate, model_age, car_age так же существенно влияют на цену. Наименьшее влияние оказывает параметр  description_length (количество знаков в описании машины), что и не удивительно. Этот параметр можно будет попробовать удалить и посмотреть какое это влияние оказывает на метрику."
   ]
  },
  {
   "cell_type": "markdown",
   "metadata": {},
   "source": [
    "# Оценка значимости категориальных и бинарных признаков."
   ]
  },
  {
   "cell_type": "code",
   "execution_count": 128,
   "metadata": {},
   "outputs": [
    {
     "data": {
      "text/html": [
       "<div>\n",
       "<style scoped>\n",
       "    .dataframe tbody tr th:only-of-type {\n",
       "        vertical-align: middle;\n",
       "    }\n",
       "\n",
       "    .dataframe tbody tr th {\n",
       "        vertical-align: top;\n",
       "    }\n",
       "\n",
       "    .dataframe thead th {\n",
       "        text-align: right;\n",
       "    }\n",
       "</style>\n",
       "<table border=\"1\" class=\"dataframe\">\n",
       "  <thead>\n",
       "    <tr style=\"text-align: right;\">\n",
       "      <th></th>\n",
       "      <th>bodyType</th>\n",
       "      <th>brand</th>\n",
       "      <th>car_url</th>\n",
       "      <th>color</th>\n",
       "      <th>description_length</th>\n",
       "      <th>engineDisplacement</th>\n",
       "      <th>enginePower</th>\n",
       "      <th>fuelType</th>\n",
       "      <th>image</th>\n",
       "      <th>mileage</th>\n",
       "      <th>...</th>\n",
       "      <th>vehicleTransmission</th>\n",
       "      <th>Владельцы</th>\n",
       "      <th>ПТС</th>\n",
       "      <th>Привод</th>\n",
       "      <th>Руль</th>\n",
       "      <th>Состояние</th>\n",
       "      <th>price</th>\n",
       "      <th>sell_id</th>\n",
       "      <th>car_age</th>\n",
       "      <th>model_age</th>\n",
       "    </tr>\n",
       "  </thead>\n",
       "  <tbody>\n",
       "    <tr>\n",
       "      <th>55</th>\n",
       "      <td>седан</td>\n",
       "      <td>TESLA</td>\n",
       "      <td>https://auto.ru/cars/used/sale/tesla/model_3/1...</td>\n",
       "      <td>белый</td>\n",
       "      <td>311</td>\n",
       "      <td>0.0</td>\n",
       "      <td>258.0</td>\n",
       "      <td>электро</td>\n",
       "      <td>1</td>\n",
       "      <td>15000</td>\n",
       "      <td>...</td>\n",
       "      <td>автоматическая</td>\n",
       "      <td>1 владелец</td>\n",
       "      <td>1</td>\n",
       "      <td>задний</td>\n",
       "      <td>0</td>\n",
       "      <td>1</td>\n",
       "      <td>3250000.0</td>\n",
       "      <td>0</td>\n",
       "      <td>2</td>\n",
       "      <td>4</td>\n",
       "    </tr>\n",
       "    <tr>\n",
       "      <th>56</th>\n",
       "      <td>лифтбек</td>\n",
       "      <td>TESLA</td>\n",
       "      <td>https://auto.ru/cars/used/sale/tesla/model_s/1...</td>\n",
       "      <td>чёрный</td>\n",
       "      <td>1015</td>\n",
       "      <td>0.0</td>\n",
       "      <td>449.0</td>\n",
       "      <td>электро</td>\n",
       "      <td>1</td>\n",
       "      <td>45000</td>\n",
       "      <td>...</td>\n",
       "      <td>автоматическая</td>\n",
       "      <td>1 владелец</td>\n",
       "      <td>1</td>\n",
       "      <td>полный</td>\n",
       "      <td>0</td>\n",
       "      <td>1</td>\n",
       "      <td>6250000.0</td>\n",
       "      <td>0</td>\n",
       "      <td>3</td>\n",
       "      <td>5</td>\n",
       "    </tr>\n",
       "    <tr>\n",
       "      <th>57</th>\n",
       "      <td>седан</td>\n",
       "      <td>TESLA</td>\n",
       "      <td>https://auto.ru/cars/used/sale/tesla/model_3/1...</td>\n",
       "      <td>серый</td>\n",
       "      <td>750</td>\n",
       "      <td>0.0</td>\n",
       "      <td>351.0</td>\n",
       "      <td>электро</td>\n",
       "      <td>1</td>\n",
       "      <td>11800</td>\n",
       "      <td>...</td>\n",
       "      <td>автоматическая</td>\n",
       "      <td>1 владелец</td>\n",
       "      <td>1</td>\n",
       "      <td>полный</td>\n",
       "      <td>0</td>\n",
       "      <td>1</td>\n",
       "      <td>3849000.0</td>\n",
       "      <td>0</td>\n",
       "      <td>3</td>\n",
       "      <td>4</td>\n",
       "    </tr>\n",
       "    <tr>\n",
       "      <th>58</th>\n",
       "      <td>седан</td>\n",
       "      <td>PORSCHE</td>\n",
       "      <td>https://auto.ru/cars/used/sale/porsche/taycan/...</td>\n",
       "      <td>белый</td>\n",
       "      <td>2503</td>\n",
       "      <td>0.0</td>\n",
       "      <td>680.0</td>\n",
       "      <td>электро</td>\n",
       "      <td>1</td>\n",
       "      <td>1426</td>\n",
       "      <td>...</td>\n",
       "      <td>автоматическая</td>\n",
       "      <td>1 владелец</td>\n",
       "      <td>1</td>\n",
       "      <td>полный</td>\n",
       "      <td>0</td>\n",
       "      <td>1</td>\n",
       "      <td>13850000.0</td>\n",
       "      <td>0</td>\n",
       "      <td>0</td>\n",
       "      <td>2</td>\n",
       "    </tr>\n",
       "    <tr>\n",
       "      <th>59</th>\n",
       "      <td>седан</td>\n",
       "      <td>PORSCHE</td>\n",
       "      <td>https://auto.ru/cars/used/sale/porsche/taycan/...</td>\n",
       "      <td>синий</td>\n",
       "      <td>1997</td>\n",
       "      <td>0.0</td>\n",
       "      <td>571.0</td>\n",
       "      <td>электро</td>\n",
       "      <td>1</td>\n",
       "      <td>771</td>\n",
       "      <td>...</td>\n",
       "      <td>автоматическая</td>\n",
       "      <td>1 владелец</td>\n",
       "      <td>1</td>\n",
       "      <td>полный</td>\n",
       "      <td>0</td>\n",
       "      <td>1</td>\n",
       "      <td>11900000.0</td>\n",
       "      <td>0</td>\n",
       "      <td>1</td>\n",
       "      <td>2</td>\n",
       "    </tr>\n",
       "  </tbody>\n",
       "</table>\n",
       "<p>5 rows × 24 columns</p>\n",
       "</div>"
      ],
      "text/plain": [
       "   bodyType    brand                                            car_url  \\\n",
       "55    седан    TESLA  https://auto.ru/cars/used/sale/tesla/model_3/1...   \n",
       "56  лифтбек    TESLA  https://auto.ru/cars/used/sale/tesla/model_s/1...   \n",
       "57    седан    TESLA  https://auto.ru/cars/used/sale/tesla/model_3/1...   \n",
       "58    седан  PORSCHE  https://auto.ru/cars/used/sale/porsche/taycan/...   \n",
       "59    седан  PORSCHE  https://auto.ru/cars/used/sale/porsche/taycan/...   \n",
       "\n",
       "     color  description_length  engineDisplacement  enginePower fuelType  \\\n",
       "55   белый                 311                 0.0        258.0  электро   \n",
       "56  чёрный                1015                 0.0        449.0  электро   \n",
       "57   серый                 750                 0.0        351.0  электро   \n",
       "58   белый                2503                 0.0        680.0  электро   \n",
       "59   синий                1997                 0.0        571.0  электро   \n",
       "\n",
       "    image  mileage  ...  vehicleTransmission   Владельцы ПТС  Привод Руль  \\\n",
       "55      1    15000  ...       автоматическая  1 владелец   1  задний    0   \n",
       "56      1    45000  ...       автоматическая  1 владелец   1  полный    0   \n",
       "57      1    11800  ...       автоматическая  1 владелец   1  полный    0   \n",
       "58      1     1426  ...       автоматическая  1 владелец   1  полный    0   \n",
       "59      1      771  ...       автоматическая  1 владелец   1  полный    0   \n",
       "\n",
       "   Состояние       price sell_id  car_age  model_age  \n",
       "55         1   3250000.0       0        2          4  \n",
       "56         1   6250000.0       0        3          5  \n",
       "57         1   3849000.0       0        3          4  \n",
       "58         1  13850000.0       0        0          2  \n",
       "59         1  11900000.0       0        1          2  \n",
       "\n",
       "[5 rows x 24 columns]"
      ]
     },
     "execution_count": 128,
     "metadata": {},
     "output_type": "execute_result"
    }
   ],
   "source": [
    "# Для бинарных признаков мы будем использовать LabelEncoder\n",
    "\n",
    "label_encoder = LabelEncoder()\n",
    "\n",
    "for column in bin_cols:\n",
    "    train[column] = label_encoder.fit_transform(train[column])\n",
    "   \n",
    "# Убедимся в преобразовании\n",
    "train.head()"
   ]
  },
  {
   "cell_type": "code",
   "execution_count": 129,
   "metadata": {},
   "outputs": [
    {
     "data": {
      "text/html": [
       "<div>\n",
       "<style scoped>\n",
       "    .dataframe tbody tr th:only-of-type {\n",
       "        vertical-align: middle;\n",
       "    }\n",
       "\n",
       "    .dataframe tbody tr th {\n",
       "        vertical-align: top;\n",
       "    }\n",
       "\n",
       "    .dataframe thead th {\n",
       "        text-align: right;\n",
       "    }\n",
       "</style>\n",
       "<table border=\"1\" class=\"dataframe\">\n",
       "  <thead>\n",
       "    <tr style=\"text-align: right;\">\n",
       "      <th></th>\n",
       "      <th>bodyType</th>\n",
       "      <th>brand</th>\n",
       "      <th>car_url</th>\n",
       "      <th>color</th>\n",
       "      <th>description_length</th>\n",
       "      <th>engineDisplacement</th>\n",
       "      <th>enginePower</th>\n",
       "      <th>fuelType</th>\n",
       "      <th>image</th>\n",
       "      <th>mileage</th>\n",
       "      <th>...</th>\n",
       "      <th>vehicleTransmission</th>\n",
       "      <th>Владельцы</th>\n",
       "      <th>ПТС</th>\n",
       "      <th>Привод</th>\n",
       "      <th>Руль</th>\n",
       "      <th>Состояние</th>\n",
       "      <th>price</th>\n",
       "      <th>sell_id</th>\n",
       "      <th>car_age</th>\n",
       "      <th>model_age</th>\n",
       "    </tr>\n",
       "  </thead>\n",
       "  <tbody>\n",
       "    <tr>\n",
       "      <th>55</th>\n",
       "      <td>14</td>\n",
       "      <td>61</td>\n",
       "      <td>https://auto.ru/cars/used/sale/tesla/model_3/1...</td>\n",
       "      <td>1</td>\n",
       "      <td>311</td>\n",
       "      <td>0.0</td>\n",
       "      <td>258.0</td>\n",
       "      <td>4</td>\n",
       "      <td>1</td>\n",
       "      <td>15000</td>\n",
       "      <td>...</td>\n",
       "      <td>0</td>\n",
       "      <td>1</td>\n",
       "      <td>1</td>\n",
       "      <td>0</td>\n",
       "      <td>0</td>\n",
       "      <td>1</td>\n",
       "      <td>3250000.0</td>\n",
       "      <td>0</td>\n",
       "      <td>2</td>\n",
       "      <td>4</td>\n",
       "    </tr>\n",
       "    <tr>\n",
       "      <th>56</th>\n",
       "      <td>7</td>\n",
       "      <td>61</td>\n",
       "      <td>https://auto.ru/cars/used/sale/tesla/model_s/1...</td>\n",
       "      <td>15</td>\n",
       "      <td>1015</td>\n",
       "      <td>0.0</td>\n",
       "      <td>449.0</td>\n",
       "      <td>4</td>\n",
       "      <td>1</td>\n",
       "      <td>45000</td>\n",
       "      <td>...</td>\n",
       "      <td>0</td>\n",
       "      <td>1</td>\n",
       "      <td>1</td>\n",
       "      <td>2</td>\n",
       "      <td>0</td>\n",
       "      <td>1</td>\n",
       "      <td>6250000.0</td>\n",
       "      <td>0</td>\n",
       "      <td>3</td>\n",
       "      <td>5</td>\n",
       "    </tr>\n",
       "    <tr>\n",
       "      <th>57</th>\n",
       "      <td>14</td>\n",
       "      <td>61</td>\n",
       "      <td>https://auto.ru/cars/used/sale/tesla/model_3/1...</td>\n",
       "      <td>12</td>\n",
       "      <td>750</td>\n",
       "      <td>0.0</td>\n",
       "      <td>351.0</td>\n",
       "      <td>4</td>\n",
       "      <td>1</td>\n",
       "      <td>11800</td>\n",
       "      <td>...</td>\n",
       "      <td>0</td>\n",
       "      <td>1</td>\n",
       "      <td>1</td>\n",
       "      <td>2</td>\n",
       "      <td>0</td>\n",
       "      <td>1</td>\n",
       "      <td>3849000.0</td>\n",
       "      <td>0</td>\n",
       "      <td>3</td>\n",
       "      <td>4</td>\n",
       "    </tr>\n",
       "    <tr>\n",
       "      <th>58</th>\n",
       "      <td>14</td>\n",
       "      <td>48</td>\n",
       "      <td>https://auto.ru/cars/used/sale/porsche/taycan/...</td>\n",
       "      <td>1</td>\n",
       "      <td>2503</td>\n",
       "      <td>0.0</td>\n",
       "      <td>680.0</td>\n",
       "      <td>4</td>\n",
       "      <td>1</td>\n",
       "      <td>1426</td>\n",
       "      <td>...</td>\n",
       "      <td>0</td>\n",
       "      <td>1</td>\n",
       "      <td>1</td>\n",
       "      <td>2</td>\n",
       "      <td>0</td>\n",
       "      <td>1</td>\n",
       "      <td>13850000.0</td>\n",
       "      <td>0</td>\n",
       "      <td>0</td>\n",
       "      <td>2</td>\n",
       "    </tr>\n",
       "    <tr>\n",
       "      <th>59</th>\n",
       "      <td>14</td>\n",
       "      <td>48</td>\n",
       "      <td>https://auto.ru/cars/used/sale/porsche/taycan/...</td>\n",
       "      <td>13</td>\n",
       "      <td>1997</td>\n",
       "      <td>0.0</td>\n",
       "      <td>571.0</td>\n",
       "      <td>4</td>\n",
       "      <td>1</td>\n",
       "      <td>771</td>\n",
       "      <td>...</td>\n",
       "      <td>0</td>\n",
       "      <td>1</td>\n",
       "      <td>1</td>\n",
       "      <td>2</td>\n",
       "      <td>0</td>\n",
       "      <td>1</td>\n",
       "      <td>11900000.0</td>\n",
       "      <td>0</td>\n",
       "      <td>1</td>\n",
       "      <td>2</td>\n",
       "    </tr>\n",
       "  </tbody>\n",
       "</table>\n",
       "<p>5 rows × 24 columns</p>\n",
       "</div>"
      ],
      "text/plain": [
       "    bodyType  brand                                            car_url  color  \\\n",
       "55        14     61  https://auto.ru/cars/used/sale/tesla/model_3/1...      1   \n",
       "56         7     61  https://auto.ru/cars/used/sale/tesla/model_s/1...     15   \n",
       "57        14     61  https://auto.ru/cars/used/sale/tesla/model_3/1...     12   \n",
       "58        14     48  https://auto.ru/cars/used/sale/porsche/taycan/...      1   \n",
       "59        14     48  https://auto.ru/cars/used/sale/porsche/taycan/...     13   \n",
       "\n",
       "    description_length  engineDisplacement  enginePower  fuelType  image  \\\n",
       "55                 311                 0.0        258.0         4      1   \n",
       "56                1015                 0.0        449.0         4      1   \n",
       "57                 750                 0.0        351.0         4      1   \n",
       "58                2503                 0.0        680.0         4      1   \n",
       "59                1997                 0.0        571.0         4      1   \n",
       "\n",
       "    mileage  ...  vehicleTransmission  Владельцы  ПТС  Привод  Руль  \\\n",
       "55    15000  ...                    0          1    1       0     0   \n",
       "56    45000  ...                    0          1    1       2     0   \n",
       "57    11800  ...                    0          1    1       2     0   \n",
       "58     1426  ...                    0          1    1       2     0   \n",
       "59      771  ...                    0          1    1       2     0   \n",
       "\n",
       "    Состояние       price  sell_id  car_age  model_age  \n",
       "55          1   3250000.0        0        2          4  \n",
       "56          1   6250000.0        0        3          5  \n",
       "57          1   3849000.0        0        3          4  \n",
       "58          1  13850000.0        0        0          2  \n",
       "59          1  11900000.0        0        1          2  \n",
       "\n",
       "[5 rows x 24 columns]"
      ]
     },
     "execution_count": 129,
     "metadata": {},
     "output_type": "execute_result"
    }
   ],
   "source": [
    "# Перекодируем категориальные признаки.\n",
    "for colum in ['bodyType', 'brand', 'color', 'fuelType', 'model_name', 'numberOfDoors', 'vehicleTransmission', 'Владельцы',\n",
    " 'Привод']:\n",
    "    train[colum] = train[colum].astype('category').cat.codes\n",
    "# Убедимся в преобразовании\n",
    "train.head()"
   ]
  },
  {
   "cell_type": "raw",
   "metadata": {},
   "source": [
    "Для оценки значимости категориальных и бинарных переменных будем использовать функцию mutual_info_classif из библиотеки sklearn. Данная функция опирается на непараметрические методы, основанные на оценке энтропии в группах категориальных переменных."
   ]
  },
  {
   "cell_type": "code",
   "execution_count": 130,
   "metadata": {},
   "outputs": [
    {
     "data": {
      "text/plain": [
       "<AxesSubplot:>"
      ]
     },
     "execution_count": 130,
     "metadata": {},
     "output_type": "execute_result"
    },
    {
     "data": {
      "image/png": "[encoded data removed]",
      "text/plain": [
       "<Figure size 432x288 with 1 Axes>"
      ]
     },
     "metadata": {
      "needs_background": "light"
     },
     "output_type": "display_data"
    }
   ],
   "source": [
    "imp_cat = Series(mutual_info_classif(train[bin_cols + cat_cols], train['price'],\n",
    "                                     discrete_features =True), index = bin_cols + cat_cols)\n",
    "imp_cat.sort_values(inplace = True)\n",
    "imp_cat.plot(kind = 'barh')"
   ]
  },
  {
   "cell_type": "raw",
   "metadata": {},
   "source": [
    "Наибольшее влияние на цену оказывают название модели (model_name) и марка автомобиля (brand), наименьшее подлинность фото (image) и состояние автомобиля (Состояние). Эти два признака можно убрать и посмотреть какое влияние это окажет на метрику."
   ]
  },
  {
   "cell_type": "raw",
   "metadata": {},
   "source": [
    "Перекодируем аналогичным образом бинарные и категориальные признаки в наборе test."
   ]
  },
  {
   "cell_type": "code",
   "execution_count": 131,
   "metadata": {},
   "outputs": [],
   "source": [
    "# Для бинарных признаков мы будем использовать LabelEncoder\n",
    "\n",
    "label_encoder = LabelEncoder()\n",
    "\n",
    "for column in bin_cols:\n",
    "    test[column] = label_encoder.fit_transform(test[column])\n",
    "    \n",
    "# Перекодируем категориальные признаки.\n",
    "for colum in ['bodyType', 'brand', 'color', 'fuelType', 'model_name', 'numberOfDoors', 'vehicleTransmission', 'Владельцы',\n",
    " 'Привод']:\n",
    "    test[colum] = test[colum].astype('category').cat.codes"
   ]
  },
  {
   "cell_type": "markdown",
   "metadata": {},
   "source": [
    "# Подготовка признаков для модели"
   ]
  },
  {
   "cell_type": "code",
   "execution_count": 132,
   "metadata": {},
   "outputs": [
    {
     "data": {
      "text/plain": [
       "['description_length',\n",
       " 'engineDisplacement',\n",
       " 'enginePower',\n",
       " 'mileage',\n",
       " 'modelDate',\n",
       " 'productionDate',\n",
       " 'model_age',\n",
       " 'car_age',\n",
       " 'price']"
      ]
     },
     "execution_count": 132,
     "metadata": {},
     "output_type": "execute_result"
    }
   ],
   "source": [
    "num_cols"
   ]
  },
  {
   "cell_type": "code",
   "execution_count": 133,
   "metadata": {},
   "outputs": [],
   "source": [
    "# Создадим копию датасета train_standart, в которой стандартизируем числовые признаки и целевую переменную с помощью \n",
    "# MinMaxScaler.\n",
    "train_standart = train.copy()"
   ]
  },
  {
   "cell_type": "code",
   "execution_count": 134,
   "metadata": {},
   "outputs": [],
   "source": [
    "scaler = MinMaxScaler(feature_range=(0,1))\n",
    "train_standart[num_cols] = scaler.fit_transform(train_standart[num_cols])"
   ]
  },
  {
   "cell_type": "code",
   "execution_count": 135,
   "metadata": {},
   "outputs": [],
   "source": [
    "# Создадим копию датасета train_standart, в которой стандартизируем числовые признаки и целевую переменную с помощью \n",
    "# StandardScaler.\n",
    "train_standard = train.copy()"
   ]
  },
  {
   "cell_type": "code",
   "execution_count": 136,
   "metadata": {},
   "outputs": [],
   "source": [
    "scaler1 = StandardScaler()\n",
    "train_standard[num_cols] = scaler1.fit_transform(train_standart[num_cols])"
   ]
  },
  {
   "cell_type": "code",
   "execution_count": 137,
   "metadata": {},
   "outputs": [],
   "source": [
    "# Запишем данные из тестового набора (исключив целевую переменную price и адрес объявления в интернете и идентификатор \n",
    "# сделки) в переменную X_test_data.\n",
    "X_test_data = test.drop(['car_url','price', 'sell_id'], axis=1)"
   ]
  },
  {
   "cell_type": "code",
   "execution_count": 138,
   "metadata": {},
   "outputs": [],
   "source": [
    "# Разделим нестандартизированные данные на матрицу признаков X и на матрицу целевой переменной y\n",
    "X = train.drop(['car_url','price', 'sell_id'], axis=1)\n",
    "y = train['price']"
   ]
  },
  {
   "cell_type": "code",
   "execution_count": 139,
   "metadata": {},
   "outputs": [],
   "source": [
    "# Разделим стандартизированные с помощью MinMaxScaler данные на матрицу признаков X_st и на матрицу целевой переменной y_st\n",
    "X_st = train_standart.drop(['car_url','price', 'sell_id'], axis=1)\n",
    "y_st = train_standart['price']"
   ]
  },
  {
   "cell_type": "code",
   "execution_count": 140,
   "metadata": {},
   "outputs": [],
   "source": [
    "# Разделим стандартизированные с помощью StandardScaler данные на матрицу признаков X_stD и на матрицу целевой переменной y_stD\n",
    "X_stD = train_standard.drop(['car_url','price', 'sell_id'], axis=1)\n",
    "y_stD = train_standard['price']"
   ]
  },
  {
   "cell_type": "code",
   "execution_count": 141,
   "metadata": {},
   "outputs": [],
   "source": [
    "# Подготовка признаков для модели завершена. Разделим данные для обучения следующим образом:\n",
    "X_train, X_test, y_train, y_test = train_test_split(X, y, test_size=0.20, shuffle=True, random_state=42)"
   ]
  },
  {
   "cell_type": "code",
   "execution_count": 142,
   "metadata": {},
   "outputs": [],
   "source": [
    "# Подготовка признаков для модели завершена. Разделим стандартизированные с помощью MinMaxScaler \n",
    "# данные для обучения следующим образом:\n",
    "X_st_train, X_st_test, y_st_train, y_st_test = train_test_split(X_st, y_st, test_size=0.20, shuffle=True, random_state=42)"
   ]
  },
  {
   "cell_type": "code",
   "execution_count": 143,
   "metadata": {},
   "outputs": [],
   "source": [
    "# Подготовка признаков для модели завершена. Разделим стандартизированные с помощью MinMaxScaler \n",
    "# данные для обучения следующим образом:\n",
    "X_stD_train, X_stD_test, y_stD_train, y_stD_test = train_test_split(X_stD, y_stD, test_size=0.20, shuffle=True, random_state=42)"
   ]
  },
  {
   "cell_type": "markdown",
   "metadata": {},
   "source": [
    "# Модель 1. Создадим \"наивную\" модель."
   ]
  },
  {
   "cell_type": "raw",
   "metadata": {},
   "source": [
    "Эта модель будет предсказывать среднюю цену по объему двигателя (engineDisplacement). C ней будем сравнивать другие модели."
   ]
  },
  {
   "cell_type": "code",
   "execution_count": 144,
   "metadata": {},
   "outputs": [],
   "source": [
    "# Разобьем датасет train.\n",
    "train_train, train_test, price_train, price_test = train_test_split(train.drop(['price'], axis=1), train['price'], \n",
    "                                                    test_size=0.20, random_state=42)"
   ]
  },
  {
   "cell_type": "code",
   "execution_count": 145,
   "metadata": {},
   "outputs": [],
   "source": [
    "# Находим median по экземплярам engineDisplacement в трейне и размечаем тест\n",
    "predict = train_test['engineDisplacement'].map(train.groupby('engineDisplacement')['price'].median())"
   ]
  },
  {
   "cell_type": "code",
   "execution_count": 146,
   "metadata": {},
   "outputs": [
    {
     "name": "stdout",
     "output_type": "stream",
     "text": [
      "Точность наивной модели по метрике MAPE: 88.79%\n"
     ]
    }
   ],
   "source": [
    "#оцениваем точность\n",
    "print(f\"Точность наивной модели по метрике MAPE: {(mape(price_test, predict.values))*100:0.2f}%\")"
   ]
  },
  {
   "cell_type": "markdown",
   "metadata": {},
   "source": [
    "# Модель 2. Линейная регрессия."
   ]
  },
  {
   "cell_type": "code",
   "execution_count": 147,
   "metadata": {},
   "outputs": [
    {
     "name": "stdout",
     "output_type": "stream",
     "text": [
      "Точность модели линейной регрессии по метрике MAPE: 92.42%\n"
     ]
    }
   ],
   "source": [
    "linear_regr = LinearRegression()\n",
    "linear_regr.fit(X_train,y_train)# Обучаем модель\n",
    "predict = linear_regr.predict(X_test)# Предсказываем результат\n",
    "#оцениваем точность\n",
    "print(f\"Точность модели линейной регрессии по метрике MAPE: {(mape(y_test, predict))*100:0.2f}%\")"
   ]
  },
  {
   "cell_type": "raw",
   "metadata": {},
   "source": [
    "На основании корреляционного анализа, мы пришли к выводу, что при использовании линейной модели для прогноза цены на машину для улучщения качества целесообразно убрать признак enginePower или engineDisplacement (один из двух), а так же оставить только один из четырех признаков (modelDate, productionDate, model_age, car_age). Оставленный признак будет хорошо коррелировать с пробегом машины, можно попробовать убрать один из них (либо тот признак что оставили либо пробег)."
   ]
  },
  {
   "cell_type": "code",
   "execution_count": 148,
   "metadata": {},
   "outputs": [
    {
     "name": "stdout",
     "output_type": "stream",
     "text": [
      "Точность модели линейной регрессии по метрике MAPE: 92.03%\n"
     ]
    }
   ],
   "source": [
    "linear_regr = LinearRegression()\n",
    "linear_regr.fit(X_train.drop(['productionDate', 'model_age', 'car_age'], axis=1),y_train)# Обучаем модель\n",
    "# Предсказываем результат\n",
    "predict = linear_regr.predict(X_test.drop(['productionDate', 'model_age', 'car_age'], axis=1))\n",
    "#оцениваем точность\n",
    "print(f\"Точность модели линейной регрессии по метрике MAPE: {(mape(y_test, predict))*100:0.2f}%\")"
   ]
  },
  {
   "cell_type": "raw",
   "metadata": {},
   "source": [
    "Удаление коррелирующих столбцов особо точность прогноза не повысило. Попробуем подать на вход данные со стандартизированными c помощью MinMaxScaler числовыми переменными."
   ]
  },
  {
   "cell_type": "code",
   "execution_count": 149,
   "metadata": {},
   "outputs": [
    {
     "name": "stdout",
     "output_type": "stream",
     "text": [
      "Точность модели линейной регрессии по метрике MAPE: 92.03%\n"
     ]
    }
   ],
   "source": [
    "linear_regr = LinearRegression()\n",
    "linear_regr.fit(X_st_train.drop(['productionDate', 'model_age', 'car_age'], axis=1),y_train)# Обучаем модель\n",
    "# Предсказываем результат\n",
    "predict = linear_regr.predict(X_st_test.drop(['productionDate', 'model_age', 'car_age'], axis=1))\n",
    "#оцениваем точность\n",
    "print(f\"Точность модели линейной регрессии по метрике MAPE: {(mape(y_test, predict))*100:0.2f}%\")"
   ]
  },
  {
   "cell_type": "raw",
   "metadata": {},
   "source": [
    "Попробуем подать на вход данные со стандартизированными c помощью StandardScaler числовыми переменными."
   ]
  },
  {
   "cell_type": "code",
   "execution_count": 150,
   "metadata": {},
   "outputs": [
    {
     "name": "stdout",
     "output_type": "stream",
     "text": [
      "Точность модели линейной регрессии по метрике MAPE: 92.03%\n"
     ]
    }
   ],
   "source": [
    "linear_regr = LinearRegression()\n",
    "linear_regr.fit(X_stD_train.drop(['productionDate', 'model_age', 'car_age'], axis=1),y_train)# Обучаем модель\n",
    "# Предсказываем результат\n",
    "predict = linear_regr.predict(X_stD_test.drop(['productionDate', 'model_age', 'car_age'], axis=1))\n",
    "#оцениваем точность\n",
    "print(f\"Точность модели линейной регрессии по метрике MAPE: {(mape(y_test, predict))*100:0.2f}%\")"
   ]
  },
  {
   "cell_type": "raw",
   "metadata": {},
   "source": [
    "Метрика MAPE осталась прежней. Вообще модель линейной регрессии предсказывает цену автомобиля не намного лучше, чем \"наивная\" модель. Поэтому тратить время на дальнейшие эксперименты с линейной регрессией нет смысла, лучше попробовать другие модели."
   ]
  },
  {
   "cell_type": "markdown",
   "metadata": {},
   "source": [
    "# Модель 3. CatBoost (из базового решения)."
   ]
  },
  {
   "cell_type": "markdown",
   "metadata": {},
   "source": [
    "## Fit."
   ]
  },
  {
   "cell_type": "code",
   "execution_count": 151,
   "metadata": {},
   "outputs": [],
   "source": [
    "model_catboost_1 = CatBoostRegressor(iterations = 5000,\n",
    "                          random_seed = 42,\n",
    "                          eval_metric='MAPE',\n",
    "                          custom_metric=['R2', 'MAE'],\n",
    "                          silent=True,\n",
    "                         )\n",
    "model_catboost_1.fit(X_train, y_train,\n",
    "         #cat_features=cat_features_ids,\n",
    "         eval_set=(X_test, y_test),\n",
    "         verbose_eval=0,\n",
    "         use_best_model=True,\n",
    "         #plot=True\n",
    "         )\n",
    "\n",
    "model_catboost_1.save_model('catboost_single_model_baseline_1.model')"
   ]
  },
  {
   "cell_type": "code",
   "execution_count": 152,
   "metadata": {},
   "outputs": [
    {
     "name": "stdout",
     "output_type": "stream",
     "text": [
      "Точность модели по метрике MAPE: 15.22%\n"
     ]
    }
   ],
   "source": [
    "# оцениваем точность\n",
    "predict = model_catboost_1.predict(X_test)\n",
    "print(f\"Точность модели по метрике MAPE: {(mape(y_test, predict))*100:0.2f}%\")"
   ]
  },
  {
   "cell_type": "raw",
   "metadata": {},
   "source": [
    "Сразу же получили огромный прогресс в точности модели. Попробуем прологарифмировать целевую переменную для уменьшения влияния выбросов на обучение модели."
   ]
  },
  {
   "cell_type": "code",
   "execution_count": 153,
   "metadata": {},
   "outputs": [],
   "source": [
    "model_catboost_2 = CatBoostRegressor(iterations = 5000,\n",
    "                          random_seed = 42,\n",
    "                          eval_metric='MAPE',\n",
    "                          custom_metric=['R2', 'MAE'],\n",
    "                          silent=True,\n",
    "                         )\n",
    "model_catboost_2.fit(X_train, np.log(y_train+1),\n",
    "         #cat_features=cat_features_ids,\n",
    "         eval_set=(X_test, np.log(y_test+1)),\n",
    "         verbose_eval=0,\n",
    "         use_best_model=True,\n",
    "         #plot=True\n",
    "         )\n",
    "\n",
    "model_catboost_2.save_model('catboost_single_model_baseline_2.model')"
   ]
  },
  {
   "cell_type": "code",
   "execution_count": 154,
   "metadata": {},
   "outputs": [
    {
     "name": "stdout",
     "output_type": "stream",
     "text": [
      "Точность модели по метрике MAPE: 12.81%\n"
     ]
    }
   ],
   "source": [
    "# оцениваем точность\n",
    "predict = model_catboost_2.predict(X_test)\n",
    "print(f\"Точность модели по метрике MAPE: {(mape(y_test, np.exp(predict)))*100:0.2f}%\")"
   ]
  },
  {
   "cell_type": "raw",
   "metadata": {},
   "source": [
    "Еще лучше. Теперь попробуем дать на вход стандартизированные c помощью MinMaxScaler данные."
   ]
  },
  {
   "cell_type": "code",
   "execution_count": 155,
   "metadata": {},
   "outputs": [],
   "source": [
    "model_catboost_3 = CatBoostRegressor(iterations = 5000,\n",
    "                          random_seed = 42,\n",
    "                          eval_metric='MAPE',\n",
    "                          custom_metric=['R2', 'MAE'],\n",
    "                          silent=True,\n",
    "                         )\n",
    "model_catboost_3.fit(X_st_train, np.log(y_train+1),\n",
    "         #cat_features=cat_features_ids,\n",
    "         eval_set=(X_st_test, np.log(y_test+1)),\n",
    "         verbose_eval=0,\n",
    "         use_best_model=True,\n",
    "         #plot=True\n",
    "         )\n",
    "\n",
    "model_catboost_3.save_model('catboost_single_model_baseline_3.model')"
   ]
  },
  {
   "cell_type": "code",
   "execution_count": 156,
   "metadata": {},
   "outputs": [
    {
     "name": "stdout",
     "output_type": "stream",
     "text": [
      "Точность модели по метрике MAPE: 12.81%\n"
     ]
    }
   ],
   "source": [
    "# оцениваем точность\n",
    "predict = model_catboost_3.predict(X_st_test)\n",
    "print(f\"Точность модели по метрике MAPE: {(mape(y_test, np.exp(predict)))*100:0.2f}%\")"
   ]
  },
  {
   "cell_type": "raw",
   "metadata": {},
   "source": [
    "Теперь попробуем дать на вход стандартизированные c помощью StandardScaler данные."
   ]
  },
  {
   "cell_type": "code",
   "execution_count": 157,
   "metadata": {},
   "outputs": [],
   "source": [
    "model_catboost_4 = CatBoostRegressor(iterations = 5000,\n",
    "                          random_seed = 42,\n",
    "                          eval_metric='MAPE',\n",
    "                          custom_metric=['R2', 'MAE'],\n",
    "                          silent=True,\n",
    "                         )\n",
    "model_catboost_4.fit(X_stD_train, np.log(y_train+1),\n",
    "         #cat_features=cat_features_ids,\n",
    "         eval_set=(X_stD_test, np.log(y_test+1)),\n",
    "         verbose_eval=0,\n",
    "         use_best_model=True,\n",
    "         #plot=True\n",
    "         )\n",
    "\n",
    "model_catboost_4.save_model('catboost_single_model_baseline_4.model')"
   ]
  },
  {
   "cell_type": "code",
   "execution_count": 158,
   "metadata": {},
   "outputs": [
    {
     "name": "stdout",
     "output_type": "stream",
     "text": [
      "Точность модели по метрике MAPE: 12.81%\n"
     ]
    }
   ],
   "source": [
    "# оцениваем точность\n",
    "predict = model_catboost_4.predict(X_stD_test)\n",
    "print(f\"Точность модели по метрике MAPE: {(mape(y_test, np.exp(predict)))*100:0.2f}%\")"
   ]
  },
  {
   "cell_type": "raw",
   "metadata": {},
   "source": [
    "Стандартизировать данные нет смысла, качество прогноза не меняется. Логарифмирование целевой переменной помогает."
   ]
  },
  {
   "cell_type": "markdown",
   "metadata": {},
   "source": [
    "# Модель 4. Random Forest."
   ]
  },
  {
   "cell_type": "code",
   "execution_count": 159,
   "metadata": {},
   "outputs": [
    {
     "name": "stderr",
     "output_type": "stream",
     "text": [
      "[Parallel(n_jobs=-1)]: Using backend ThreadingBackend with 4 concurrent workers.\n",
      "[Parallel(n_jobs=-1)]: Done  42 tasks      | elapsed:    2.3s\n"
     ]
    },
    {
     "name": "stdout",
     "output_type": "stream",
     "text": [
      "Точность модели по метрике MAPE: 15.90%\n"
     ]
    },
    {
     "name": "stderr",
     "output_type": "stream",
     "text": [
      "[Parallel(n_jobs=-1)]: Done 100 out of 100 | elapsed:    5.3s finished\n",
      "[Parallel(n_jobs=4)]: Using backend ThreadingBackend with 4 concurrent workers.\n",
      "[Parallel(n_jobs=4)]: Done  42 tasks      | elapsed:    0.0s\n",
      "[Parallel(n_jobs=4)]: Done 100 out of 100 | elapsed:    0.0s finished\n"
     ]
    }
   ],
   "source": [
    "rf_1 = RandomForestRegressor(random_state = 42, n_jobs = -1, verbose = 1).fit(X_train, y_train)\n",
    "print(f\"Точность модели по метрике MAPE: {(mape(y_test, rf_1.predict(X_test)))*100:0.2f}%\")"
   ]
  },
  {
   "cell_type": "raw",
   "metadata": {},
   "source": [
    "Получился неплохой результат хотя и хуже чем при модели CatBoost. Попробуем прологарифмировать целевую переменную для уменьшения влияния выбросов на обучение модели."
   ]
  },
  {
   "cell_type": "code",
   "execution_count": 160,
   "metadata": {},
   "outputs": [
    {
     "name": "stderr",
     "output_type": "stream",
     "text": [
      "[Parallel(n_jobs=-1)]: Using backend ThreadingBackend with 4 concurrent workers.\n",
      "[Parallel(n_jobs=-1)]: Done  42 tasks      | elapsed:    2.1s\n"
     ]
    },
    {
     "name": "stdout",
     "output_type": "stream",
     "text": [
      "Точность модели по метрике MAPE: 14.38%\n"
     ]
    },
    {
     "name": "stderr",
     "output_type": "stream",
     "text": [
      "[Parallel(n_jobs=-1)]: Done 100 out of 100 | elapsed:    4.9s finished\n",
      "[Parallel(n_jobs=4)]: Using backend ThreadingBackend with 4 concurrent workers.\n",
      "[Parallel(n_jobs=4)]: Done  42 tasks      | elapsed:    0.0s\n",
      "[Parallel(n_jobs=4)]: Done 100 out of 100 | elapsed:    0.0s finished\n"
     ]
    }
   ],
   "source": [
    "rf_2 = RandomForestRegressor(random_state = 42, n_jobs = -1, verbose = 1).fit(X_train, np.log(y_train+1))\n",
    "print(f\"Точность модели по метрике MAPE: {(mape(y_test, np.exp(rf_2.predict(X_test))))*100:0.2f}%\")"
   ]
  },
  {
   "cell_type": "raw",
   "metadata": {},
   "source": [
    "Результат заметно улучшился. Попробуем подать на вход стандартизированные c помощью MinMaxScaler данные."
   ]
  },
  {
   "cell_type": "code",
   "execution_count": 161,
   "metadata": {},
   "outputs": [
    {
     "name": "stderr",
     "output_type": "stream",
     "text": [
      "[Parallel(n_jobs=-1)]: Using backend ThreadingBackend with 4 concurrent workers.\n",
      "[Parallel(n_jobs=-1)]: Done  42 tasks      | elapsed:    2.1s\n"
     ]
    },
    {
     "name": "stdout",
     "output_type": "stream",
     "text": [
      "Точность модели по метрике MAPE: 14.37%\n"
     ]
    },
    {
     "name": "stderr",
     "output_type": "stream",
     "text": [
      "[Parallel(n_jobs=-1)]: Done 100 out of 100 | elapsed:    5.0s finished\n",
      "[Parallel(n_jobs=4)]: Using backend ThreadingBackend with 4 concurrent workers.\n",
      "[Parallel(n_jobs=4)]: Done  42 tasks      | elapsed:    0.0s\n",
      "[Parallel(n_jobs=4)]: Done 100 out of 100 | elapsed:    0.0s finished\n"
     ]
    }
   ],
   "source": [
    "rf_3 = RandomForestRegressor(random_state = 42, n_jobs = -1, verbose = 1).fit(X_st_train, np.log(y_train+1))\n",
    "print(f\"Точность модели по метрике MAPE: {(mape(y_test, np.exp(rf_3.predict(X_st_test))))*100:0.2f}%\")"
   ]
  },
  {
   "cell_type": "raw",
   "metadata": {},
   "source": [
    "Теперь попробуем дать на вход стандартизированные c помощью StandardScaler данные."
   ]
  },
  {
   "cell_type": "code",
   "execution_count": 162,
   "metadata": {},
   "outputs": [
    {
     "name": "stderr",
     "output_type": "stream",
     "text": [
      "[Parallel(n_jobs=-1)]: Using backend ThreadingBackend with 4 concurrent workers.\n",
      "[Parallel(n_jobs=-1)]: Done  42 tasks      | elapsed:    2.1s\n"
     ]
    },
    {
     "name": "stdout",
     "output_type": "stream",
     "text": [
      "Точность модели по метрике MAPE: 14.37%\n"
     ]
    },
    {
     "name": "stderr",
     "output_type": "stream",
     "text": [
      "[Parallel(n_jobs=-1)]: Done 100 out of 100 | elapsed:    4.9s finished\n",
      "[Parallel(n_jobs=4)]: Using backend ThreadingBackend with 4 concurrent workers.\n",
      "[Parallel(n_jobs=4)]: Done  42 tasks      | elapsed:    0.0s\n",
      "[Parallel(n_jobs=4)]: Done 100 out of 100 | elapsed:    0.0s finished\n"
     ]
    }
   ],
   "source": [
    "rf_4 = RandomForestRegressor(random_state = 42, n_jobs = -1, verbose = 1).fit(X_stD_train, np.log(y_train+1))\n",
    "print(f\"Точность модели по метрике MAPE: {(mape(y_test, np.exp(rf_4.predict(X_stD_test))))*100:0.2f}%\")"
   ]
  },
  {
   "cell_type": "raw",
   "metadata": {},
   "source": [
    "Смысла подавать стандартизированные данные нет. Попробуем применить гиперпараметры для того чтобы найти оптимальные параметры алгоритма случайный лес."
   ]
  },
  {
   "cell_type": "code",
   "execution_count": 163,
   "metadata": {},
   "outputs": [],
   "source": [
    "# Зададим сетку гиперпараметров, которые будут перебираться:\n",
    "n_estimators = [int(x) for x in np.linspace(start = 200, stop = 2000, num = 10)]\n",
    "max_features = ['auto', 'sqrt']\n",
    "max_depth = [int(x) for x in np.linspace(10, 110, num = 11)]\n",
    "max_depth.append(None)\n",
    "min_samples_split = [2, 5, 10]\n",
    "min_samples_leaf = [1, 2, 4]\n",
    "bootstrap = [True, False]\n",
    "random_grid = {'n_estimators': n_estimators,\n",
    "               'max_features': max_features,\n",
    "               'max_depth': max_depth,\n",
    "               'min_samples_split': min_samples_split,\n",
    "               'min_samples_leaf': min_samples_leaf,\n",
    "               'bootstrap': bootstrap}"
   ]
  },
  {
   "cell_type": "code",
   "execution_count": 164,
   "metadata": {},
   "outputs": [
    {
     "name": "stderr",
     "output_type": "stream",
     "text": [
      "[Parallel(n_jobs=-1)]: Using backend LokyBackend with 4 concurrent workers.\n"
     ]
    },
    {
     "name": "stdout",
     "output_type": "stream",
     "text": [
      "Fitting 3 folds for each of 100 candidates, totalling 300 fits\n"
     ]
    },
    {
     "name": "stderr",
     "output_type": "stream",
     "text": [
      "[Parallel(n_jobs=-1)]: Done  33 tasks      | elapsed: 15.6min\n",
      "[Parallel(n_jobs=-1)]: Done 154 tasks      | elapsed: 82.2min\n",
      "[Parallel(n_jobs=-1)]: Done 300 out of 300 | elapsed: 139.0min finished\n"
     ]
    },
    {
     "data": {
      "text/plain": [
       "RandomizedSearchCV(cv=3, estimator=RandomForestRegressor(random_state=42),\n",
       "                   n_iter=100, n_jobs=-1,\n",
       "                   param_distributions={'bootstrap': [True, False],\n",
       "                                        'max_depth': [10, 20, 30, 40, 50, 60,\n",
       "                                                      70, 80, 90, 100, 110,\n",
       "                                                      None],\n",
       "                                        'max_features': ['auto', 'sqrt'],\n",
       "                                        'min_samples_leaf': [1, 2, 4],\n",
       "                                        'min_samples_split': [2, 5, 10],\n",
       "                                        'n_estimators': [200, 400, 600, 800,\n",
       "                                                         1000, 1200, 1400, 1600,\n",
       "                                                         1800, 2000]},\n",
       "                   random_state=42, verbose=2)"
      ]
     },
     "execution_count": 164,
     "metadata": {},
     "output_type": "execute_result"
    }
   ],
   "source": [
    "# Обучим наш лес (выполняется долго, будьте готовы ждать около трех часов):\n",
    "rf_5 = RandomForestRegressor(random_state=42)\n",
    "rf_random = RandomizedSearchCV(estimator=rf_5, param_distributions=random_grid, n_iter=100, \n",
    "                              cv=3, verbose=2, random_state=42, n_jobs=-1)\n",
    "rf_random.fit(X_train, np.log(y_train+1))"
   ]
  },
  {
   "cell_type": "code",
   "execution_count": 165,
   "metadata": {},
   "outputs": [
    {
     "data": {
      "text/plain": [
       "{'n_estimators': 800,\n",
       " 'min_samples_split': 5,\n",
       " 'min_samples_leaf': 1,\n",
       " 'max_features': 'sqrt',\n",
       " 'max_depth': 90,\n",
       " 'bootstrap': False}"
      ]
     },
     "execution_count": 165,
     "metadata": {},
     "output_type": "execute_result"
    }
   ],
   "source": [
    "# Давайте посмотрим, какие гиперпараметры нам предлагают как оптимальные:\n",
    "rf_random.best_params_"
   ]
  },
  {
   "cell_type": "code",
   "execution_count": 166,
   "metadata": {},
   "outputs": [
    {
     "name": "stdout",
     "output_type": "stream",
     "text": [
      "Точность модели по метрике MAPE: 13.72%\n"
     ]
    }
   ],
   "source": [
    "rf_6 = RandomForestRegressor(random_state = 42, n_estimators = 800, min_samples_split = 5, min_samples_leaf = 1,\n",
    "                          max_features = 'sqrt', max_depth = 90, bootstrap = False).fit(X_train, np.log(y_train+1))\n",
    "print(f\"Точность модели по метрике MAPE: {(mape(y_test, np.exp(rf_6.predict(X_test))))*100:0.2f}%\")"
   ]
  },
  {
   "cell_type": "raw",
   "metadata": {},
   "source": [
    "С помощью подбора параметров получилось улучшить точность прогноза для метода Random Forest, но превзойти результат для метода CatBoost пока не получилось."
   ]
  },
  {
   "cell_type": "markdown",
   "metadata": {},
   "source": [
    "# Модель 5. Градиентный бустинг с подбором параметров."
   ]
  },
  {
   "cell_type": "code",
   "execution_count": 167,
   "metadata": {},
   "outputs": [],
   "source": [
    "# Определим функциюю подбора оптимальных параметров для градиентного бустинга.\n",
    "def find_best_parameters(X_train, y_train):\n",
    "    max_depth = [5, 10,15]\n",
    "    n_estimators = [100, 200,1000]\n",
    "    hyperparameters = dict(max_depth=max_depth, n_estimators=n_estimators)\n",
    "    model = GradientBoostingRegressor()\n",
    "    model.fit(X_train, y_train)\n",
    "\n",
    "    clf = GridSearchCV(model, hyperparameters)\n",
    "\n",
    "    best_model = clf.fit(X_train, y_train)\n",
    "\n",
    "    best_max_depth = best_model.best_estimator_.get_params()['max_depth']\n",
    "    best_n_estimators = best_model.best_estimator_.get_params()['n_estimators']\n",
    "\n",
    "    return best_max_depth, best_n_estimators"
   ]
  },
  {
   "cell_type": "code",
   "execution_count": 168,
   "metadata": {},
   "outputs": [
    {
     "data": {
      "text/plain": [
       "(5, 1000)"
      ]
     },
     "execution_count": 168,
     "metadata": {},
     "output_type": "execute_result"
    }
   ],
   "source": [
    "# Найдем оптимальные параметры:\n",
    "best_max_depth, best_n_estimators = find_best_parameters(X_train, y_train)\n",
    "best_max_depth, best_n_estimators"
   ]
  },
  {
   "cell_type": "code",
   "execution_count": 169,
   "metadata": {},
   "outputs": [
    {
     "name": "stdout",
     "output_type": "stream",
     "text": [
      "Точность модели по метрике MAPE: 13.88%\n"
     ]
    }
   ],
   "source": [
    "# Обучим модель градиентного буснинга с оптимальными параметрами на нестандартизированных данных.\n",
    "gb_1 = GradientBoostingRegressor(min_samples_split=2, learning_rate=0.03, max_depth=5, n_estimators=1000)\n",
    "gb_1.fit(X_train, np.log(y_train+1))\n",
    "print(f\"Точность модели по метрике MAPE: {(mape(y_test, np.exp(gb_1.predict(X_test))))*100:0.2f}%\")"
   ]
  },
  {
   "cell_type": "raw",
   "metadata": {},
   "source": [
    "Результат в принципе неплохой. Попробуем подать на вход стандартизированные c помощью MinMaxScaler данные."
   ]
  },
  {
   "cell_type": "code",
   "execution_count": 170,
   "metadata": {},
   "outputs": [
    {
     "data": {
      "text/plain": [
       "(5, 1000)"
      ]
     },
     "execution_count": 170,
     "metadata": {},
     "output_type": "execute_result"
    }
   ],
   "source": [
    "# Найдем оптимальные параметры:\n",
    "best_max_depth, best_n_estimators = find_best_parameters(X_st_train, y_train)\n",
    "best_max_depth, best_n_estimators"
   ]
  },
  {
   "cell_type": "code",
   "execution_count": 171,
   "metadata": {},
   "outputs": [
    {
     "name": "stdout",
     "output_type": "stream",
     "text": [
      "Точность модели по метрике MAPE: 13.87%\n"
     ]
    }
   ],
   "source": [
    "# Обучим модель градиентного буснинга с оптимальными параметрами на стандартизированных c помощью MinMaxScaler данных.\n",
    "gb_2 = GradientBoostingRegressor(min_samples_split=2, learning_rate=0.03, max_depth=5, n_estimators=1000)\n",
    "gb_2.fit(X_st_train, np.log(y_train+1))\n",
    "print(f\"Точность модели по метрике MAPE: {(mape(y_test, np.exp(gb_2.predict(X_st_test))))*100:0.2f}%\")"
   ]
  },
  {
   "cell_type": "raw",
   "metadata": {},
   "source": [
    "Результат почти не изменился. Попробуем подать на вход стандартизированные c помощью StandardScaler данные."
   ]
  },
  {
   "cell_type": "code",
   "execution_count": 172,
   "metadata": {},
   "outputs": [
    {
     "data": {
      "text/plain": [
       "(5, 1000)"
      ]
     },
     "execution_count": 172,
     "metadata": {},
     "output_type": "execute_result"
    }
   ],
   "source": [
    "# Найдем оптимальные параметры:\n",
    "best_max_depth, best_n_estimators = find_best_parameters(X_stD_train, y_train)\n",
    "best_max_depth, best_n_estimators"
   ]
  },
  {
   "cell_type": "code",
   "execution_count": 173,
   "metadata": {},
   "outputs": [
    {
     "name": "stdout",
     "output_type": "stream",
     "text": [
      "Точность модели по метрике MAPE: 13.87%\n"
     ]
    }
   ],
   "source": [
    "# Обучим модель градиентного буснинга с оптимальными параметрами на стандартизированных c помощью StandardScaler данных.\n",
    "gb_3 = GradientBoostingRegressor(min_samples_split=2, learning_rate=0.03, max_depth=5, n_estimators=1000)\n",
    "gb_3.fit(X_stD_train, np.log(y_train+1))\n",
    "print(f\"Точность модели по метрике MAPE: {(mape(y_test, np.exp(gb_3.predict(X_stD_test))))*100:0.2f}%\")"
   ]
  },
  {
   "cell_type": "raw",
   "metadata": {},
   "source": [
    "Результат не поменялся. Он в принципе неплохой, но RandomForest с подобранными параметрами и логарифмированной целевой переменной выдает результат лучше. А лучший результат давал метод CatBoost с логарифмированной целевой переменной."
   ]
  },
  {
   "cell_type": "markdown",
   "metadata": {},
   "source": [
    "# Модель 6. Стекинг."
   ]
  },
  {
   "cell_type": "code",
   "execution_count": 174,
   "metadata": {},
   "outputs": [],
   "source": [
    "cv = KFold(n_splits=5, shuffle=True, random_state=42) # Задали параметр кросс-валидации\n",
    "# Определим функции compute_meta_feature и содержащую ее generate_meta_features. Последняя генерирует мета признаки \n",
    "# для всех объектов выборки.\n",
    "def compute_meta_feature(regr, X_train, X_test, y_train, cv):\n",
    "    X_meta_train = np.zeros_like(y_train, dtype=np.float32)    \n",
    "    splits = cv.split(X_train)\n",
    "    for train_fold_index, predict_fold_index in splits:\n",
    "        X_fold_train, X_fold_predict = X_train[train_fold_index], X_train[predict_fold_index]\n",
    "        y_fold_train = y_train[train_fold_index]\n",
    "\n",
    "        folded_regr = clone(regr)\n",
    "        folded_regr.fit(X_fold_train, y_fold_train)\n",
    "\n",
    "        X_meta_train[predict_fold_index] = folded_regr.predict(X_fold_predict)\n",
    "\n",
    "    meta_regr = clone(regr)\n",
    "    meta_regr.fit(X_train, y_train)\n",
    "\n",
    "    X_meta_test = meta_regr.predict(X_test)\n",
    "\n",
    "\n",
    "    return X_meta_train, X_meta_test\n",
    "\n",
    "def generate_meta_features(regr, X_train, X_test, y_train, cv):\n",
    "    features = [compute_meta_feature(regr, X_train, X_test, y_train, cv) for regr in tqdm(regr)]    \n",
    "    stacked_features_train = np.vstack([features_train for features_train, features_test in features]).T\n",
    "    stacked_features_test = np.vstack([features_test for features_train, features_test in features]).T\n",
    "    return stacked_features_train, stacked_features_test\n",
    "\n"
   ]
  },
  {
   "cell_type": "code",
   "execution_count": 175,
   "metadata": {},
   "outputs": [],
   "source": [
    "# Заменяем пропуски нулями (если где то не выявили) и возвращаем массив вместо датасета.\n",
    "X_train = np.where(np.isnan(X_train), 0, X_train)\n",
    "X_test = np.where(np.isnan(X_test), 0, X_test)\n",
    "y_train = np.where(np.isnan(y_train), 0, y_train)"
   ]
  },
  {
   "cell_type": "code",
   "execution_count": 176,
   "metadata": {},
   "outputs": [
    {
     "data": {
      "application/vnd.jupyter.widget-view+json": {
       "model_id": "c40125da1af941ba88938741c96e9bb1",
       "version_major": 2,
       "version_minor": 0
      },
      "text/plain": [
       "HBox(children=(HTML(value=''), FloatProgress(value=0.0, max=4.0), HTML(value='')))"
      ]
     },
     "metadata": {},
     "output_type": "display_data"
    },
    {
     "name": "stderr",
     "output_type": "stream",
     "text": [
      "[Parallel(n_jobs=-1)]: Using backend ThreadingBackend with 4 concurrent workers.\n",
      "[Parallel(n_jobs=-1)]: Done  42 tasks      | elapsed:    2.3s\n",
      "[Parallel(n_jobs=-1)]: Done 100 out of 100 | elapsed:    5.0s finished\n",
      "[Parallel(n_jobs=4)]: Using backend ThreadingBackend with 4 concurrent workers.\n",
      "[Parallel(n_jobs=4)]: Done  42 tasks      | elapsed:    0.0s\n",
      "[Parallel(n_jobs=4)]: Done 100 out of 100 | elapsed:    0.0s finished\n",
      "[Parallel(n_jobs=-1)]: Using backend ThreadingBackend with 4 concurrent workers.\n",
      "[Parallel(n_jobs=-1)]: Done  42 tasks      | elapsed:    1.6s\n",
      "[Parallel(n_jobs=-1)]: Done 100 out of 100 | elapsed:    4.0s finished\n",
      "[Parallel(n_jobs=4)]: Using backend ThreadingBackend with 4 concurrent workers.\n",
      "[Parallel(n_jobs=4)]: Done  42 tasks      | elapsed:    0.0s\n",
      "[Parallel(n_jobs=4)]: Done 100 out of 100 | elapsed:    0.0s finished\n",
      "[Parallel(n_jobs=-1)]: Using backend ThreadingBackend with 4 concurrent workers.\n",
      "[Parallel(n_jobs=-1)]: Done  42 tasks      | elapsed:    1.7s\n",
      "[Parallel(n_jobs=-1)]: Done 100 out of 100 | elapsed:    4.1s finished\n",
      "[Parallel(n_jobs=4)]: Using backend ThreadingBackend with 4 concurrent workers.\n",
      "[Parallel(n_jobs=4)]: Done  42 tasks      | elapsed:    0.0s\n",
      "[Parallel(n_jobs=4)]: Done 100 out of 100 | elapsed:    0.0s finished\n",
      "[Parallel(n_jobs=-1)]: Using backend ThreadingBackend with 4 concurrent workers.\n",
      "[Parallel(n_jobs=-1)]: Done  42 tasks      | elapsed:    1.8s\n",
      "[Parallel(n_jobs=-1)]: Done 100 out of 100 | elapsed:    4.2s finished\n",
      "[Parallel(n_jobs=4)]: Using backend ThreadingBackend with 4 concurrent workers.\n",
      "[Parallel(n_jobs=4)]: Done  42 tasks      | elapsed:    0.0s\n",
      "[Parallel(n_jobs=4)]: Done 100 out of 100 | elapsed:    0.1s finished\n",
      "[Parallel(n_jobs=-1)]: Using backend ThreadingBackend with 4 concurrent workers.\n",
      "[Parallel(n_jobs=-1)]: Done  42 tasks      | elapsed:    1.7s\n",
      "[Parallel(n_jobs=-1)]: Done 100 out of 100 | elapsed:    4.1s finished\n",
      "[Parallel(n_jobs=4)]: Using backend ThreadingBackend with 4 concurrent workers.\n",
      "[Parallel(n_jobs=4)]: Done  42 tasks      | elapsed:    0.0s\n",
      "[Parallel(n_jobs=4)]: Done 100 out of 100 | elapsed:    0.0s finished\n",
      "[Parallel(n_jobs=-1)]: Using backend ThreadingBackend with 4 concurrent workers.\n",
      "[Parallel(n_jobs=-1)]: Done  42 tasks      | elapsed:    2.3s\n",
      "[Parallel(n_jobs=-1)]: Done 100 out of 100 | elapsed:    5.3s finished\n",
      "[Parallel(n_jobs=4)]: Using backend ThreadingBackend with 4 concurrent workers.\n",
      "[Parallel(n_jobs=4)]: Done  42 tasks      | elapsed:    0.0s\n",
      "[Parallel(n_jobs=4)]: Done 100 out of 100 | elapsed:    0.0s finished\n"
     ]
    },
    {
     "name": "stdout",
     "output_type": "stream",
     "text": [
      "\n"
     ]
    }
   ],
   "source": [
    "regr = RandomForestRegressor(random_state = 42, n_estimators = 1400, min_samples_split = 5, min_samples_leaf = 1,\n",
    "                          max_features = 'sqrt', max_depth = 80, bootstrap = False)\n",
    "\n",
    "stacked_features_train, stacked_features_test = generate_meta_features([\n",
    "                            regr,\n",
    "                            GradientBoostingRegressor(min_samples_split=2, learning_rate=0.03, max_depth=5, n_estimators=1000),\n",
    "                            RandomForestRegressor(random_state = 42, n_jobs = -1, verbose = 1),\n",
    "                            RandomForestRegressor(random_state=42, max_depth=15) \\\n",
    "], X_train, X_test, y_train, cv)"
   ]
  },
  {
   "cell_type": "code",
   "execution_count": 177,
   "metadata": {},
   "outputs": [
    {
     "name": "stdout",
     "output_type": "stream",
     "text": [
      "Точность модели по метрике MAPE: 16.14%\n"
     ]
    }
   ],
   "source": [
    "def compute_metric(regr, X_train, y_train, X_test, y_test): \n",
    "    regr.fit(X_train, y_train) \n",
    "    y_test_pred = regr.predict(X_test) \n",
    "    return np.round(mape(y_test, y_test_pred)*100, 2)\n",
    "\n",
    "print(f\"Точность модели по метрике MAPE: {compute_metric(regr, stacked_features_train, y_train, stacked_features_test, y_test)}%\")"
   ]
  },
  {
   "cell_type": "raw",
   "metadata": {},
   "source": [
    "Попробуем подать на вход стандартизированные с помощью MinMaxScaler данные."
   ]
  },
  {
   "cell_type": "code",
   "execution_count": 178,
   "metadata": {},
   "outputs": [],
   "source": [
    "# Заменяем пропуски нулями (если где то не выявили) и возвращаем массив вместо датасета.\n",
    "X_st_train = np.where(np.isnan(X_st_train), 0, X_st_train)\n",
    "X_st_test = np.where(np.isnan(X_st_test), 0, X_st_test)"
   ]
  },
  {
   "cell_type": "code",
   "execution_count": 179,
   "metadata": {},
   "outputs": [
    {
     "data": {
      "application/vnd.jupyter.widget-view+json": {
       "model_id": "c0a0d4b5abfc4164bb484d7576aaaae4",
       "version_major": 2,
       "version_minor": 0
      },
      "text/plain": [
       "HBox(children=(HTML(value=''), FloatProgress(value=0.0, max=4.0), HTML(value='')))"
      ]
     },
     "metadata": {},
     "output_type": "display_data"
    },
    {
     "name": "stderr",
     "output_type": "stream",
     "text": [
      "[Parallel(n_jobs=-1)]: Using backend ThreadingBackend with 4 concurrent workers.\n",
      "[Parallel(n_jobs=-1)]: Done  42 tasks      | elapsed:    1.5s\n",
      "[Parallel(n_jobs=-1)]: Done 100 out of 100 | elapsed:    3.7s finished\n",
      "[Parallel(n_jobs=4)]: Using backend ThreadingBackend with 4 concurrent workers.\n",
      "[Parallel(n_jobs=4)]: Done  42 tasks      | elapsed:    0.0s\n",
      "[Parallel(n_jobs=4)]: Done 100 out of 100 | elapsed:    0.0s finished\n",
      "[Parallel(n_jobs=-1)]: Using backend ThreadingBackend with 4 concurrent workers.\n",
      "[Parallel(n_jobs=-1)]: Done  42 tasks      | elapsed:    1.7s\n",
      "[Parallel(n_jobs=-1)]: Done 100 out of 100 | elapsed:    4.1s finished\n",
      "[Parallel(n_jobs=4)]: Using backend ThreadingBackend with 4 concurrent workers.\n",
      "[Parallel(n_jobs=4)]: Done  42 tasks      | elapsed:    0.0s\n",
      "[Parallel(n_jobs=4)]: Done 100 out of 100 | elapsed:    0.1s finished\n",
      "[Parallel(n_jobs=-1)]: Using backend ThreadingBackend with 4 concurrent workers.\n",
      "[Parallel(n_jobs=-1)]: Done  42 tasks      | elapsed:    1.7s\n",
      "[Parallel(n_jobs=-1)]: Done 100 out of 100 | elapsed:    4.1s finished\n",
      "[Parallel(n_jobs=4)]: Using backend ThreadingBackend with 4 concurrent workers.\n",
      "[Parallel(n_jobs=4)]: Done  42 tasks      | elapsed:    0.0s\n",
      "[Parallel(n_jobs=4)]: Done 100 out of 100 | elapsed:    0.1s finished\n",
      "[Parallel(n_jobs=-1)]: Using backend ThreadingBackend with 4 concurrent workers.\n",
      "[Parallel(n_jobs=-1)]: Done  42 tasks      | elapsed:    1.7s\n",
      "[Parallel(n_jobs=-1)]: Done 100 out of 100 | elapsed:    4.2s finished\n",
      "[Parallel(n_jobs=4)]: Using backend ThreadingBackend with 4 concurrent workers.\n",
      "[Parallel(n_jobs=4)]: Done  42 tasks      | elapsed:    0.0s\n",
      "[Parallel(n_jobs=4)]: Done 100 out of 100 | elapsed:    0.0s finished\n",
      "[Parallel(n_jobs=-1)]: Using backend ThreadingBackend with 4 concurrent workers.\n",
      "[Parallel(n_jobs=-1)]: Done  42 tasks      | elapsed:    1.7s\n",
      "[Parallel(n_jobs=-1)]: Done 100 out of 100 | elapsed:    4.2s finished\n",
      "[Parallel(n_jobs=4)]: Using backend ThreadingBackend with 4 concurrent workers.\n",
      "[Parallel(n_jobs=4)]: Done  42 tasks      | elapsed:    0.0s\n",
      "[Parallel(n_jobs=4)]: Done 100 out of 100 | elapsed:    0.0s finished\n",
      "[Parallel(n_jobs=-1)]: Using backend ThreadingBackend with 4 concurrent workers.\n",
      "[Parallel(n_jobs=-1)]: Done  42 tasks      | elapsed:    2.3s\n",
      "[Parallel(n_jobs=-1)]: Done 100 out of 100 | elapsed:    5.3s finished\n",
      "[Parallel(n_jobs=4)]: Using backend ThreadingBackend with 4 concurrent workers.\n",
      "[Parallel(n_jobs=4)]: Done  42 tasks      | elapsed:    0.0s\n",
      "[Parallel(n_jobs=4)]: Done 100 out of 100 | elapsed:    0.0s finished\n"
     ]
    },
    {
     "name": "stdout",
     "output_type": "stream",
     "text": [
      "\n"
     ]
    }
   ],
   "source": [
    "regr = RandomForestRegressor(random_state = 42, n_estimators = 1400, min_samples_split = 5, min_samples_leaf = 1,\n",
    "                          max_features = 'sqrt', max_depth = 80, bootstrap = False)\n",
    "\n",
    "stacked_features_train, stacked_features_test = generate_meta_features([\n",
    "                            regr,\n",
    "                            GradientBoostingRegressor(min_samples_split=2, learning_rate=0.03, max_depth=5, n_estimators=1000),\n",
    "                            RandomForestRegressor(random_state = 42, n_jobs = -1, verbose = 1),\n",
    "                            RandomForestRegressor(random_state=42, max_depth=15) \\\n",
    "], X_st_train, X_st_test, y_train, cv)"
   ]
  },
  {
   "cell_type": "code",
   "execution_count": 180,
   "metadata": {},
   "outputs": [
    {
     "name": "stdout",
     "output_type": "stream",
     "text": [
      "Точность модели по метрике MAPE: 16.03%\n"
     ]
    }
   ],
   "source": [
    "print(f\"Точность модели по метрике MAPE: {compute_metric(regr, stacked_features_train, y_train, stacked_features_test, y_test)}%\")"
   ]
  },
  {
   "cell_type": "raw",
   "metadata": {},
   "source": [
    "Попробуем подать на вход стандартизированные с помощью StandardScaler данные."
   ]
  },
  {
   "cell_type": "code",
   "execution_count": 181,
   "metadata": {},
   "outputs": [],
   "source": [
    "# Заменяем пропуски нулями (если где то не выявили) и возвращаем массив вместо датасета.\n",
    "X_stD_train = np.where(np.isnan(X_stD_train), 0, X_stD_train)\n",
    "X_stD_test = np.where(np.isnan(X_stD_test), 0, X_stD_test)"
   ]
  },
  {
   "cell_type": "code",
   "execution_count": 182,
   "metadata": {},
   "outputs": [
    {
     "data": {
      "application/vnd.jupyter.widget-view+json": {
       "model_id": "dccef4da79c04e51a3975183f87d44af",
       "version_major": 2,
       "version_minor": 0
      },
      "text/plain": [
       "HBox(children=(HTML(value=''), FloatProgress(value=0.0, max=4.0), HTML(value='')))"
      ]
     },
     "metadata": {},
     "output_type": "display_data"
    },
    {
     "name": "stderr",
     "output_type": "stream",
     "text": [
      "[Parallel(n_jobs=-1)]: Using backend ThreadingBackend with 4 concurrent workers.\n",
      "[Parallel(n_jobs=-1)]: Done  42 tasks      | elapsed:    2.1s\n",
      "[Parallel(n_jobs=-1)]: Done 100 out of 100 | elapsed:    4.3s finished\n",
      "[Parallel(n_jobs=4)]: Using backend ThreadingBackend with 4 concurrent workers.\n",
      "[Parallel(n_jobs=4)]: Done  42 tasks      | elapsed:    0.0s\n",
      "[Parallel(n_jobs=4)]: Done 100 out of 100 | elapsed:    0.0s finished\n",
      "[Parallel(n_jobs=-1)]: Using backend ThreadingBackend with 4 concurrent workers.\n",
      "[Parallel(n_jobs=-1)]: Done  42 tasks      | elapsed:    1.6s\n",
      "[Parallel(n_jobs=-1)]: Done 100 out of 100 | elapsed:    3.8s finished\n",
      "[Parallel(n_jobs=4)]: Using backend ThreadingBackend with 4 concurrent workers.\n",
      "[Parallel(n_jobs=4)]: Done  42 tasks      | elapsed:    0.0s\n",
      "[Parallel(n_jobs=4)]: Done 100 out of 100 | elapsed:    0.1s finished\n",
      "[Parallel(n_jobs=-1)]: Using backend ThreadingBackend with 4 concurrent workers.\n",
      "[Parallel(n_jobs=-1)]: Done  42 tasks      | elapsed:    1.7s\n",
      "[Parallel(n_jobs=-1)]: Done 100 out of 100 | elapsed:    4.2s finished\n",
      "[Parallel(n_jobs=4)]: Using backend ThreadingBackend with 4 concurrent workers.\n",
      "[Parallel(n_jobs=4)]: Done  42 tasks      | elapsed:    0.0s\n",
      "[Parallel(n_jobs=4)]: Done 100 out of 100 | elapsed:    0.0s finished\n",
      "[Parallel(n_jobs=-1)]: Using backend ThreadingBackend with 4 concurrent workers.\n",
      "[Parallel(n_jobs=-1)]: Done  42 tasks      | elapsed:    1.9s\n",
      "[Parallel(n_jobs=-1)]: Done 100 out of 100 | elapsed:    4.4s finished\n",
      "[Parallel(n_jobs=4)]: Using backend ThreadingBackend with 4 concurrent workers.\n",
      "[Parallel(n_jobs=4)]: Done  42 tasks      | elapsed:    0.0s\n",
      "[Parallel(n_jobs=4)]: Done 100 out of 100 | elapsed:    0.0s finished\n",
      "[Parallel(n_jobs=-1)]: Using backend ThreadingBackend with 4 concurrent workers.\n",
      "[Parallel(n_jobs=-1)]: Done  42 tasks      | elapsed:    1.7s\n",
      "[Parallel(n_jobs=-1)]: Done 100 out of 100 | elapsed:    4.1s finished\n",
      "[Parallel(n_jobs=4)]: Using backend ThreadingBackend with 4 concurrent workers.\n",
      "[Parallel(n_jobs=4)]: Done  42 tasks      | elapsed:    0.0s\n",
      "[Parallel(n_jobs=4)]: Done 100 out of 100 | elapsed:    0.0s finished\n",
      "[Parallel(n_jobs=-1)]: Using backend ThreadingBackend with 4 concurrent workers.\n",
      "[Parallel(n_jobs=-1)]: Done  42 tasks      | elapsed:    2.3s\n",
      "[Parallel(n_jobs=-1)]: Done 100 out of 100 | elapsed:    5.3s finished\n",
      "[Parallel(n_jobs=4)]: Using backend ThreadingBackend with 4 concurrent workers.\n",
      "[Parallel(n_jobs=4)]: Done  42 tasks      | elapsed:    0.0s\n",
      "[Parallel(n_jobs=4)]: Done 100 out of 100 | elapsed:    0.0s finished\n"
     ]
    },
    {
     "name": "stdout",
     "output_type": "stream",
     "text": [
      "\n"
     ]
    }
   ],
   "source": [
    "regr = RandomForestRegressor(random_state = 42, n_estimators = 1400, min_samples_split = 5, min_samples_leaf = 1,\n",
    "                          max_features = 'sqrt', max_depth = 80, bootstrap = False)\n",
    "\n",
    "stacked_features_train, stacked_features_test = generate_meta_features([\n",
    "                            regr,\n",
    "                            GradientBoostingRegressor(min_samples_split=2, learning_rate=0.03, max_depth=5, n_estimators=1000),\n",
    "                            RandomForestRegressor(random_state = 42, n_jobs = -1, verbose = 1),\n",
    "                            RandomForestRegressor(random_state=42, max_depth=15) \\\n",
    "], X_stD_train, X_stD_test, y_train, cv)"
   ]
  },
  {
   "cell_type": "code",
   "execution_count": 183,
   "metadata": {},
   "outputs": [
    {
     "name": "stdout",
     "output_type": "stream",
     "text": [
      "Точность модели по метрике MAPE: 16.12%\n"
     ]
    }
   ],
   "source": [
    "print(f\"Точность модели по метрике MAPE: {compute_metric(regr, stacked_features_train, y_train, stacked_features_test, y_test)}%\")"
   ]
  },
  {
   "cell_type": "raw",
   "metadata": {},
   "source": [
    "Наблюдается незначительное улучшение качества прогноза. Лучше всего получилось когда подали на вход стандартизированные с помощью StandardScaler данные. Теперь попробуем прологарифмировать целевую переменную, посмотрим, что из этого выйдет. Если это помогало когда мы использовали регрессоры отдельно, то по идее должно помочь и здесь. На вход так же будем подавать стандартизированные с помощью StandardScaler данные."
   ]
  },
  {
   "cell_type": "code",
   "execution_count": 184,
   "metadata": {},
   "outputs": [
    {
     "data": {
      "application/vnd.jupyter.widget-view+json": {
       "model_id": "372d3739ce2e45c28c8f3fa6a8bf6576",
       "version_major": 2,
       "version_minor": 0
      },
      "text/plain": [
       "HBox(children=(HTML(value=''), FloatProgress(value=0.0, max=4.0), HTML(value='')))"
      ]
     },
     "metadata": {},
     "output_type": "display_data"
    },
    {
     "name": "stderr",
     "output_type": "stream",
     "text": [
      "[Parallel(n_jobs=-1)]: Using backend ThreadingBackend with 4 concurrent workers.\n",
      "[Parallel(n_jobs=-1)]: Done  42 tasks      | elapsed:    1.5s\n",
      "[Parallel(n_jobs=-1)]: Done 100 out of 100 | elapsed:    3.5s finished\n",
      "[Parallel(n_jobs=4)]: Using backend ThreadingBackend with 4 concurrent workers.\n",
      "[Parallel(n_jobs=4)]: Done  42 tasks      | elapsed:    0.1s\n",
      "[Parallel(n_jobs=4)]: Done 100 out of 100 | elapsed:    0.1s finished\n",
      "[Parallel(n_jobs=-1)]: Using backend ThreadingBackend with 4 concurrent workers.\n",
      "[Parallel(n_jobs=-1)]: Done  42 tasks      | elapsed:    1.4s\n",
      "[Parallel(n_jobs=-1)]: Done 100 out of 100 | elapsed:    3.5s finished\n",
      "[Parallel(n_jobs=4)]: Using backend ThreadingBackend with 4 concurrent workers.\n",
      "[Parallel(n_jobs=4)]: Done  42 tasks      | elapsed:    0.0s\n",
      "[Parallel(n_jobs=4)]: Done 100 out of 100 | elapsed:    0.0s finished\n",
      "[Parallel(n_jobs=-1)]: Using backend ThreadingBackend with 4 concurrent workers.\n",
      "[Parallel(n_jobs=-1)]: Done  42 tasks      | elapsed:    1.6s\n",
      "[Parallel(n_jobs=-1)]: Done 100 out of 100 | elapsed:    3.9s finished\n",
      "[Parallel(n_jobs=4)]: Using backend ThreadingBackend with 4 concurrent workers.\n",
      "[Parallel(n_jobs=4)]: Done  42 tasks      | elapsed:    0.0s\n",
      "[Parallel(n_jobs=4)]: Done 100 out of 100 | elapsed:    0.0s finished\n",
      "[Parallel(n_jobs=-1)]: Using backend ThreadingBackend with 4 concurrent workers.\n",
      "[Parallel(n_jobs=-1)]: Done  42 tasks      | elapsed:    1.6s\n",
      "[Parallel(n_jobs=-1)]: Done 100 out of 100 | elapsed:    3.9s finished\n",
      "[Parallel(n_jobs=4)]: Using backend ThreadingBackend with 4 concurrent workers.\n",
      "[Parallel(n_jobs=4)]: Done  42 tasks      | elapsed:    0.0s\n",
      "[Parallel(n_jobs=4)]: Done 100 out of 100 | elapsed:    0.0s finished\n",
      "[Parallel(n_jobs=-1)]: Using backend ThreadingBackend with 4 concurrent workers.\n",
      "[Parallel(n_jobs=-1)]: Done  42 tasks      | elapsed:    1.6s\n",
      "[Parallel(n_jobs=-1)]: Done 100 out of 100 | elapsed:    3.9s finished\n",
      "[Parallel(n_jobs=4)]: Using backend ThreadingBackend with 4 concurrent workers.\n",
      "[Parallel(n_jobs=4)]: Done  42 tasks      | elapsed:    0.0s\n",
      "[Parallel(n_jobs=4)]: Done 100 out of 100 | elapsed:    0.0s finished\n",
      "[Parallel(n_jobs=-1)]: Using backend ThreadingBackend with 4 concurrent workers.\n",
      "[Parallel(n_jobs=-1)]: Done  42 tasks      | elapsed:    2.1s\n",
      "[Parallel(n_jobs=-1)]: Done 100 out of 100 | elapsed:    4.9s finished\n",
      "[Parallel(n_jobs=4)]: Using backend ThreadingBackend with 4 concurrent workers.\n",
      "[Parallel(n_jobs=4)]: Done  42 tasks      | elapsed:    0.0s\n",
      "[Parallel(n_jobs=4)]: Done 100 out of 100 | elapsed:    0.0s finished\n"
     ]
    },
    {
     "name": "stdout",
     "output_type": "stream",
     "text": [
      "\n"
     ]
    }
   ],
   "source": [
    "regr = RandomForestRegressor(random_state = 42, n_estimators = 1400, min_samples_split = 5, min_samples_leaf = 1,\n",
    "                          max_features = 'sqrt', max_depth = 80, bootstrap = False)\n",
    "\n",
    "stacked_features_train, stacked_features_test = generate_meta_features([\n",
    "                            regr,\n",
    "                            GradientBoostingRegressor(min_samples_split=2, learning_rate=0.03, max_depth=5, n_estimators=1000),\n",
    "                            RandomForestRegressor(random_state = 42, n_jobs = -1, verbose = 1),\n",
    "                            RandomForestRegressor(random_state=42, max_depth=15) \\\n",
    "], X_stD_train, X_stD_test, np.log(y_train+1), cv)"
   ]
  },
  {
   "cell_type": "code",
   "execution_count": 185,
   "metadata": {},
   "outputs": [
    {
     "name": "stdout",
     "output_type": "stream",
     "text": [
      "Точность модели по метрике MAPE: 14.38%\n"
     ]
    }
   ],
   "source": [
    "regr.fit(stacked_features_train, np.log(y_train+1)) \n",
    "y_test_pred = np.exp(regr.predict(stacked_features_test))\n",
    "\n",
    "print(f\"Точность модели по метрике MAPE: {np.round(mape(y_test, y_test_pred)*100, 2)}%\")"
   ]
  },
  {
   "cell_type": "raw",
   "metadata": {},
   "source": [
    "Наблюдается заметное улучщение качества прогноза. Но превзойти качество метода CatBoost (модель model_catboost_2) при логарифмированной целевой переменной (Точность модели по метрике MAPE: 12.81%) не удалось."
   ]
  },
  {
   "cell_type": "markdown",
   "metadata": {},
   "source": [
    "# Выводы."
   ]
  },
  {
   "cell_type": "raw",
   "metadata": {},
   "source": [
    "1) Наилучщий результат получается при применении метода CatBost в сочетании с логарифмированием целевой переменной.  Алгоритмы Случайного Леса, Градиентного бустинга и стекинга так же дают неплохой результат, но немного хуже.\n",
    "2) Стандартизация данных особого влияния на точность прогноза не оказывает.\n",
    "3) Логарифмирование целевой переменной повышает точность прогноза."
   ]
  },
  {
   "cell_type": "markdown",
   "metadata": {},
   "source": [
    "# Запись в файл предсказанных алгоритмом CatBoost (с логарифмированием целевой переменной) цен для тестового набора данных."
   ]
  },
  {
   "cell_type": "code",
   "execution_count": 186,
   "metadata": {},
   "outputs": [],
   "source": [
    "# Вычисляем цены для тестового набора данных, создаем столбец test['price'] и записываем в него вычисленные цены.\n",
    "y_test_data = np.exp(model_catboost_2.predict(X_test_data))\n",
    "test['price'] = y_test_data"
   ]
  },
  {
   "cell_type": "code",
   "execution_count": 187,
   "metadata": {},
   "outputs": [
    {
     "data": {
      "text/html": [
       "<div>\n",
       "<style scoped>\n",
       "    .dataframe tbody tr th:only-of-type {\n",
       "        vertical-align: middle;\n",
       "    }\n",
       "\n",
       "    .dataframe tbody tr th {\n",
       "        vertical-align: top;\n",
       "    }\n",
       "\n",
       "    .dataframe thead th {\n",
       "        text-align: right;\n",
       "    }\n",
       "</style>\n",
       "<table border=\"1\" class=\"dataframe\">\n",
       "  <thead>\n",
       "    <tr style=\"text-align: right;\">\n",
       "      <th></th>\n",
       "      <th>bodyType</th>\n",
       "      <th>brand</th>\n",
       "      <th>car_url</th>\n",
       "      <th>color</th>\n",
       "      <th>description_length</th>\n",
       "      <th>engineDisplacement</th>\n",
       "      <th>enginePower</th>\n",
       "      <th>fuelType</th>\n",
       "      <th>image</th>\n",
       "      <th>mileage</th>\n",
       "      <th>...</th>\n",
       "      <th>vehicleTransmission</th>\n",
       "      <th>Владельцы</th>\n",
       "      <th>ПТС</th>\n",
       "      <th>Привод</th>\n",
       "      <th>Руль</th>\n",
       "      <th>Состояние</th>\n",
       "      <th>price</th>\n",
       "      <th>sell_id</th>\n",
       "      <th>car_age</th>\n",
       "      <th>model_age</th>\n",
       "    </tr>\n",
       "  </thead>\n",
       "  <tbody>\n",
       "    <tr>\n",
       "      <th>0</th>\n",
       "      <td>1</td>\n",
       "      <td>0</td>\n",
       "      <td>https://auto.ru/cars/used/sale/audi/e_tron/110...</td>\n",
       "      <td>1</td>\n",
       "      <td>1456</td>\n",
       "      <td>0.0</td>\n",
       "      <td>408.0</td>\n",
       "      <td>4</td>\n",
       "      <td>1</td>\n",
       "      <td>885</td>\n",
       "      <td>...</td>\n",
       "      <td>0</td>\n",
       "      <td>0</td>\n",
       "      <td>1</td>\n",
       "      <td>2</td>\n",
       "      <td>0</td>\n",
       "      <td>0</td>\n",
       "      <td>7.324612e+06</td>\n",
       "      <td>1101083243</td>\n",
       "      <td>2</td>\n",
       "      <td>3</td>\n",
       "    </tr>\n",
       "    <tr>\n",
       "      <th>1</th>\n",
       "      <td>23</td>\n",
       "      <td>1</td>\n",
       "      <td>https://auto.ru/cars/used/sale/bmw/i3/11010431...</td>\n",
       "      <td>13</td>\n",
       "      <td>125</td>\n",
       "      <td>0.0</td>\n",
       "      <td>170.0</td>\n",
       "      <td>4</td>\n",
       "      <td>1</td>\n",
       "      <td>32000</td>\n",
       "      <td>...</td>\n",
       "      <td>0</td>\n",
       "      <td>0</td>\n",
       "      <td>1</td>\n",
       "      <td>0</td>\n",
       "      <td>0</td>\n",
       "      <td>0</td>\n",
       "      <td>2.482559e+06</td>\n",
       "      <td>1101043134</td>\n",
       "      <td>3</td>\n",
       "      <td>4</td>\n",
       "    </tr>\n",
       "    <tr>\n",
       "      <th>2</th>\n",
       "      <td>23</td>\n",
       "      <td>1</td>\n",
       "      <td>https://auto.ru/cars/used/sale/bmw/i3/11012780...</td>\n",
       "      <td>12</td>\n",
       "      <td>1422</td>\n",
       "      <td>0.0</td>\n",
       "      <td>170.0</td>\n",
       "      <td>4</td>\n",
       "      <td>1</td>\n",
       "      <td>51000</td>\n",
       "      <td>...</td>\n",
       "      <td>0</td>\n",
       "      <td>0</td>\n",
       "      <td>1</td>\n",
       "      <td>0</td>\n",
       "      <td>0</td>\n",
       "      <td>0</td>\n",
       "      <td>1.691998e+06</td>\n",
       "      <td>1101278018</td>\n",
       "      <td>7</td>\n",
       "      <td>8</td>\n",
       "    </tr>\n",
       "    <tr>\n",
       "      <th>3</th>\n",
       "      <td>23</td>\n",
       "      <td>1</td>\n",
       "      <td>https://auto.ru/cars/used/sale/bmw/i3/11002716...</td>\n",
       "      <td>1</td>\n",
       "      <td>2681</td>\n",
       "      <td>0.0</td>\n",
       "      <td>170.0</td>\n",
       "      <td>4</td>\n",
       "      <td>1</td>\n",
       "      <td>25000</td>\n",
       "      <td>...</td>\n",
       "      <td>0</td>\n",
       "      <td>0</td>\n",
       "      <td>1</td>\n",
       "      <td>0</td>\n",
       "      <td>0</td>\n",
       "      <td>0</td>\n",
       "      <td>2.533572e+06</td>\n",
       "      <td>1100271628</td>\n",
       "      <td>3</td>\n",
       "      <td>4</td>\n",
       "    </tr>\n",
       "    <tr>\n",
       "      <th>4</th>\n",
       "      <td>23</td>\n",
       "      <td>1</td>\n",
       "      <td>https://auto.ru/cars/used/sale/bmw/i3/11011745...</td>\n",
       "      <td>15</td>\n",
       "      <td>740</td>\n",
       "      <td>0.0</td>\n",
       "      <td>170.0</td>\n",
       "      <td>4</td>\n",
       "      <td>1</td>\n",
       "      <td>58500</td>\n",
       "      <td>...</td>\n",
       "      <td>0</td>\n",
       "      <td>0</td>\n",
       "      <td>1</td>\n",
       "      <td>0</td>\n",
       "      <td>0</td>\n",
       "      <td>0</td>\n",
       "      <td>2.061748e+06</td>\n",
       "      <td>1101174554</td>\n",
       "      <td>4</td>\n",
       "      <td>8</td>\n",
       "    </tr>\n",
       "    <tr>\n",
       "      <th>...</th>\n",
       "      <td>...</td>\n",
       "      <td>...</td>\n",
       "      <td>...</td>\n",
       "      <td>...</td>\n",
       "      <td>...</td>\n",
       "      <td>...</td>\n",
       "      <td>...</td>\n",
       "      <td>...</td>\n",
       "      <td>...</td>\n",
       "      <td>...</td>\n",
       "      <td>...</td>\n",
       "      <td>...</td>\n",
       "      <td>...</td>\n",
       "      <td>...</td>\n",
       "      <td>...</td>\n",
       "      <td>...</td>\n",
       "      <td>...</td>\n",
       "      <td>...</td>\n",
       "      <td>...</td>\n",
       "      <td>...</td>\n",
       "      <td>...</td>\n",
       "    </tr>\n",
       "    <tr>\n",
       "      <th>34763</th>\n",
       "      <td>15</td>\n",
       "      <td>1</td>\n",
       "      <td>https://auto.ru/cars/used/sale/bmw/3er/1101369...</td>\n",
       "      <td>6</td>\n",
       "      <td>414</td>\n",
       "      <td>1.6</td>\n",
       "      <td>136.0</td>\n",
       "      <td>0</td>\n",
       "      <td>1</td>\n",
       "      <td>115000</td>\n",
       "      <td>...</td>\n",
       "      <td>0</td>\n",
       "      <td>2</td>\n",
       "      <td>1</td>\n",
       "      <td>0</td>\n",
       "      <td>0</td>\n",
       "      <td>0</td>\n",
       "      <td>1.024826e+06</td>\n",
       "      <td>1101369263</td>\n",
       "      <td>7</td>\n",
       "      <td>10</td>\n",
       "    </tr>\n",
       "    <tr>\n",
       "      <th>34764</th>\n",
       "      <td>15</td>\n",
       "      <td>1</td>\n",
       "      <td>https://auto.ru/cars/used/sale/bmw/5er/1101369...</td>\n",
       "      <td>15</td>\n",
       "      <td>30</td>\n",
       "      <td>2.0</td>\n",
       "      <td>190.0</td>\n",
       "      <td>3</td>\n",
       "      <td>1</td>\n",
       "      <td>98000</td>\n",
       "      <td>...</td>\n",
       "      <td>0</td>\n",
       "      <td>0</td>\n",
       "      <td>1</td>\n",
       "      <td>2</td>\n",
       "      <td>0</td>\n",
       "      <td>0</td>\n",
       "      <td>2.386268e+06</td>\n",
       "      <td>1101369581</td>\n",
       "      <td>3</td>\n",
       "      <td>5</td>\n",
       "    </tr>\n",
       "    <tr>\n",
       "      <th>34765</th>\n",
       "      <td>15</td>\n",
       "      <td>1</td>\n",
       "      <td>https://auto.ru/cars/used/sale/bmw/5er/1101364...</td>\n",
       "      <td>12</td>\n",
       "      <td>17</td>\n",
       "      <td>2.5</td>\n",
       "      <td>170.0</td>\n",
       "      <td>0</td>\n",
       "      <td>1</td>\n",
       "      <td>360000</td>\n",
       "      <td>...</td>\n",
       "      <td>0</td>\n",
       "      <td>2</td>\n",
       "      <td>0</td>\n",
       "      <td>0</td>\n",
       "      <td>0</td>\n",
       "      <td>0</td>\n",
       "      <td>2.533220e+05</td>\n",
       "      <td>1101364889</td>\n",
       "      <td>24</td>\n",
       "      <td>26</td>\n",
       "    </tr>\n",
       "    <tr>\n",
       "      <th>34766</th>\n",
       "      <td>1</td>\n",
       "      <td>1</td>\n",
       "      <td>https://auto.ru/cars/used/sale/bmw/x1/11013625...</td>\n",
       "      <td>6</td>\n",
       "      <td>596</td>\n",
       "      <td>2.0</td>\n",
       "      <td>184.0</td>\n",
       "      <td>3</td>\n",
       "      <td>1</td>\n",
       "      <td>90500</td>\n",
       "      <td>...</td>\n",
       "      <td>0</td>\n",
       "      <td>1</td>\n",
       "      <td>1</td>\n",
       "      <td>2</td>\n",
       "      <td>0</td>\n",
       "      <td>0</td>\n",
       "      <td>1.516419e+06</td>\n",
       "      <td>1101362518</td>\n",
       "      <td>8</td>\n",
       "      <td>9</td>\n",
       "    </tr>\n",
       "    <tr>\n",
       "      <th>34767</th>\n",
       "      <td>1</td>\n",
       "      <td>1</td>\n",
       "      <td>https://auto.ru/cars/used/sale/bmw/x5/11012560...</td>\n",
       "      <td>15</td>\n",
       "      <td>511</td>\n",
       "      <td>3.0</td>\n",
       "      <td>235.0</td>\n",
       "      <td>3</td>\n",
       "      <td>1</td>\n",
       "      <td>240000</td>\n",
       "      <td>...</td>\n",
       "      <td>0</td>\n",
       "      <td>2</td>\n",
       "      <td>1</td>\n",
       "      <td>2</td>\n",
       "      <td>0</td>\n",
       "      <td>0</td>\n",
       "      <td>1.036080e+06</td>\n",
       "      <td>1101256068</td>\n",
       "      <td>13</td>\n",
       "      <td>15</td>\n",
       "    </tr>\n",
       "  </tbody>\n",
       "</table>\n",
       "<p>34686 rows × 24 columns</p>\n",
       "</div>"
      ],
      "text/plain": [
       "       bodyType  brand                                            car_url  \\\n",
       "0             1      0  https://auto.ru/cars/used/sale/audi/e_tron/110...   \n",
       "1            23      1  https://auto.ru/cars/used/sale/bmw/i3/11010431...   \n",
       "2            23      1  https://auto.ru/cars/used/sale/bmw/i3/11012780...   \n",
       "3            23      1  https://auto.ru/cars/used/sale/bmw/i3/11002716...   \n",
       "4            23      1  https://auto.ru/cars/used/sale/bmw/i3/11011745...   \n",
       "...         ...    ...                                                ...   \n",
       "34763        15      1  https://auto.ru/cars/used/sale/bmw/3er/1101369...   \n",
       "34764        15      1  https://auto.ru/cars/used/sale/bmw/5er/1101369...   \n",
       "34765        15      1  https://auto.ru/cars/used/sale/bmw/5er/1101364...   \n",
       "34766         1      1  https://auto.ru/cars/used/sale/bmw/x1/11013625...   \n",
       "34767         1      1  https://auto.ru/cars/used/sale/bmw/x5/11012560...   \n",
       "\n",
       "       color  description_length  engineDisplacement  enginePower  fuelType  \\\n",
       "0          1                1456                 0.0        408.0         4   \n",
       "1         13                 125                 0.0        170.0         4   \n",
       "2         12                1422                 0.0        170.0         4   \n",
       "3          1                2681                 0.0        170.0         4   \n",
       "4         15                 740                 0.0        170.0         4   \n",
       "...      ...                 ...                 ...          ...       ...   \n",
       "34763      6                 414                 1.6        136.0         0   \n",
       "34764     15                  30                 2.0        190.0         3   \n",
       "34765     12                  17                 2.5        170.0         0   \n",
       "34766      6                 596                 2.0        184.0         3   \n",
       "34767     15                 511                 3.0        235.0         3   \n",
       "\n",
       "       image  mileage  ...  vehicleTransmission  Владельцы  ПТС  Привод  Руль  \\\n",
       "0          1      885  ...                    0          0    1       2     0   \n",
       "1          1    32000  ...                    0          0    1       0     0   \n",
       "2          1    51000  ...                    0          0    1       0     0   \n",
       "3          1    25000  ...                    0          0    1       0     0   \n",
       "4          1    58500  ...                    0          0    1       0     0   \n",
       "...      ...      ...  ...                  ...        ...  ...     ...   ...   \n",
       "34763      1   115000  ...                    0          2    1       0     0   \n",
       "34764      1    98000  ...                    0          0    1       2     0   \n",
       "34765      1   360000  ...                    0          2    0       0     0   \n",
       "34766      1    90500  ...                    0          1    1       2     0   \n",
       "34767      1   240000  ...                    0          2    1       2     0   \n",
       "\n",
       "       Состояние         price     sell_id  car_age  model_age  \n",
       "0              0  7.324612e+06  1101083243        2          3  \n",
       "1              0  2.482559e+06  1101043134        3          4  \n",
       "2              0  1.691998e+06  1101278018        7          8  \n",
       "3              0  2.533572e+06  1100271628        3          4  \n",
       "4              0  2.061748e+06  1101174554        4          8  \n",
       "...          ...           ...         ...      ...        ...  \n",
       "34763          0  1.024826e+06  1101369263        7         10  \n",
       "34764          0  2.386268e+06  1101369581        3          5  \n",
       "34765          0  2.533220e+05  1101364889       24         26  \n",
       "34766          0  1.516419e+06  1101362518        8          9  \n",
       "34767          0  1.036080e+06  1101256068       13         15  \n",
       "\n",
       "[34686 rows x 24 columns]"
      ]
     },
     "execution_count": 187,
     "metadata": {},
     "output_type": "execute_result"
    }
   ],
   "source": [
    "test"
   ]
  },
  {
   "cell_type": "code",
   "execution_count": 188,
   "metadata": {},
   "outputs": [
    {
     "data": {
      "text/html": [
       "<div>\n",
       "<style scoped>\n",
       "    .dataframe tbody tr th:only-of-type {\n",
       "        vertical-align: middle;\n",
       "    }\n",
       "\n",
       "    .dataframe tbody tr th {\n",
       "        vertical-align: top;\n",
       "    }\n",
       "\n",
       "    .dataframe thead th {\n",
       "        text-align: right;\n",
       "    }\n",
       "</style>\n",
       "<table border=\"1\" class=\"dataframe\">\n",
       "  <thead>\n",
       "    <tr style=\"text-align: right;\">\n",
       "      <th></th>\n",
       "      <th>sell_id</th>\n",
       "      <th>price</th>\n",
       "    </tr>\n",
       "  </thead>\n",
       "  <tbody>\n",
       "    <tr>\n",
       "      <th>0</th>\n",
       "      <td>1100575026</td>\n",
       "      <td>0</td>\n",
       "    </tr>\n",
       "    <tr>\n",
       "      <th>1</th>\n",
       "      <td>1100549428</td>\n",
       "      <td>0</td>\n",
       "    </tr>\n",
       "    <tr>\n",
       "      <th>2</th>\n",
       "      <td>1100658222</td>\n",
       "      <td>0</td>\n",
       "    </tr>\n",
       "    <tr>\n",
       "      <th>3</th>\n",
       "      <td>1100937408</td>\n",
       "      <td>0</td>\n",
       "    </tr>\n",
       "    <tr>\n",
       "      <th>4</th>\n",
       "      <td>1101037972</td>\n",
       "      <td>0</td>\n",
       "    </tr>\n",
       "    <tr>\n",
       "      <th>...</th>\n",
       "      <td>...</td>\n",
       "      <td>...</td>\n",
       "    </tr>\n",
       "    <tr>\n",
       "      <th>34681</th>\n",
       "      <td>1101369263</td>\n",
       "      <td>0</td>\n",
       "    </tr>\n",
       "    <tr>\n",
       "      <th>34682</th>\n",
       "      <td>1101369581</td>\n",
       "      <td>0</td>\n",
       "    </tr>\n",
       "    <tr>\n",
       "      <th>34683</th>\n",
       "      <td>1101364889</td>\n",
       "      <td>0</td>\n",
       "    </tr>\n",
       "    <tr>\n",
       "      <th>34684</th>\n",
       "      <td>1101362518</td>\n",
       "      <td>0</td>\n",
       "    </tr>\n",
       "    <tr>\n",
       "      <th>34685</th>\n",
       "      <td>1101256068</td>\n",
       "      <td>0</td>\n",
       "    </tr>\n",
       "  </tbody>\n",
       "</table>\n",
       "<p>34686 rows × 2 columns</p>\n",
       "</div>"
      ],
      "text/plain": [
       "          sell_id  price\n",
       "0      1100575026      0\n",
       "1      1100549428      0\n",
       "2      1100658222      0\n",
       "3      1100937408      0\n",
       "4      1101037972      0\n",
       "...           ...    ...\n",
       "34681  1101369263      0\n",
       "34682  1101369581      0\n",
       "34683  1101364889      0\n",
       "34684  1101362518      0\n",
       "34685  1101256068      0\n",
       "\n",
       "[34686 rows x 2 columns]"
      ]
     },
     "execution_count": 188,
     "metadata": {},
     "output_type": "execute_result"
    }
   ],
   "source": [
    "sample_submission"
   ]
  },
  {
   "cell_type": "code",
   "execution_count": 189,
   "metadata": {},
   "outputs": [],
   "source": [
    "sample_submission['price'] = test['price'] # Запишем вычисленные цены в столбец sample_submission['price']."
   ]
  },
  {
   "cell_type": "code",
   "execution_count": 190,
   "metadata": {},
   "outputs": [],
   "source": [
    "submission = sample_submission # Запишем полученный датасет в переменную submission."
   ]
  },
  {
   "cell_type": "code",
   "execution_count": 191,
   "metadata": {},
   "outputs": [],
   "source": [
    "# Запишем датасет submission в файл submission.csv.\n",
    "submission.to_csv('D:\\Data Scientist_Skill Factory\\Folders with data/Unit_7/Project/submission.csv')"
   ]
  }
 ],
 "metadata": {
  "kernelspec": {
   "display_name": "Python 3",
   "language": "python",
   "name": "python3"
  },
  "language_info": {
   "codemirror_mode": {
    "name": "ipython",
    "version": 3
   },
   "file_extension": ".py",
   "mimetype": "text/x-python",
   "name": "python",
   "nbconvert_exporter": "python",
   "pygments_lexer": "ipython3",
   "version": "3.8.5"
  }
 },
 "nbformat": 4,
 "nbformat_minor": 4
}
