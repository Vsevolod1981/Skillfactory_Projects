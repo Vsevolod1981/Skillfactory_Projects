{
 "cells": [
  {
   "cell_type": "markdown",
   "metadata": {},
   "source": [
    "# Наша задача:\n",
    "\n",
    "## На основании информации из базы данных dst_project составить датасет, содержащий данные необходимые для оценки прибыльности рейсов из Анапы в зимнее время. После анализа этих данных руководство примет решение от каких малоприбыльных рейсов можно отказаться.\n",
    "\n",
    "## Перед тем как формировать датасет, ответим на некоторые контрольные вопросы, чтобы было понятно правильный мы сформировали датасет или нет."
   ]
  },
  {
   "cell_type": "markdown",
   "metadata": {},
   "source": [
    "## Вопрос 1. Какой период анализируем?"
   ]
  },
  {
   "cell_type": "markdown",
   "metadata": {},
   "source": [
    "### Когда был выполнен самый ранний рейс из Анапы, информация о котором есть в базе данных? Введем в Metabase код:"
   ]
  },
  {
   "cell_type": "code",
   "execution_count": null,
   "metadata": {},
   "outputs": [],
   "source": [
    "select\n",
    "   flt.scheduled_departure\n",
    "from\n",
    "    dst_project.flights flt\n",
    "where flt.departure_airport = 'AAQ'\n",
    "order by flt.scheduled_departure\n",
    "limit 1"
   ]
  },
  {
   "cell_type": "markdown",
   "metadata": {},
   "source": [
    "### Получим ответ: 15 августа 2016 года в 9:25 утра."
   ]
  },
  {
   "cell_type": "markdown",
   "metadata": {},
   "source": [
    "### Когда был выполнен самый поздний рейс из Анапы, информация о котором есть в базе данных? Введем в Metabase код:"
   ]
  },
  {
   "cell_type": "code",
   "execution_count": null,
   "metadata": {},
   "outputs": [],
   "source": [
    "select\n",
    "   flt.scheduled_departure\n",
    "from\n",
    "    dst_project.flights flt\n",
    "where flt.departure_airport = 'AAQ'\n",
    "order by flt.scheduled_departure desc\n",
    "limit 1"
   ]
  },
  {
   "cell_type": "markdown",
   "metadata": {},
   "source": [
    "### Получим ответ: 14 сентября 2017 года в 10:05 утра."
   ]
  },
  {
   "cell_type": "markdown",
   "metadata": {},
   "source": [
    "## Ответ: Раз база данных dst_project содержит информацию о рейсах из Анапы в период с 15 августа 2016 года по 14 сентября 2017 года, а нам интересен зимний период, то логично взять в работу период с 1 декабря 2016 года по 28 февраля 2017 года."
   ]
  },
  {
   "cell_type": "markdown",
   "metadata": {},
   "source": [
    "## Вопрос 2. Сколько вылетело рейсов из Анапы в период с 1 декабря 2016 года по 28 февраля 2017 года? Какие модели самолетов выполняли эти рейсы?"
   ]
  },
  {
   "cell_type": "markdown",
   "metadata": {},
   "source": [
    "### Введем в Metabase код:"
   ]
  },
  {
   "cell_type": "code",
   "execution_count": null,
   "metadata": {},
   "outputs": [],
   "source": [
    "select\n",
    "    acft.model,\n",
    "    count(flt.flight_id)\n",
    "from\n",
    "    dst_project.flights flt\n",
    "    join dst_project.aircrafts acft on flt.aircraft_code = acft.aircraft_code\n",
    "where flt.departure_airport = 'AAQ' and\n",
    "flt.scheduled_departure::text between '2016-12-01 00:00:00+00' and '2017-02-28 23:59:59+00'\n",
    "group by acft.model"
   ]
  },
  {
   "cell_type": "markdown",
   "metadata": {},
   "source": [
    "## Ответ: 193 рейса. Из них 103 рейса выполнены самолетами Boeing 737-300, а 90 самолетами Sukhoi Superjet-100."
   ]
  },
  {
   "cell_type": "markdown",
   "metadata": {},
   "source": [
    "## Вопрос 3. Сколько всего посадочных мест различных классов обслуживания в самолетах моделей Boeing 737-300 и Sukhoi Superjet-100? Какое максимальное количество пассажиров различных классов обслуживания могло быть перевезено на этих рейсах?"
   ]
  },
  {
   "cell_type": "markdown",
   "metadata": {},
   "source": [
    "### Введем в Metabase код:"
   ]
  },
  {
   "cell_type": "code",
   "execution_count": null,
   "metadata": {},
   "outputs": [],
   "source": [
    "select\n",
    "s.fare_conditions,\n",
    "count(s.seat_no)\n",
    "from\n",
    "    dst_project.aircrafts acft join dst_project.seats s on acft.aircraft_code = s.aircraft_code\n",
    "where acft.model = 'Boeing 737-300'\n",
    "group by s.fare_conditions"
   ]
  },
  {
   "cell_type": "markdown",
   "metadata": {},
   "source": [
    "### Введем в Metabase код:"
   ]
  },
  {
   "cell_type": "code",
   "execution_count": null,
   "metadata": {},
   "outputs": [],
   "source": [
    "select\n",
    "s.fare_conditions,\n",
    "count(s.seat_no)\n",
    "from\n",
    "    dst_project.aircrafts acft join dst_project.seats s on acft.aircraft_code = s.aircraft_code\n",
    "where acft.model = 'Sukhoi Superjet-100'\n",
    "group by s.fare_conditions"
   ]
  },
  {
   "cell_type": "markdown",
   "metadata": {},
   "source": [
    "## Ответ: в самолете модели Boeing 737-300 12 мест бизнес-класса и 118 мест эконом-класса, а в самолете модели Sukhoi Superjet-100 12 мест бизнес-класса и 85 мест эконом-класса. Таким образом эти рейсы могли перевезти 2316 пассажиров бизнес-класса и 19804 пассажиров эконом класса, всего 22120 пассажиров."
   ]
  },
  {
   "cell_type": "markdown",
   "metadata": {},
   "source": [
    "## Вопрос 4. Сколько было продано билетов различных классов обслуживания на эти 193 рейса? Речь о рейсах из Анапы в период с 1 декабря 2016 года по 28 февраля 2017 года. "
   ]
  },
  {
   "cell_type": "markdown",
   "metadata": {},
   "source": [
    "### Введем в Metabase код:"
   ]
  },
  {
   "cell_type": "code",
   "execution_count": null,
   "metadata": {},
   "outputs": [],
   "source": [
    "select\n",
    "    tckt_flt.fare_conditions,\n",
    "    count(tckt_flt.ticket_no)\n",
    "from\n",
    "    dst_project.flights flt\n",
    "    join dst_project.ticket_flights tckt_flt on flt.flight_id = tckt_flt.flight_id\n",
    "where flt.departure_airport = 'AAQ' and\n",
    "flt.scheduled_departure::text between '2016-12-01 00:00:00+00' and '2017-02-28 23:59:59+00'\n",
    "group by tckt_flt.fare_conditions"
   ]
  },
  {
   "cell_type": "markdown",
   "metadata": {},
   "source": [
    "## Ответ: 1945 билетов бизнес-класса и 16406 билетов эконом-класса. Всего 18351 билет."
   ]
  },
  {
   "cell_type": "markdown",
   "metadata": {},
   "source": [
    "## Вопрос 5. Сколько пассажиров этих 193-х рейсов поднялось на борт?"
   ]
  },
  {
   "cell_type": "markdown",
   "metadata": {},
   "source": [
    "### Введем в Metabase код:"
   ]
  },
  {
   "cell_type": "code",
   "execution_count": null,
   "metadata": {},
   "outputs": [],
   "source": [
    "select\n",
    "    count(a.boarding_no)\n",
    "from\n",
    "    (\n",
    "    select\n",
    "        tckt_flt.ticket_no,\n",
    "        tckt_flt.flight_id,\n",
    "        tckt.passenger_id,\n",
    "        brd.boarding_no\n",
    "    from\n",
    "        dst_project.ticket_flights tckt_flt\n",
    "        join dst_project.tickets tckt on tckt_flt.ticket_no = tckt.ticket_no\n",
    "        left join dst_project.boarding_passes brd on (tckt_flt.ticket_no, tckt_flt.flight_id) = (brd.ticket_no, brd.flight_id)\n",
    "    ) a \n",
    "    join dst_project. flights flt on a.flight_id = flt.flight_id\n",
    "where flt.departure_airport = 'AAQ' and\n",
    "flt.scheduled_departure::text between '2016-12-01 00:00:00+00' and '2017-02-28 23:59:59+00'"
   ]
  },
  {
   "cell_type": "markdown",
   "metadata": {},
   "source": [
    "## Ответ: 18351 пассажир. Совпадает с числом купленных билетов. Ситуаций, когда билет оплачен, а пассажир не полетел не было."
   ]
  },
  {
   "cell_type": "markdown",
   "metadata": {},
   "source": [
    "# Зная ответы на перечисленные выше вопросы мы сможем проверить извлеченный нами из базы данных датасет."
   ]
  },
  {
   "cell_type": "markdown",
   "metadata": {},
   "source": [
    "# ИМЕННО ЭТОТ КОД ИЗВЛЕКАЕТ ИЗ БАЗЫ ДАННЫХ СВОДНУЮ ТАБЛИЦУ!\n",
    "## Код для формирования датасета из базы данных dst_project:"
   ]
  },
  {
   "cell_type": "code",
   "execution_count": null,
   "metadata": {},
   "outputs": [],
   "source": [
    "select /*перечисляем нужные нам столбцы*/\n",
    "    c.ticket_no,\n",
    "    c.flight_id,\n",
    "    c.flight_no,\n",
    "    c.scheduled_departure::text,\n",
    "    (c.actual_arrival-c.actual_departure)::text duration,\n",
    "    c.status,\n",
    "    c.seat_no,\n",
    "    c.boarding_no,\n",
    "    c.amount,\n",
    "    c.fare_conditions,\n",
    "    c.model,\n",
    "    c.departure_airport,\n",
    "    c.arrival_airport,\n",
    "    aprt.airport_name,\n",
    "    aprt.city,\n",
    "    aprt.longitude,\n",
    "    aprt.latitude\n",
    "    \n",
    "from\n",
    "    (\n",
    "    select /*оставляем только интересные нам столбцы*/\n",
    "        b.ticket_no,\n",
    "        b.flight_id,\n",
    "        b.fare_conditions,\n",
    "        b.amount,\n",
    "        b.seat_no,\n",
    "        b.boarding_no,\n",
    "        b.passenger_id,\n",
    "        b.flight_no,\n",
    "        b.scheduled_departure,\n",
    "        b.scheduled_arrival,\n",
    "        b.departure_airport,\n",
    "        b.arrival_airport,\n",
    "        b.status,\n",
    "        b.aircraft_code,\n",
    "        b.actual_departure,\n",
    "        b.actual_arrival,\n",
    "        acft.model\n",
    "    from\n",
    "        (\n",
    "        select /*оставляем только интересные нам столбцы*/\n",
    "            a.ticket_no,\n",
    "            a.flight_id,\n",
    "            a.fare_conditions,\n",
    "            a.amount,\n",
    "            a.seat_no,\n",
    "            a.boarding_no,\n",
    "            a.passenger_id,\n",
    "            flt.flight_no,\n",
    "            flt.scheduled_departure,\n",
    "            flt.scheduled_arrival,\n",
    "            flt.departure_airport,\n",
    "            flt.arrival_airport,\n",
    "            flt.status,\n",
    "            flt.aircraft_code,\n",
    "            flt.actual_departure,\n",
    "            flt.actual_arrival\n",
    "        from\n",
    "            (\n",
    "            select /*оставляем только интересные нам столбцы*/\n",
    "                tckt_flt.ticket_no,\n",
    "                tckt_flt.flight_id,\n",
    "                tckt_flt.fare_conditions,\n",
    "                tckt_flt.amount,\n",
    "                brd.seat_no,\n",
    "                brd.boarding_no,\n",
    "                tckt.passenger_id\n",
    "            from\n",
    "                dst_project.ticket_flights tckt_flt\n",
    "                join dst_project.tickets tckt on tckt_flt.ticket_no = tckt.ticket_no\n",
    "                left join dst_project.boarding_passes brd on (tckt_flt.ticket_no, tckt_flt.flight_id) = (brd.ticket_no, brd.flight_id)\n",
    "            ) a \n",
    "            join dst_project.flights flt on a.flight_id = flt.flight_id\n",
    "        ) b \n",
    "        join dst_project.aircrafts acft on b.aircraft_code = acft.aircraft_code\n",
    "    ) c \n",
    "    join dst_project.airports aprt on c.arrival_airport = aprt.airport_code\n",
    "/*Используем четырехкратный select from select для формирования нужного нам сводного датасета. К dst_project.ticket_flights\n",
    "присоединяем dst_project.tickets по ticket_no, затем dst_project.boarding_passes по уникальной комбинации ticket_no и \n",
    "flight_id. Затем оставляем только интересные нам столбцы. После этого присоединяем dst_project.flights по flight_id.\n",
    "Затем оставляем только интересные нам столбцы. После этого присоединяем dst_project.aircrafts по aircraft_code.\n",
    "Затем оставляем только интересные нам столбцы. После этого присоединяем dst_project.airports по arrival_airport и\n",
    "aprt.airport_code*/    \n",
    "where /*Фильтруем по аэропорту вылета (Анапа) и периоду (1 декабря 2016 - 28 февраля 2017)*/\n",
    "    c.departure_airport = 'AAQ' and\n",
    "    c.scheduled_departure::text between '2016-12-01 00:00:00+00' and '2017-02-28 23:59:59+00'"
   ]
  },
  {
   "cell_type": "markdown",
   "metadata": {},
   "source": [
    "## Для контроля правильности кода ответим заново на вопросы 2, 4 и 5 используя данные извлеченные этим кодом."
   ]
  },
  {
   "cell_type": "markdown",
   "metadata": {},
   "source": [
    "## Вопрос 2. Сколько вылетело рейсов из Анапы в период с 1 декабря 2016 года по 28 февраля 2017 года? Какие модели самолетов выполняли эти рейсы?"
   ]
  },
  {
   "cell_type": "markdown",
   "metadata": {},
   "source": [
    "### Введем в Metabase код:"
   ]
  },
  {
   "cell_type": "code",
   "execution_count": null,
   "metadata": {},
   "outputs": [],
   "source": [
    "select /*перечисляем нужные нам столбцы*/\n",
    "    c.model,\n",
    "    count(distinct c.flight_id)\n",
    "from\n",
    "    (\n",
    "    select /*оставляем только интересные нам столбцы*/\n",
    "        b.ticket_no,\n",
    "        b.flight_id,\n",
    "        b.fare_conditions,\n",
    "        b.amount,\n",
    "        b.seat_no,\n",
    "        b.boarding_no,\n",
    "        b.passenger_id,\n",
    "        b.flight_no,\n",
    "        b.scheduled_departure,\n",
    "        b.scheduled_arrival,\n",
    "        b.departure_airport,\n",
    "        b.arrival_airport,\n",
    "        b.status,\n",
    "        b.aircraft_code,\n",
    "        b.actual_departure,\n",
    "        b.actual_arrival,\n",
    "        acft.model\n",
    "    from\n",
    "        (\n",
    "        select /*оставляем только интересные нам столбцы*/\n",
    "            a.ticket_no,\n",
    "            a.flight_id,\n",
    "            a.fare_conditions,\n",
    "            a.amount,\n",
    "            a.seat_no,\n",
    "            a.boarding_no,\n",
    "            a.passenger_id,\n",
    "            flt.flight_no,\n",
    "            flt.scheduled_departure,\n",
    "            flt.scheduled_arrival,\n",
    "            flt.departure_airport,\n",
    "            flt.arrival_airport,\n",
    "            flt.status,\n",
    "            flt.aircraft_code,\n",
    "            flt.actual_departure,\n",
    "            flt.actual_arrival\n",
    "        from\n",
    "            (\n",
    "            select /*оставляем только интересные нам столбцы*/\n",
    "                tckt_flt.ticket_no,\n",
    "                tckt_flt.flight_id,\n",
    "                tckt_flt.fare_conditions,\n",
    "                tckt_flt.amount,\n",
    "                brd.seat_no,\n",
    "                brd.boarding_no,\n",
    "                tckt.passenger_id\n",
    "            from\n",
    "                dst_project.ticket_flights tckt_flt\n",
    "                join dst_project.tickets tckt on tckt_flt.ticket_no = tckt.ticket_no\n",
    "                left join dst_project.boarding_passes brd on (tckt_flt.ticket_no, tckt_flt.flight_id) = (brd.ticket_no, brd.flight_id)\n",
    "            ) a \n",
    "            join dst_project.flights flt on a.flight_id = flt.flight_id\n",
    "        ) b \n",
    "        join dst_project.aircrafts acft on b.aircraft_code = acft.aircraft_code\n",
    "    ) c \n",
    "    join dst_project.airports aprt on c.arrival_airport = aprt.airport_code\n",
    "/*Используем четырехкратный select from select для формирования нужного нам сводного датасета. К dst_project.ticket_flights\n",
    "присоединяем dst_project.tickets по ticket_no, затем dst_project.boarding_passes по уникальной комбинации ticket_no и \n",
    "flight_id. Затем оставляем только интересные нам столбцы. После этого присоединяем dst_project.flights по flight_id.\n",
    "Затем оставляем только интересные нам столбцы. После этого присоединяем dst_project.aircrafts по aircraft_code.\n",
    "Затем оставляем только интересные нам столбцы. После этого присоединяем dst_project.airports по arrival_airport и\n",
    "aprt.airport_code*/    \n",
    "where /*Фильтруем по аэропорту вылета (Анапа) и периоду (1 декабря 2016 - 28 февраля 2017)*/\n",
    "    c.departure_airport = 'AAQ' and\n",
    "    c.scheduled_departure::text between '2016-12-01 00:00:00+00' and '2017-02-28 23:59:59+00'\n",
    "group by c.model /*Группируем по модели самолета*/"
   ]
  },
  {
   "cell_type": "markdown",
   "metadata": {},
   "source": [
    "## Ответ: 180 рейсов. Из них 90 рейсов выполнены самолетами Boeing 737-300, а 90 самолетами Sukhoi Superjet-100.\n",
    "Ответ нас удивил. Ведь в запросе к оригинальной базе данных мы получили ответ 193 рейса. Из них 103 рейса выполнены самолетами Boeing 737-300, а 90 самолетами Sukhoi Superjet-100. Куда подевались 13 рейсов выполненных самолетами Boeing 737-300? Чтобы понять правильный мы используем код для извлечения сводной таблицы из базы данных или нет необходимо понять, что это за рейсы, которые мы упустили."
   ]
  },
  {
   "cell_type": "markdown",
   "metadata": {},
   "source": [
    "### Введем в Metabase код:"
   ]
  },
  {
   "cell_type": "code",
   "execution_count": null,
   "metadata": {},
   "outputs": [],
   "source": [
    "/*Запрос выводит список 193-х рейсов из Анапы в период с 1 декабря 2016 по 28 февраля 2017*/\n",
    "(\n",
    "select\n",
    "    flt.flight_id\n",
    "from\n",
    "    dst_project.flights flt\n",
    "    join dst_project.aircrafts acft on flt.aircraft_code = acft.aircraft_code\n",
    "where flt.departure_airport = 'AAQ' and\n",
    "flt.scheduled_departure::text between '2016-12-01 00:00:00+00' and '2017-02-28 23:59:59+00'\n",
    ")\n",
    "except /*Исключаем из результата верхнего запроса результат нижнего получим список пропавших 13-ти рейсов*/\n",
    "/*Запрос выводит список 180-х рейсов из Анапы в период с 1 декабря 2016 по 28 февраля 2017*/\n",
    "(\n",
    "select /*перечисляем нужные нам столбцы*/\n",
    "    distinct c.flight_id\n",
    "from\n",
    "    (\n",
    "    select /*оставляем только интересные нам столбцы*/\n",
    "        b.ticket_no,\n",
    "        b.flight_id,\n",
    "        b.fare_conditions,\n",
    "        b.amount,\n",
    "        b.seat_no,\n",
    "        b.boarding_no,\n",
    "        b.passenger_id,\n",
    "        b.flight_no,\n",
    "        b.scheduled_departure,\n",
    "        b.scheduled_arrival,\n",
    "        b.departure_airport,\n",
    "        b.arrival_airport,\n",
    "        b.status,\n",
    "        b.aircraft_code,\n",
    "        b.actual_departure,\n",
    "        b.actual_arrival,\n",
    "        acft.model\n",
    "    from\n",
    "        (\n",
    "        select /*оставляем только интересные нам столбцы*/\n",
    "            a.ticket_no,\n",
    "            a.flight_id,\n",
    "            a.fare_conditions,\n",
    "            a.amount,\n",
    "            a.seat_no,\n",
    "            a.boarding_no,\n",
    "            a.passenger_id,\n",
    "            flt.flight_no,\n",
    "            flt.scheduled_departure,\n",
    "            flt.scheduled_arrival,\n",
    "            flt.departure_airport,\n",
    "            flt.arrival_airport,\n",
    "            flt.status,\n",
    "            flt.aircraft_code,\n",
    "            flt.actual_departure,\n",
    "            flt.actual_arrival\n",
    "        from\n",
    "            (\n",
    "            select /*оставляем только интересные нам столбцы*/\n",
    "                tckt_flt.ticket_no,\n",
    "                tckt_flt.flight_id,\n",
    "                tckt_flt.fare_conditions,\n",
    "                tckt_flt.amount,\n",
    "                brd.seat_no,\n",
    "                brd.boarding_no,\n",
    "                tckt.passenger_id\n",
    "            from\n",
    "                dst_project.ticket_flights tckt_flt\n",
    "                join dst_project.tickets tckt on tckt_flt.ticket_no = tckt.ticket_no\n",
    "                left join dst_project.boarding_passes brd on (tckt_flt.ticket_no, tckt_flt.flight_id) = (brd.ticket_no, brd.flight_id)\n",
    "            ) a \n",
    "            join dst_project.flights flt on a.flight_id = flt.flight_id\n",
    "        ) b \n",
    "        join dst_project.aircrafts acft on b.aircraft_code = acft.aircraft_code\n",
    "    ) c \n",
    "    join dst_project.airports aprt on c.arrival_airport = aprt.airport_code\n",
    "/*Используем четырехкратный select from select для формирования нужного нам сводного датасета. К dst_project.ticket_flights\n",
    "присоединяем dst_project.tickets по ticket_no, затем dst_project.boarding_passes по уникальной комбинации ticket_no и \n",
    "flight_id. Затем оставляем только интересные нам столбцы. После этого присоединяем dst_project.flights по flight_id.\n",
    "Затем оставляем только интересные нам столбцы. После этого присоединяем dst_project.aircrafts по aircraft_code.\n",
    "Затем оставляем только интересные нам столбцы. После этого присоединяем dst_project.airports по arrival_airport и\n",
    "aprt.airport_code*/    \n",
    "where /*Фильтруем по аэропорту вылета (Анапа) и периоду (1 декабря 2016 - 28 февраля 2017)*/\n",
    "    c.departure_airport = 'AAQ' and\n",
    "    c.scheduled_departure::text between '2016-12-01 00:00:00+00' and '2017-02-28 23:59:59+00'\n",
    ")"
   ]
  },
  {
   "cell_type": "markdown",
   "metadata": {},
   "source": [
    "### Получили список из 13-ти рейсов с flight_id: 136534, 136544, 136560, 136518, 136514, 136511, 136513, 136523, 136533, 136567, 136546, 136564, 136540. Попробуем узнать про эти рейсы больше:"
   ]
  },
  {
   "cell_type": "markdown",
   "metadata": {},
   "source": [
    "### Введем в Metabase код:"
   ]
  },
  {
   "cell_type": "code",
   "execution_count": null,
   "metadata": {},
   "outputs": [],
   "source": [
    "select\n",
    "    *\n",
    "from dst_project.flights flt\n",
    "where flt.flight_id = '136534' or flt.flight_id = '136544' or flt.flight_id = '136560' or flt.flight_id = '136518' or flt.flight_id = '136514' or flt.flight_id = '136511'\n",
    "or flt.flight_id = '136513' or flt.flight_id = '136523' or flt.flight_id = '136533' or flt.flight_id = '136567' or flt.flight_id = '136546' or flt.flight_id = '136564'\n",
    "or flt.flight_id = '136540'"
   ]
  },
  {
   "cell_type": "markdown",
   "metadata": {},
   "source": [
    "### Видим, что все 13 рейсов выполняют маршрут PG0194 Анапа-Новокузнецк. Попробуем узнать сколько было продано билетов и сколько пассажиров поднялось на борт самолета на этот маршрут за все время."
   ]
  },
  {
   "cell_type": "markdown",
   "metadata": {},
   "source": [
    "### Введем в Metabase код:"
   ]
  },
  {
   "cell_type": "code",
   "execution_count": null,
   "metadata": {},
   "outputs": [],
   "source": [
    "select\n",
    "    count(a.ticket_no),\n",
    "    count(boarding_no)\n",
    "from\n",
    "    (\n",
    "    select\n",
    "        tckt_flt.ticket_no,\n",
    "        tckt_flt.flight_id,\n",
    "        brd.boarding_no\n",
    "    from\n",
    "        dst_project.ticket_flights tckt_flt\n",
    "        join dst_project.boarding_passes brd on (tckt_flt.ticket_no, tckt_flt.flight_id) = (brd.ticket_no, brd.flight_id)\n",
    "        join dst_project.tickets tckt on tckt_flt.ticket_no = tckt.ticket_no\n",
    "    ) a \n",
    "    join dst_project.flights flt on a.flight_id = flt.flight_id\n",
    "where flt.flight_no = 'PG0194'"
   ]
  },
  {
   "cell_type": "markdown",
   "metadata": {},
   "source": [
    "### Из получившегося результата следует что за все время, что ведется база данных на маршрут PG0194 Анапа-Новокузнецк не было продано ни одного билета и не было перевезено ни одного пассажира. Ситуация странная, скорее всего база данных не заполнена на этом маршруте. Не думаю что авиакомпания стала бы гонять рейсы порожняком. Становится понятным, почему в сводной таблице получилось 180 рейсов, а не 193, как в базе данных. Ведь мы формировали сводную таблицу начав плясать от dst_project.ticket_flights, формируя ее по номерам билетов. Таким образом рейсы, на которые не было продано ни одного билета в нее не попали. Но эти рейсы и нет смысла брать в работу, так как по ним у нас явный пробел в информации. Продолжаем проверять нашу сводную таблицу дальше. Ответим на вопросы 4 и 5."
   ]
  },
  {
   "cell_type": "markdown",
   "metadata": {},
   "source": [
    "## Вопрос 4. Сколько было продано билетов различных классов обслуживания на эти 180 (а не 193)? Речь о рейсах из Анапы в период с 1 декабря 2016 года по 28 февраля 2017 года. \n",
    "## Вопрос 5. Сколько пассажиров этих 180 (а не 193-х) рейсов поднялось на борт?"
   ]
  },
  {
   "cell_type": "markdown",
   "metadata": {},
   "source": [
    "### Введем в Metabase код:"
   ]
  },
  {
   "cell_type": "code",
   "execution_count": null,
   "metadata": {},
   "outputs": [],
   "source": [
    "select /*перечисляем нужные нам столбцы*/\n",
    "    count(c.ticket_no),\n",
    "    count(c.boarding_no)\n",
    "    \n",
    "from\n",
    "    (\n",
    "    select /*оставляем только интересные нам столбцы*/\n",
    "        b.ticket_no,\n",
    "        b.flight_id,\n",
    "        b.fare_conditions,\n",
    "        b.amount,\n",
    "        b.seat_no,\n",
    "        b.boarding_no,\n",
    "        b.passenger_id,\n",
    "        b.flight_no,\n",
    "        b.scheduled_departure,\n",
    "        b.scheduled_arrival,\n",
    "        b.departure_airport,\n",
    "        b.arrival_airport,\n",
    "        b.status,\n",
    "        b.aircraft_code,\n",
    "        b.actual_departure,\n",
    "        b.actual_arrival,\n",
    "        acft.model\n",
    "    from\n",
    "        (\n",
    "        select /*оставляем только интересные нам столбцы*/\n",
    "            a.ticket_no,\n",
    "            a.flight_id,\n",
    "            a.fare_conditions,\n",
    "            a.amount,\n",
    "            a.seat_no,\n",
    "            a.boarding_no,\n",
    "            a.passenger_id,\n",
    "            flt.flight_no,\n",
    "            flt.scheduled_departure,\n",
    "            flt.scheduled_arrival,\n",
    "            flt.departure_airport,\n",
    "            flt.arrival_airport,\n",
    "            flt.status,\n",
    "            flt.aircraft_code,\n",
    "            flt.actual_departure,\n",
    "            flt.actual_arrival\n",
    "        from\n",
    "            (\n",
    "            select /*оставляем только интересные нам столбцы*/\n",
    "                tckt_flt.ticket_no,\n",
    "                tckt_flt.flight_id,\n",
    "                tckt_flt.fare_conditions,\n",
    "                tckt_flt.amount,\n",
    "                brd.seat_no,\n",
    "                brd.boarding_no,\n",
    "                tckt.passenger_id\n",
    "            from\n",
    "                dst_project.ticket_flights tckt_flt\n",
    "                join dst_project.tickets tckt on tckt_flt.ticket_no = tckt.ticket_no\n",
    "                left join dst_project.boarding_passes brd on (tckt_flt.ticket_no, tckt_flt.flight_id) = (brd.ticket_no, brd.flight_id)\n",
    "            ) a \n",
    "            join dst_project.flights flt on a.flight_id = flt.flight_id\n",
    "        ) b \n",
    "        join dst_project.aircrafts acft on b.aircraft_code = acft.aircraft_code\n",
    "    ) c \n",
    "    join dst_project.airports aprt on c.arrival_airport = aprt.airport_code\n",
    "/*Используем четырехкратный select from select для формирования нужного нам сводного датасета. К dst_project.ticket_flights\n",
    "присоединяем dst_project.tickets по ticket_no, затем dst_project.boarding_passes по уникальной комбинации ticket_no и \n",
    "flight_id. Затем оставляем только интересные нам столбцы. После этого присоединяем dst_project.flights по flight_id.\n",
    "Затем оставляем только интересные нам столбцы. После этого присоединяем dst_project.aircrafts по aircraft_code.\n",
    "Затем оставляем только интересные нам столбцы. После этого присоединяем dst_project.airports по arrival_airport и\n",
    "aprt.airport_code*/    \n",
    "where /*Фильтруем по аэропорту вылета (Анапа) и периоду (1 декабря 2016 - 28 февраля 2017)*/\n",
    "    c.departure_airport = 'AAQ' and\n",
    "    c.scheduled_departure::text between '2016-12-01 00:00:00+00' and '2017-02-28 23:59:59+00'"
   ]
  },
  {
   "cell_type": "markdown",
   "metadata": {},
   "source": [
    "### Ответ: было продано 18351 билет и 18351 пассажир поднялся на борт. Таким образом данные сводной таблицы совпадают с базой данных. Значит ни один билет или пассажир не упушен и не записан в сводную таблицу многократно. Значит она правильная. Выгрузим результат запроса в файл csv."
   ]
  },
  {
   "cell_type": "markdown",
   "metadata": {},
   "source": [
    "### Далее мы будем работать в python."
   ]
  },
  {
   "cell_type": "code",
   "execution_count": 1,
   "metadata": {},
   "outputs": [
    {
     "name": "stdout",
     "output_type": "stream",
     "text": [
      "Requirement already satisfied: geopy in c:\\users\\user\\anaconda3\\lib\\site-packages (2.2.0)\n",
      "Requirement already satisfied: geographiclib<2,>=1.49 in c:\\users\\user\\anaconda3\\lib\\site-packages (from geopy) (1.52)\n"
     ]
    }
   ],
   "source": [
    "#Импортируем нужные нам библиотеки\n",
    "import pandas as pd\n",
    "!pip install geopy\n",
    "from geopy.distance import geodesic"
   ]
  },
  {
   "cell_type": "code",
   "execution_count": 2,
   "metadata": {},
   "outputs": [],
   "source": [
    "# Прочитаем файл csv с результатами sql запроса в переменную df\n",
    "df = pd.read_csv('C:\\My_Job\\Data Scientist_Skill Factory\\Folders with data/Unit_4_Project/query_result_2021-08-02T21_26_54.042483Z.csv')"
   ]
  },
  {
   "cell_type": "markdown",
   "metadata": {},
   "source": [
    "# НАШ ОРИГИНАЛЬНЫЙ ДАТАСЕТ С РЕЗУЛЬТАТАМИ SQL ЗАПРОСА.\n",
    "# ЭТО НЕ ФИНАЛЬНАЯ ВЕРСИЯ:"
   ]
  },
  {
   "cell_type": "code",
   "execution_count": 3,
   "metadata": {},
   "outputs": [
    {
     "data": {
      "text/html": [
       "<div>\n",
       "<style scoped>\n",
       "    .dataframe tbody tr th:only-of-type {\n",
       "        vertical-align: middle;\n",
       "    }\n",
       "\n",
       "    .dataframe tbody tr th {\n",
       "        vertical-align: top;\n",
       "    }\n",
       "\n",
       "    .dataframe thead th {\n",
       "        text-align: right;\n",
       "    }\n",
       "</style>\n",
       "<table border=\"1\" class=\"dataframe\">\n",
       "  <thead>\n",
       "    <tr style=\"text-align: right;\">\n",
       "      <th></th>\n",
       "      <th>ticket_no</th>\n",
       "      <th>flight_id</th>\n",
       "      <th>flight_no</th>\n",
       "      <th>scheduled_departure</th>\n",
       "      <th>duration</th>\n",
       "      <th>status</th>\n",
       "      <th>seat_no</th>\n",
       "      <th>boarding_no</th>\n",
       "      <th>amount</th>\n",
       "      <th>fare_conditions</th>\n",
       "      <th>model</th>\n",
       "      <th>departure_airport</th>\n",
       "      <th>arrival_airport</th>\n",
       "      <th>airport_name</th>\n",
       "      <th>city</th>\n",
       "      <th>longitude</th>\n",
       "      <th>latitude</th>\n",
       "    </tr>\n",
       "  </thead>\n",
       "  <tbody>\n",
       "    <tr>\n",
       "      <th>0</th>\n",
       "      <td>5432320828</td>\n",
       "      <td>136612</td>\n",
       "      <td>PG0480</td>\n",
       "      <td>2017-02-21 09:25:00+00</td>\n",
       "      <td>00:50:00</td>\n",
       "      <td>Arrived</td>\n",
       "      <td>6C</td>\n",
       "      <td>6</td>\n",
       "      <td>6900.0</td>\n",
       "      <td>Economy</td>\n",
       "      <td>Sukhoi Superjet-100</td>\n",
       "      <td>AAQ</td>\n",
       "      <td>EGO</td>\n",
       "      <td>Belgorod International Airport</td>\n",
       "      <td>Belgorod</td>\n",
       "      <td>36.590099</td>\n",
       "      <td>50.643799</td>\n",
       "    </tr>\n",
       "    <tr>\n",
       "      <th>1</th>\n",
       "      <td>5432374656</td>\n",
       "      <td>136609</td>\n",
       "      <td>PG0480</td>\n",
       "      <td>2017-01-08 09:25:00+00</td>\n",
       "      <td>00:50:00</td>\n",
       "      <td>Arrived</td>\n",
       "      <td>6C</td>\n",
       "      <td>54</td>\n",
       "      <td>6900.0</td>\n",
       "      <td>Economy</td>\n",
       "      <td>Sukhoi Superjet-100</td>\n",
       "      <td>AAQ</td>\n",
       "      <td>EGO</td>\n",
       "      <td>Belgorod International Airport</td>\n",
       "      <td>Belgorod</td>\n",
       "      <td>36.590099</td>\n",
       "      <td>50.643799</td>\n",
       "    </tr>\n",
       "    <tr>\n",
       "      <th>2</th>\n",
       "      <td>5432848786</td>\n",
       "      <td>136800</td>\n",
       "      <td>PG0480</td>\n",
       "      <td>2016-12-09 09:25:00+00</td>\n",
       "      <td>00:51:00</td>\n",
       "      <td>Arrived</td>\n",
       "      <td>6C</td>\n",
       "      <td>55</td>\n",
       "      <td>6900.0</td>\n",
       "      <td>Economy</td>\n",
       "      <td>Sukhoi Superjet-100</td>\n",
       "      <td>AAQ</td>\n",
       "      <td>EGO</td>\n",
       "      <td>Belgorod International Airport</td>\n",
       "      <td>Belgorod</td>\n",
       "      <td>36.590099</td>\n",
       "      <td>50.643799</td>\n",
       "    </tr>\n",
       "    <tr>\n",
       "      <th>3</th>\n",
       "      <td>5432376664</td>\n",
       "      <td>136844</td>\n",
       "      <td>PG0480</td>\n",
       "      <td>2017-02-28 09:25:00+00</td>\n",
       "      <td>00:50:00</td>\n",
       "      <td>Arrived</td>\n",
       "      <td>6C</td>\n",
       "      <td>78</td>\n",
       "      <td>6900.0</td>\n",
       "      <td>Economy</td>\n",
       "      <td>Sukhoi Superjet-100</td>\n",
       "      <td>AAQ</td>\n",
       "      <td>EGO</td>\n",
       "      <td>Belgorod International Airport</td>\n",
       "      <td>Belgorod</td>\n",
       "      <td>36.590099</td>\n",
       "      <td>50.643799</td>\n",
       "    </tr>\n",
       "    <tr>\n",
       "      <th>4</th>\n",
       "      <td>5432375495</td>\n",
       "      <td>136869</td>\n",
       "      <td>PG0480</td>\n",
       "      <td>2017-01-31 09:25:00+00</td>\n",
       "      <td>00:50:00</td>\n",
       "      <td>Arrived</td>\n",
       "      <td>6C</td>\n",
       "      <td>88</td>\n",
       "      <td>6900.0</td>\n",
       "      <td>Economy</td>\n",
       "      <td>Sukhoi Superjet-100</td>\n",
       "      <td>AAQ</td>\n",
       "      <td>EGO</td>\n",
       "      <td>Belgorod International Airport</td>\n",
       "      <td>Belgorod</td>\n",
       "      <td>36.590099</td>\n",
       "      <td>50.643799</td>\n",
       "    </tr>\n",
       "    <tr>\n",
       "      <th>...</th>\n",
       "      <td>...</td>\n",
       "      <td>...</td>\n",
       "      <td>...</td>\n",
       "      <td>...</td>\n",
       "      <td>...</td>\n",
       "      <td>...</td>\n",
       "      <td>...</td>\n",
       "      <td>...</td>\n",
       "      <td>...</td>\n",
       "      <td>...</td>\n",
       "      <td>...</td>\n",
       "      <td>...</td>\n",
       "      <td>...</td>\n",
       "      <td>...</td>\n",
       "      <td>...</td>\n",
       "      <td>...</td>\n",
       "      <td>...</td>\n",
       "    </tr>\n",
       "    <tr>\n",
       "      <th>18346</th>\n",
       "      <td>5432375779</td>\n",
       "      <td>136600</td>\n",
       "      <td>PG0480</td>\n",
       "      <td>2017-02-08 09:25:00+00</td>\n",
       "      <td>00:50:00</td>\n",
       "      <td>Arrived</td>\n",
       "      <td>6C</td>\n",
       "      <td>18</td>\n",
       "      <td>6900.0</td>\n",
       "      <td>Economy</td>\n",
       "      <td>Sukhoi Superjet-100</td>\n",
       "      <td>AAQ</td>\n",
       "      <td>EGO</td>\n",
       "      <td>Belgorod International Airport</td>\n",
       "      <td>Belgorod</td>\n",
       "      <td>36.590099</td>\n",
       "      <td>50.643799</td>\n",
       "    </tr>\n",
       "    <tr>\n",
       "      <th>18347</th>\n",
       "      <td>5432320217</td>\n",
       "      <td>136666</td>\n",
       "      <td>PG0480</td>\n",
       "      <td>2017-02-09 09:25:00+00</td>\n",
       "      <td>00:50:00</td>\n",
       "      <td>Arrived</td>\n",
       "      <td>6C</td>\n",
       "      <td>4</td>\n",
       "      <td>6900.0</td>\n",
       "      <td>Economy</td>\n",
       "      <td>Sukhoi Superjet-100</td>\n",
       "      <td>AAQ</td>\n",
       "      <td>EGO</td>\n",
       "      <td>Belgorod International Airport</td>\n",
       "      <td>Belgorod</td>\n",
       "      <td>36.590099</td>\n",
       "      <td>50.643799</td>\n",
       "    </tr>\n",
       "    <tr>\n",
       "      <th>18348</th>\n",
       "      <td>5432320465</td>\n",
       "      <td>136605</td>\n",
       "      <td>PG0480</td>\n",
       "      <td>2017-02-15 09:25:00+00</td>\n",
       "      <td>00:51:00</td>\n",
       "      <td>Arrived</td>\n",
       "      <td>6C</td>\n",
       "      <td>95</td>\n",
       "      <td>6900.0</td>\n",
       "      <td>Economy</td>\n",
       "      <td>Sukhoi Superjet-100</td>\n",
       "      <td>AAQ</td>\n",
       "      <td>EGO</td>\n",
       "      <td>Belgorod International Airport</td>\n",
       "      <td>Belgorod</td>\n",
       "      <td>36.590099</td>\n",
       "      <td>50.643799</td>\n",
       "    </tr>\n",
       "    <tr>\n",
       "      <th>18349</th>\n",
       "      <td>5432320534</td>\n",
       "      <td>136827</td>\n",
       "      <td>PG0480</td>\n",
       "      <td>2017-02-18 09:25:00+00</td>\n",
       "      <td>00:51:00</td>\n",
       "      <td>Arrived</td>\n",
       "      <td>6C</td>\n",
       "      <td>24</td>\n",
       "      <td>6900.0</td>\n",
       "      <td>Economy</td>\n",
       "      <td>Sukhoi Superjet-100</td>\n",
       "      <td>AAQ</td>\n",
       "      <td>EGO</td>\n",
       "      <td>Belgorod International Airport</td>\n",
       "      <td>Belgorod</td>\n",
       "      <td>36.590099</td>\n",
       "      <td>50.643799</td>\n",
       "    </tr>\n",
       "    <tr>\n",
       "      <th>18350</th>\n",
       "      <td>5432374243</td>\n",
       "      <td>136801</td>\n",
       "      <td>PG0480</td>\n",
       "      <td>2016-12-30 09:25:00+00</td>\n",
       "      <td>00:50:00</td>\n",
       "      <td>Arrived</td>\n",
       "      <td>6C</td>\n",
       "      <td>87</td>\n",
       "      <td>6900.0</td>\n",
       "      <td>Economy</td>\n",
       "      <td>Sukhoi Superjet-100</td>\n",
       "      <td>AAQ</td>\n",
       "      <td>EGO</td>\n",
       "      <td>Belgorod International Airport</td>\n",
       "      <td>Belgorod</td>\n",
       "      <td>36.590099</td>\n",
       "      <td>50.643799</td>\n",
       "    </tr>\n",
       "  </tbody>\n",
       "</table>\n",
       "<p>18351 rows × 17 columns</p>\n",
       "</div>"
      ],
      "text/plain": [
       "        ticket_no  flight_id flight_no     scheduled_departure  duration  \\\n",
       "0      5432320828     136612    PG0480  2017-02-21 09:25:00+00  00:50:00   \n",
       "1      5432374656     136609    PG0480  2017-01-08 09:25:00+00  00:50:00   \n",
       "2      5432848786     136800    PG0480  2016-12-09 09:25:00+00  00:51:00   \n",
       "3      5432376664     136844    PG0480  2017-02-28 09:25:00+00  00:50:00   \n",
       "4      5432375495     136869    PG0480  2017-01-31 09:25:00+00  00:50:00   \n",
       "...           ...        ...       ...                     ...       ...   \n",
       "18346  5432375779     136600    PG0480  2017-02-08 09:25:00+00  00:50:00   \n",
       "18347  5432320217     136666    PG0480  2017-02-09 09:25:00+00  00:50:00   \n",
       "18348  5432320465     136605    PG0480  2017-02-15 09:25:00+00  00:51:00   \n",
       "18349  5432320534     136827    PG0480  2017-02-18 09:25:00+00  00:51:00   \n",
       "18350  5432374243     136801    PG0480  2016-12-30 09:25:00+00  00:50:00   \n",
       "\n",
       "        status seat_no  boarding_no  amount fare_conditions  \\\n",
       "0      Arrived      6C            6  6900.0         Economy   \n",
       "1      Arrived      6C           54  6900.0         Economy   \n",
       "2      Arrived      6C           55  6900.0         Economy   \n",
       "3      Arrived      6C           78  6900.0         Economy   \n",
       "4      Arrived      6C           88  6900.0         Economy   \n",
       "...        ...     ...          ...     ...             ...   \n",
       "18346  Arrived      6C           18  6900.0         Economy   \n",
       "18347  Arrived      6C            4  6900.0         Economy   \n",
       "18348  Arrived      6C           95  6900.0         Economy   \n",
       "18349  Arrived      6C           24  6900.0         Economy   \n",
       "18350  Arrived      6C           87  6900.0         Economy   \n",
       "\n",
       "                     model departure_airport arrival_airport  \\\n",
       "0      Sukhoi Superjet-100               AAQ             EGO   \n",
       "1      Sukhoi Superjet-100               AAQ             EGO   \n",
       "2      Sukhoi Superjet-100               AAQ             EGO   \n",
       "3      Sukhoi Superjet-100               AAQ             EGO   \n",
       "4      Sukhoi Superjet-100               AAQ             EGO   \n",
       "...                    ...               ...             ...   \n",
       "18346  Sukhoi Superjet-100               AAQ             EGO   \n",
       "18347  Sukhoi Superjet-100               AAQ             EGO   \n",
       "18348  Sukhoi Superjet-100               AAQ             EGO   \n",
       "18349  Sukhoi Superjet-100               AAQ             EGO   \n",
       "18350  Sukhoi Superjet-100               AAQ             EGO   \n",
       "\n",
       "                         airport_name      city  longitude   latitude  \n",
       "0      Belgorod International Airport  Belgorod  36.590099  50.643799  \n",
       "1      Belgorod International Airport  Belgorod  36.590099  50.643799  \n",
       "2      Belgorod International Airport  Belgorod  36.590099  50.643799  \n",
       "3      Belgorod International Airport  Belgorod  36.590099  50.643799  \n",
       "4      Belgorod International Airport  Belgorod  36.590099  50.643799  \n",
       "...                               ...       ...        ...        ...  \n",
       "18346  Belgorod International Airport  Belgorod  36.590099  50.643799  \n",
       "18347  Belgorod International Airport  Belgorod  36.590099  50.643799  \n",
       "18348  Belgorod International Airport  Belgorod  36.590099  50.643799  \n",
       "18349  Belgorod International Airport  Belgorod  36.590099  50.643799  \n",
       "18350  Belgorod International Airport  Belgorod  36.590099  50.643799  \n",
       "\n",
       "[18351 rows x 17 columns]"
      ]
     },
     "execution_count": 3,
     "metadata": {},
     "output_type": "execute_result"
    }
   ],
   "source": [
    "df # Запускаем блок если хотим видеть датасет на этом этапе."
   ]
  },
  {
   "cell_type": "code",
   "execution_count": 4,
   "metadata": {},
   "outputs": [],
   "source": [
    "df_original = df.copy()"
   ]
  },
  {
   "cell_type": "code",
   "execution_count": 5,
   "metadata": {},
   "outputs": [
    {
     "name": "stderr",
     "output_type": "stream",
     "text": [
      "<ipython-input-5-ff75e56ea46f>:5: SettingWithCopyWarning: \n",
      "A value is trying to be set on a copy of a slice from a DataFrame\n",
      "\n",
      "See the caveats in the documentation: https://pandas.pydata.org/pandas-docs/stable/user_guide/indexing.html#returning-a-view-versus-a-copy\n",
      "  df.distance[i] = geodesic((37.35, 45.0),(df.longitude[i], df.latitude[i])).km\n",
      "<ipython-input-5-ff75e56ea46f>:23: SettingWithCopyWarning: \n",
      "A value is trying to be set on a copy of a slice from a DataFrame\n",
      "\n",
      "See the caveats in the documentation: https://pandas.pydata.org/pandas-docs/stable/user_guide/indexing.html#returning-a-view-versus-a-copy\n",
      "  df.fired_fuel_price[i] = df.duration[i]*1615*31\n",
      "<ipython-input-5-ff75e56ea46f>:21: SettingWithCopyWarning: \n",
      "A value is trying to be set on a copy of a slice from a DataFrame\n",
      "\n",
      "See the caveats in the documentation: https://pandas.pydata.org/pandas-docs/stable/user_guide/indexing.html#returning-a-view-versus-a-copy\n",
      "  df.fired_fuel_price[i] = df.duration[i]*2600*31\n"
     ]
    }
   ],
   "source": [
    "# Нам известны географические координаты аэропорта вылета - Анапы (37.35 с.ш. 45 в.д.) и всех аэропортов прибытия. \n",
    "#Таким образом мы можем рассчитать для каждого рейса расстояние между аэропортом вылета и аэропортом прибытия.\n",
    "df['distance'] = 0.0 # Создаем новый столбец с расстояниями от Анапы до аэропортов прилета и заполняем его нулями\n",
    "for i in range (0, len(df)): # Рассчитываем расстояния для каждого рейса\n",
    "    df.distance[i] = geodesic((37.35, 45.0),(df.longitude[i], df.latitude[i])).km\n",
    "del df['longitude']\n",
    "del df['latitude']# Убираем географические координаты, они были нужны только для рассчета расстояний\n",
    "\n",
    "\n",
    "df.duration = df.duration.apply(lambda x: round((int(x[0:2])+int(x[3:5])/60), 2))# Перевели данные в столбце duration (про\n",
    "#должительность полета) в удобный нам вид для перемножения с часовым расходом топлива)\n",
    "\n",
    "# В интернете я нашел информацию о часовом расходе топлива. Для Sukhoi Superjet 100 это 1615 кг/час, а для Boeing 737-300\n",
    "# это 2600 кг/час. Из интернета узнал цену топлива - 31000 рублей за тонну (31 рубль за килограмм) авиационного керосина \n",
    "# марки ТС-1. Условимся считать, что заправляли этой маркой по этой цене. Зная фактическую продолжительность полета мы можем\n",
    "# посчитать на какую сумму сжигалось топлива в каждом полете.\n",
    "\n",
    "df['fired_fuel_price'] = 0 # Создали заполненный нулями столбец fired_fuel_price куда запишем цену сожженного в полете топлива\n",
    "for i in range (0,len(df)): # Считаем цену сожженного в полете топлива и пишем ее в столбец fired_fuel_price\n",
    "    if df.model[i] == 'Boeing 737-300':\n",
    "        df.fired_fuel_price[i] = df.duration[i]*2600*31\n",
    "    else:\n",
    "        df.fired_fuel_price[i] = df.duration[i]*1615*31\n",
    "    "
   ]
  },
  {
   "cell_type": "code",
   "execution_count": 6,
   "metadata": {},
   "outputs": [],
   "source": [
    "df_backup = df.copy()"
   ]
  },
  {
   "cell_type": "code",
   "execution_count": 7,
   "metadata": {},
   "outputs": [
    {
     "data": {
      "text/plain": [
       "flight_id\n",
       "136119    1653000.0\n",
       "136120    1605400.0\n",
       "136122    1431000.0\n",
       "136130    1556600.0\n",
       "136131    1812800.0\n",
       "            ...    \n",
       "136943     733800.0\n",
       "136951     720600.0\n",
       "136953     765300.0\n",
       "136956     746400.0\n",
       "136961     759000.0\n",
       "Name: amount, Length: 180, dtype: float64"
      ]
     },
     "execution_count": 7,
     "metadata": {},
     "output_type": "execute_result"
    }
   ],
   "source": [
    "#Рассчитаем суммарную стоимость проданных билетов на каждый рейс\n",
    "del df['ticket_no']\n",
    "del df['flight_no']\n",
    "del df['scheduled_departure']\n",
    "del df['duration']\n",
    "del df['status']\n",
    "del df['fare_conditions']\n",
    "del df['model']\n",
    "del df['departure_airport']\n",
    "del df['arrival_airport']\n",
    "del df['airport_name']\n",
    "del df['city']\n",
    "del df['distance']\n",
    "del df['fired_fuel_price']\n",
    "del df['seat_no']\n",
    "del df['boarding_no']\n",
    "s = df.groupby(['flight_id']).sum().amount\n",
    "s# Получили серию s, где для каждого рейса (flight_id) рассчитана суммарная стоимость всех проданных на этот рейс билетов."
   ]
  },
  {
   "cell_type": "code",
   "execution_count": 8,
   "metadata": {},
   "outputs": [],
   "source": [
    "df = df_backup"
   ]
  },
  {
   "cell_type": "code",
   "execution_count": 9,
   "metadata": {},
   "outputs": [
    {
     "name": "stderr",
     "output_type": "stream",
     "text": [
      "<ipython-input-9-cd0ecc1be8a6>:7: SettingWithCopyWarning: \n",
      "A value is trying to be set on a copy of a slice from a DataFrame\n",
      "\n",
      "See the caveats in the documentation: https://pandas.pydata.org/pandas-docs/stable/user_guide/indexing.html#returning-a-view-versus-a-copy\n",
      "  else: df.flight_id[j] = df.flight_id[j]\n",
      "<ipython-input-9-cd0ecc1be8a6>:6: SettingWithCopyWarning: \n",
      "A value is trying to be set on a copy of a slice from a DataFrame\n",
      "\n",
      "See the caveats in the documentation: https://pandas.pydata.org/pandas-docs/stable/user_guide/indexing.html#returning-a-view-versus-a-copy\n",
      "  df.total_ticket_price_for_flight[j] = s[s.index[i]]\n"
     ]
    }
   ],
   "source": [
    "# теперь добавим в наш датасет столбец с суммарной стоимостью всех проданных на рейс билетов. Считается долго!!!\n",
    "df['total_ticket_price_for_flight'] = 0.0# Создаем столбец total_ticket_price_for_flight заполненный нулями\n",
    "for i in range (0, len(s)):\n",
    "    for j in range (0, len(df)):\n",
    "        if s.index[i] == df.flight_id[j]:\n",
    "            df.total_ticket_price_for_flight[j] = s[s.index[i]]\n",
    "        else: df.flight_id[j] = df.flight_id[j]"
   ]
  },
  {
   "cell_type": "code",
   "execution_count": 10,
   "metadata": {},
   "outputs": [],
   "source": [
    "# Теперь, зная для каждого рейса стоимость сожженного топлива и суммарную стоимость проданных билетов мы можем рассчитать\n",
    "# прибыль компании с этого рейса.\n",
    "df['profit_from_flight'] = 0.0 # Создали столбец profit_from_flight заполненный нулями.\n",
    "df.profit_from_flight = df.total_ticket_price_for_flight - df.fired_fuel_price"
   ]
  },
  {
   "cell_type": "code",
   "execution_count": null,
   "metadata": {},
   "outputs": [],
   "source": [
    "df # Запускаем блок если хотим видеть датасет на этом этапе."
   ]
  },
  {
   "cell_type": "code",
   "execution_count": 11,
   "metadata": {},
   "outputs": [],
   "source": [
    "df_full = df.copy()"
   ]
  },
  {
   "cell_type": "code",
   "execution_count": 12,
   "metadata": {},
   "outputs": [
    {
     "data": {
      "text/plain": [
       "PG0252    10210\n",
       "Name: flight_no, dtype: int64"
      ]
     },
     "execution_count": 12,
     "metadata": {},
     "output_type": "execute_result"
    }
   ],
   "source": [
    "# Проверяем по каким маршрутам шли рейсы самолетов Boeing 737-300. \n",
    "df[df.model == 'Boeing 737-300'].flight_no.value_counts()"
   ]
  },
  {
   "cell_type": "code",
   "execution_count": 13,
   "metadata": {},
   "outputs": [
    {
     "data": {
      "text/plain": [
       "PG0480    8141\n",
       "Name: flight_no, dtype: int64"
      ]
     },
     "execution_count": 13,
     "metadata": {},
     "output_type": "execute_result"
    }
   ],
   "source": [
    "# Проверяем по каким маршрутам шли рейсы самолетов Sukhoi Superjet-100. \n",
    "df[df.model == 'Sukhoi Superjet-100'].flight_no.value_counts()"
   ]
  },
  {
   "cell_type": "code",
   "execution_count": 14,
   "metadata": {},
   "outputs": [],
   "source": [
    "# Видно, что все рейсы маршрута Анапа-Москва выполнены самолетами модели Boeing 737-300, а все рейсы маршрута \n",
    "#Анапа-Белгород самолетами Sukhoi Superjet-100. Таким образом нам достаточно посчитать среднее значение прибыли с одного \n",
    "#рейса по каждому направлению (если бы один и тот же маршрут выполнялся разными моделями самолетов, то был бы смысл \n",
    "#группировать рейсы по моделям самолетов и уже в этих группах с уникальной комбинацией маршрута и модели самолета \n",
    "#считать среднее).\n",
    "# Удаляем лишние столбцы\n",
    "del df['ticket_no']\n",
    "del df['flight_id']\n",
    "del df['scheduled_departure']\n",
    "del df['duration']\n",
    "del df['status']\n",
    "del df['seat_no']\n",
    "del df['boarding_no']\n",
    "del df['amount']\n",
    "del df['fare_conditions']\n",
    "del df['departure_airport']\n",
    "del df['airport_name']\n",
    "del df['distance']\n",
    "del df['fired_fuel_price']\n",
    "del df['total_ticket_price_for_flight']"
   ]
  },
  {
   "cell_type": "code",
   "execution_count": 15,
   "metadata": {},
   "outputs": [
    {
     "data": {
      "text/plain": [
       "'PG0252'"
      ]
     },
     "metadata": {},
     "output_type": "display_data"
    },
    {
     "data": {
      "text/plain": [
       "1524773.45"
      ]
     },
     "metadata": {},
     "output_type": "display_data"
    }
   ],
   "source": [
    "#Посчитаем среднюю прибыль с одного рейса PG0252 Анапа-Москва\n",
    "s = df.groupby(['flight_no']).mean().profit_from_flight \n",
    "display(s.index[0])\n",
    "display(round(s[0], 2))"
   ]
  },
  {
   "cell_type": "code",
   "execution_count": 16,
   "metadata": {},
   "outputs": [
    {
     "data": {
      "text/plain": [
       "'PG0480'"
      ]
     },
     "metadata": {},
     "output_type": "display_data"
    },
    {
     "data": {
      "text/plain": [
       "675337.57"
      ]
     },
     "metadata": {},
     "output_type": "display_data"
    }
   ],
   "source": [
    "#Посчитаем среднюю прибыль с одного рейса PG0480 Анапа-Белгород\n",
    "s = df.groupby(['flight_no']).mean().profit_from_flight \n",
    "display(s.index[1])\n",
    "display(round(s[1], 2))"
   ]
  },
  {
   "cell_type": "markdown",
   "metadata": {},
   "source": [
    "Средняя прибыль с одного рейса для маршрута PG0252 Анапа-Москва (Шереметьево), составляет 1524773 рубля 45 копеек, а для маршрута PG0480 Анапа-Белгород 675337 рублей 57 копеек."
   ]
  },
  {
   "cell_type": "code",
   "execution_count": 17,
   "metadata": {},
   "outputs": [
    {
     "data": {
      "text/html": [
       "<div>\n",
       "<style scoped>\n",
       "    .dataframe tbody tr th:only-of-type {\n",
       "        vertical-align: middle;\n",
       "    }\n",
       "\n",
       "    .dataframe tbody tr th {\n",
       "        vertical-align: top;\n",
       "    }\n",
       "\n",
       "    .dataframe thead th {\n",
       "        text-align: right;\n",
       "    }\n",
       "</style>\n",
       "<table border=\"1\" class=\"dataframe\">\n",
       "  <thead>\n",
       "    <tr style=\"text-align: right;\">\n",
       "      <th></th>\n",
       "      <th>ticket_no</th>\n",
       "      <th>flight_id</th>\n",
       "      <th>flight_no</th>\n",
       "      <th>scheduled_departure</th>\n",
       "      <th>duration</th>\n",
       "      <th>status</th>\n",
       "      <th>seat_no</th>\n",
       "      <th>boarding_no</th>\n",
       "      <th>amount</th>\n",
       "      <th>fare_conditions</th>\n",
       "      <th>model</th>\n",
       "      <th>departure_airport</th>\n",
       "      <th>arrival_airport</th>\n",
       "      <th>airport_name</th>\n",
       "      <th>city</th>\n",
       "      <th>distance</th>\n",
       "      <th>fired_fuel_price</th>\n",
       "      <th>total_ticket_price_for_flight</th>\n",
       "      <th>profit_from_flight</th>\n",
       "    </tr>\n",
       "  </thead>\n",
       "  <tbody>\n",
       "    <tr>\n",
       "      <th>0</th>\n",
       "      <td>5432320828</td>\n",
       "      <td>136612</td>\n",
       "      <td>PG0480</td>\n",
       "      <td>2017-02-21 09:25:00+00</td>\n",
       "      <td>0.83</td>\n",
       "      <td>Arrived</td>\n",
       "      <td>6C</td>\n",
       "      <td>6</td>\n",
       "      <td>6900.0</td>\n",
       "      <td>Economy</td>\n",
       "      <td>Sukhoi Superjet-100</td>\n",
       "      <td>AAQ</td>\n",
       "      <td>EGO</td>\n",
       "      <td>Belgorod International Airport</td>\n",
       "      <td>Belgorod</td>\n",
       "      <td>509.505056</td>\n",
       "      <td>41553</td>\n",
       "      <td>746400.0</td>\n",
       "      <td>704847.0</td>\n",
       "    </tr>\n",
       "    <tr>\n",
       "      <th>1</th>\n",
       "      <td>5432374656</td>\n",
       "      <td>136609</td>\n",
       "      <td>PG0480</td>\n",
       "      <td>2017-01-08 09:25:00+00</td>\n",
       "      <td>0.83</td>\n",
       "      <td>Arrived</td>\n",
       "      <td>6C</td>\n",
       "      <td>54</td>\n",
       "      <td>6900.0</td>\n",
       "      <td>Economy</td>\n",
       "      <td>Sukhoi Superjet-100</td>\n",
       "      <td>AAQ</td>\n",
       "      <td>EGO</td>\n",
       "      <td>Belgorod International Airport</td>\n",
       "      <td>Belgorod</td>\n",
       "      <td>509.505056</td>\n",
       "      <td>41553</td>\n",
       "      <td>639300.0</td>\n",
       "      <td>597747.0</td>\n",
       "    </tr>\n",
       "    <tr>\n",
       "      <th>2</th>\n",
       "      <td>5432848786</td>\n",
       "      <td>136800</td>\n",
       "      <td>PG0480</td>\n",
       "      <td>2016-12-09 09:25:00+00</td>\n",
       "      <td>0.85</td>\n",
       "      <td>Arrived</td>\n",
       "      <td>6C</td>\n",
       "      <td>55</td>\n",
       "      <td>6900.0</td>\n",
       "      <td>Economy</td>\n",
       "      <td>Sukhoi Superjet-100</td>\n",
       "      <td>AAQ</td>\n",
       "      <td>EGO</td>\n",
       "      <td>Belgorod International Airport</td>\n",
       "      <td>Belgorod</td>\n",
       "      <td>509.505056</td>\n",
       "      <td>42555</td>\n",
       "      <td>645000.0</td>\n",
       "      <td>602445.0</td>\n",
       "    </tr>\n",
       "    <tr>\n",
       "      <th>3</th>\n",
       "      <td>5432376664</td>\n",
       "      <td>136844</td>\n",
       "      <td>PG0480</td>\n",
       "      <td>2017-02-28 09:25:00+00</td>\n",
       "      <td>0.83</td>\n",
       "      <td>Arrived</td>\n",
       "      <td>6C</td>\n",
       "      <td>78</td>\n",
       "      <td>6900.0</td>\n",
       "      <td>Economy</td>\n",
       "      <td>Sukhoi Superjet-100</td>\n",
       "      <td>AAQ</td>\n",
       "      <td>EGO</td>\n",
       "      <td>Belgorod International Airport</td>\n",
       "      <td>Belgorod</td>\n",
       "      <td>509.505056</td>\n",
       "      <td>41553</td>\n",
       "      <td>575100.0</td>\n",
       "      <td>533547.0</td>\n",
       "    </tr>\n",
       "    <tr>\n",
       "      <th>4</th>\n",
       "      <td>5432375495</td>\n",
       "      <td>136869</td>\n",
       "      <td>PG0480</td>\n",
       "      <td>2017-01-31 09:25:00+00</td>\n",
       "      <td>0.83</td>\n",
       "      <td>Arrived</td>\n",
       "      <td>6C</td>\n",
       "      <td>88</td>\n",
       "      <td>6900.0</td>\n",
       "      <td>Economy</td>\n",
       "      <td>Sukhoi Superjet-100</td>\n",
       "      <td>AAQ</td>\n",
       "      <td>EGO</td>\n",
       "      <td>Belgorod International Airport</td>\n",
       "      <td>Belgorod</td>\n",
       "      <td>509.505056</td>\n",
       "      <td>41553</td>\n",
       "      <td>765300.0</td>\n",
       "      <td>723747.0</td>\n",
       "    </tr>\n",
       "    <tr>\n",
       "      <th>...</th>\n",
       "      <td>...</td>\n",
       "      <td>...</td>\n",
       "      <td>...</td>\n",
       "      <td>...</td>\n",
       "      <td>...</td>\n",
       "      <td>...</td>\n",
       "      <td>...</td>\n",
       "      <td>...</td>\n",
       "      <td>...</td>\n",
       "      <td>...</td>\n",
       "      <td>...</td>\n",
       "      <td>...</td>\n",
       "      <td>...</td>\n",
       "      <td>...</td>\n",
       "      <td>...</td>\n",
       "      <td>...</td>\n",
       "      <td>...</td>\n",
       "      <td>...</td>\n",
       "      <td>...</td>\n",
       "    </tr>\n",
       "    <tr>\n",
       "      <th>18346</th>\n",
       "      <td>5432375779</td>\n",
       "      <td>136600</td>\n",
       "      <td>PG0480</td>\n",
       "      <td>2017-02-08 09:25:00+00</td>\n",
       "      <td>0.83</td>\n",
       "      <td>Arrived</td>\n",
       "      <td>6C</td>\n",
       "      <td>18</td>\n",
       "      <td>6900.0</td>\n",
       "      <td>Economy</td>\n",
       "      <td>Sukhoi Superjet-100</td>\n",
       "      <td>AAQ</td>\n",
       "      <td>EGO</td>\n",
       "      <td>Belgorod International Airport</td>\n",
       "      <td>Belgorod</td>\n",
       "      <td>509.505056</td>\n",
       "      <td>41553</td>\n",
       "      <td>765300.0</td>\n",
       "      <td>723747.0</td>\n",
       "    </tr>\n",
       "    <tr>\n",
       "      <th>18347</th>\n",
       "      <td>5432320217</td>\n",
       "      <td>136666</td>\n",
       "      <td>PG0480</td>\n",
       "      <td>2017-02-09 09:25:00+00</td>\n",
       "      <td>0.83</td>\n",
       "      <td>Arrived</td>\n",
       "      <td>6C</td>\n",
       "      <td>4</td>\n",
       "      <td>6900.0</td>\n",
       "      <td>Economy</td>\n",
       "      <td>Sukhoi Superjet-100</td>\n",
       "      <td>AAQ</td>\n",
       "      <td>EGO</td>\n",
       "      <td>Belgorod International Airport</td>\n",
       "      <td>Belgorod</td>\n",
       "      <td>509.505056</td>\n",
       "      <td>41553</td>\n",
       "      <td>664500.0</td>\n",
       "      <td>622947.0</td>\n",
       "    </tr>\n",
       "    <tr>\n",
       "      <th>18348</th>\n",
       "      <td>5432320465</td>\n",
       "      <td>136605</td>\n",
       "      <td>PG0480</td>\n",
       "      <td>2017-02-15 09:25:00+00</td>\n",
       "      <td>0.85</td>\n",
       "      <td>Arrived</td>\n",
       "      <td>6C</td>\n",
       "      <td>95</td>\n",
       "      <td>6900.0</td>\n",
       "      <td>Economy</td>\n",
       "      <td>Sukhoi Superjet-100</td>\n",
       "      <td>AAQ</td>\n",
       "      <td>EGO</td>\n",
       "      <td>Belgorod International Airport</td>\n",
       "      <td>Belgorod</td>\n",
       "      <td>509.505056</td>\n",
       "      <td>42555</td>\n",
       "      <td>765300.0</td>\n",
       "      <td>722745.0</td>\n",
       "    </tr>\n",
       "    <tr>\n",
       "      <th>18349</th>\n",
       "      <td>5432320534</td>\n",
       "      <td>136827</td>\n",
       "      <td>PG0480</td>\n",
       "      <td>2017-02-18 09:25:00+00</td>\n",
       "      <td>0.85</td>\n",
       "      <td>Arrived</td>\n",
       "      <td>6C</td>\n",
       "      <td>24</td>\n",
       "      <td>6900.0</td>\n",
       "      <td>Economy</td>\n",
       "      <td>Sukhoi Superjet-100</td>\n",
       "      <td>AAQ</td>\n",
       "      <td>EGO</td>\n",
       "      <td>Belgorod International Airport</td>\n",
       "      <td>Belgorod</td>\n",
       "      <td>509.505056</td>\n",
       "      <td>42555</td>\n",
       "      <td>765300.0</td>\n",
       "      <td>722745.0</td>\n",
       "    </tr>\n",
       "    <tr>\n",
       "      <th>18350</th>\n",
       "      <td>5432374243</td>\n",
       "      <td>136801</td>\n",
       "      <td>PG0480</td>\n",
       "      <td>2016-12-30 09:25:00+00</td>\n",
       "      <td>0.83</td>\n",
       "      <td>Arrived</td>\n",
       "      <td>6C</td>\n",
       "      <td>87</td>\n",
       "      <td>6900.0</td>\n",
       "      <td>Economy</td>\n",
       "      <td>Sukhoi Superjet-100</td>\n",
       "      <td>AAQ</td>\n",
       "      <td>EGO</td>\n",
       "      <td>Belgorod International Airport</td>\n",
       "      <td>Belgorod</td>\n",
       "      <td>509.505056</td>\n",
       "      <td>41553</td>\n",
       "      <td>765300.0</td>\n",
       "      <td>723747.0</td>\n",
       "    </tr>\n",
       "  </tbody>\n",
       "</table>\n",
       "<p>18351 rows × 19 columns</p>\n",
       "</div>"
      ],
      "text/plain": [
       "        ticket_no  flight_id flight_no     scheduled_departure  duration  \\\n",
       "0      5432320828     136612    PG0480  2017-02-21 09:25:00+00      0.83   \n",
       "1      5432374656     136609    PG0480  2017-01-08 09:25:00+00      0.83   \n",
       "2      5432848786     136800    PG0480  2016-12-09 09:25:00+00      0.85   \n",
       "3      5432376664     136844    PG0480  2017-02-28 09:25:00+00      0.83   \n",
       "4      5432375495     136869    PG0480  2017-01-31 09:25:00+00      0.83   \n",
       "...           ...        ...       ...                     ...       ...   \n",
       "18346  5432375779     136600    PG0480  2017-02-08 09:25:00+00      0.83   \n",
       "18347  5432320217     136666    PG0480  2017-02-09 09:25:00+00      0.83   \n",
       "18348  5432320465     136605    PG0480  2017-02-15 09:25:00+00      0.85   \n",
       "18349  5432320534     136827    PG0480  2017-02-18 09:25:00+00      0.85   \n",
       "18350  5432374243     136801    PG0480  2016-12-30 09:25:00+00      0.83   \n",
       "\n",
       "        status seat_no  boarding_no  amount fare_conditions  \\\n",
       "0      Arrived      6C            6  6900.0         Economy   \n",
       "1      Arrived      6C           54  6900.0         Economy   \n",
       "2      Arrived      6C           55  6900.0         Economy   \n",
       "3      Arrived      6C           78  6900.0         Economy   \n",
       "4      Arrived      6C           88  6900.0         Economy   \n",
       "...        ...     ...          ...     ...             ...   \n",
       "18346  Arrived      6C           18  6900.0         Economy   \n",
       "18347  Arrived      6C            4  6900.0         Economy   \n",
       "18348  Arrived      6C           95  6900.0         Economy   \n",
       "18349  Arrived      6C           24  6900.0         Economy   \n",
       "18350  Arrived      6C           87  6900.0         Economy   \n",
       "\n",
       "                     model departure_airport arrival_airport  \\\n",
       "0      Sukhoi Superjet-100               AAQ             EGO   \n",
       "1      Sukhoi Superjet-100               AAQ             EGO   \n",
       "2      Sukhoi Superjet-100               AAQ             EGO   \n",
       "3      Sukhoi Superjet-100               AAQ             EGO   \n",
       "4      Sukhoi Superjet-100               AAQ             EGO   \n",
       "...                    ...               ...             ...   \n",
       "18346  Sukhoi Superjet-100               AAQ             EGO   \n",
       "18347  Sukhoi Superjet-100               AAQ             EGO   \n",
       "18348  Sukhoi Superjet-100               AAQ             EGO   \n",
       "18349  Sukhoi Superjet-100               AAQ             EGO   \n",
       "18350  Sukhoi Superjet-100               AAQ             EGO   \n",
       "\n",
       "                         airport_name      city    distance  fired_fuel_price  \\\n",
       "0      Belgorod International Airport  Belgorod  509.505056             41553   \n",
       "1      Belgorod International Airport  Belgorod  509.505056             41553   \n",
       "2      Belgorod International Airport  Belgorod  509.505056             42555   \n",
       "3      Belgorod International Airport  Belgorod  509.505056             41553   \n",
       "4      Belgorod International Airport  Belgorod  509.505056             41553   \n",
       "...                               ...       ...         ...               ...   \n",
       "18346  Belgorod International Airport  Belgorod  509.505056             41553   \n",
       "18347  Belgorod International Airport  Belgorod  509.505056             41553   \n",
       "18348  Belgorod International Airport  Belgorod  509.505056             42555   \n",
       "18349  Belgorod International Airport  Belgorod  509.505056             42555   \n",
       "18350  Belgorod International Airport  Belgorod  509.505056             41553   \n",
       "\n",
       "       total_ticket_price_for_flight  profit_from_flight  \n",
       "0                           746400.0            704847.0  \n",
       "1                           639300.0            597747.0  \n",
       "2                           645000.0            602445.0  \n",
       "3                           575100.0            533547.0  \n",
       "4                           765300.0            723747.0  \n",
       "...                              ...                 ...  \n",
       "18346                       765300.0            723747.0  \n",
       "18347                       664500.0            622947.0  \n",
       "18348                       765300.0            722745.0  \n",
       "18349                       765300.0            722745.0  \n",
       "18350                       765300.0            723747.0  \n",
       "\n",
       "[18351 rows x 19 columns]"
      ]
     },
     "execution_count": 17,
     "metadata": {},
     "output_type": "execute_result"
    }
   ],
   "source": [
    "df_full# Выведем наш итоговый датасет, полученный после дополнения оригинального датасета всеми данными и \n",
    "#выполнения рассчета всех параметров."
   ]
  },
  {
   "cell_type": "code",
   "execution_count": null,
   "metadata": {},
   "outputs": [],
   "source": []
  }
 ],
 "metadata": {
  "kernelspec": {
   "display_name": "Python 3",
   "language": "python",
   "name": "python3"
  },
  "language_info": {
   "codemirror_mode": {
    "name": "ipython",
    "version": 3
   },
   "file_extension": ".py",
   "mimetype": "text/x-python",
   "name": "python",
   "nbconvert_exporter": "python",
   "pygments_lexer": "ipython3",
   "version": "3.8.5"
  }
 },
 "nbformat": 4,
 "nbformat_minor": 4
}
